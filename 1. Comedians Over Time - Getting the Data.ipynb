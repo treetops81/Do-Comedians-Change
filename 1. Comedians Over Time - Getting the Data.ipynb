{
 "cells": [
  {
   "cell_type": "markdown",
   "id": "3df68848",
   "metadata": {},
   "source": [
    " # Comedian Stand Up Analysis"
   ]
  },
  {
   "cell_type": "markdown",
   "id": "310f868a",
   "metadata": {},
   "source": [
    "## How much do comedians stand up sets change over time?"
   ]
  },
  {
   "cell_type": "markdown",
   "id": "7f2b7339",
   "metadata": {},
   "source": [
    "I will be analysing 3 stand up routines for 5 very different comedians, to see if they tend to change over time or stick to a specific style/topic."
   ]
  },
  {
   "cell_type": "code",
   "execution_count": 31,
   "id": "707202c0",
   "metadata": {},
   "outputs": [],
   "source": [
    "# Installing packages for web scraping, pickle imports, regular expressions\n",
    "import requests\n",
    "from bs4 import BeautifulSoup\n",
    "import pickle\n",
    "import re\n",
    "import string\n",
    "import pandas as pd"
   ]
  },
  {
   "cell_type": "markdown",
   "id": "ec3e0335",
   "metadata": {},
   "source": [
    "I now need to obtain some information about the routines:\n",
    " - Transcript\n",
    " - Run time\n",
    " - IMDB information"
   ]
  },
  {
   "cell_type": "code",
   "execution_count": 32,
   "id": "6a2493b6",
   "metadata": {},
   "outputs": [],
   "source": [
    "# Function for scraping transcript data from scrapsfromtheloft.com\n",
    "def url_to_transcript(url):\n",
    "    '''Returns transcript data specifically from scrapsfromtheloft.com.'''\n",
    "    page = requests.get(url).text\n",
    "    soup = BeautifulSoup(page, \"lxml\")\n",
    "    soup_list = soup.find_all(class_=\"elementor-widget-container\") \n",
    "                    # our data is in this HTML class, but unfortunately so is other stuff\n",
    "    text = []\n",
    "    for x in range(len(soup_list)):\n",
    "        if soup_list[x].p is not None:\n",
    "            for var in (soup_list[x].find_all('p',class_='')): # find all text in our HTML class and add each section to a list\n",
    "                text.append(''.join(var.findAll(text=True)))\n",
    "    text_list = text[:len(text)-4] # the last 4 elements in this list are advertisements, so remove them\n",
    "    text_str = \"\".join(text_list)\n",
    "    return text_str\n",
    "    print(url)\n",
    "    return text"
   ]
  },
  {
   "cell_type": "code",
   "execution_count": 33,
   "id": "c40ed792",
   "metadata": {},
   "outputs": [],
   "source": [
    "#Provide the links and show names\n",
    "urls = ['https://scrapsfromtheloft.com/2020/12/20/bo-burnham-words-words-words-transcript/'\n",
    "        ,'https://scrapsfromtheloft.com/2017/08/07/bo-burnham-what-transcript/'\n",
    "        ,'https://scrapsfromtheloft.com/2017/08/06/bo-burnham-make-happy-2016-full-transcript/'\n",
    "        ,'https://scrapsfromtheloft.com/2017/09/25/john-mulaney-new-in-town-2012-full-transcript/'\n",
    "        ,'https://scrapsfromtheloft.com/2017/08/02/john-mulaney-comeback-kid-2015-full-transcript/'\n",
    "        ,'https://scrapsfromtheloft.com/2018/05/05/john-mulaney-kid-gorgeous-at-radio-city-full-transcript/'\n",
    "        ,'https://scrapsfromtheloft.com/2017/12/16/ricky-gervais-live-2-politics-2004-full-transcript/'\n",
    "        ,'https://scrapsfromtheloft.com/2018/07/18/ricky-gervais-live-iv-science-transcript/'\n",
    "        ,'https://scrapsfromtheloft.com/2018/03/15/ricky-gervais-humanity-transcript/'\n",
    "        ,'https://scrapsfromtheloft.com/2019/12/21/kevin-bridges-story-so-far-live-glasgow-transcript/'\n",
    "        ,'https://scrapsfromtheloft.com/2019/12/21/kevin-bridges-the-story-continues-transcript/'\n",
    "        ,'https://scrapsfromtheloft.com/2019/12/22/kevin-bridges-whole-different-story-transcript/'\n",
    "        ,'https://scrapsfromtheloft.com/2017/08/30/aziz-ansari-intimate-moments-sensual-evening-2010-full-transcript/'\n",
    "        ,'https://scrapsfromtheloft.com/2017/12/07/aziz-ansari-live-in-madison-square-garden-2015-full-transcript/'\n",
    "        ,'https://scrapsfromtheloft.com/2019/07/10/aziz-ansari-right-now-transcript/']\n",
    "\n",
    "shows = ['Bo Burnham - Words Words Words','Bo Burnham - What','Bo Burnham - Make Happy'\n",
    "         ,'John Mulaney - New in Town','John Mulaney - Comeback Kid','John Mulaney - Kid Gorgeous','Ricky Gervais - Politics'\n",
    "         ,'Ricky Gervais - Science','Ricky Gervais - Humanity','Kevin Bridges - Story So Far','Kevin Bridges - The Story Continues'\n",
    "         ,'Kevin Bridges - Whole Different Story','Aziz Ansari - Intimate Moments Sensual Evening','Aziz Ansari - Madison Square Garden'\n",
    "         ,'Aziz Ansari - Right Now']"
   ]
  },
  {
   "cell_type": "code",
   "execution_count": 34,
   "id": "94b5a830",
   "metadata": {
    "scrolled": true
   },
   "outputs": [
    {
     "data": {
      "text/plain": [
       "'(Cheers and applause)Thank you.(Laughter)When I say hey, you say ho.Hey.Ho!Hey.Ho!That’s basically how Hitler rose to power.(Laughter, soft piano music plays)♫ My show is a little bit silly ♫♫ And a little bit pretentious ♫♫ Like Shakespeare’s willie ♫♫ Or Noam Chomsky wearing a strap-on ♫♫ It’s also a little bit gay ♫♫ And a little bit offensive ♫♫ Like thanksgiving day ♫♫ Or Noam Chomsky wearing a strap… On ♫♫ So put your cell phones to vibrate ♫♫ And put your vibrators to cell-phone mode ♫♫ And welcome to the show ♫♫ It goes a little bit like this–joke ♫♫ Exactly, welcome to my flow ♫♫ It flows a little bit like this ♫♫ With a rap and a diss ♫♫ Then a swift rap on the wrist a rap and a kiss ♫♫ Like Hershey’s wrappin’ a kiss, shit ♫♫ I got a show that’ll test your kids ♫♫ And I’d ask one question, and the question is ♫♫ What’s funny? ♫♫ What’s funny, what’s funny, what’s funny? ♫♫ What’s funny, what’s funny, what’s funny? ♫♫ Funny, fu-funny ♫♫ What’s funny ♫♫ What’s funny, what’s fun'"
      ]
     },
     "execution_count": 34,
     "metadata": {},
     "output_type": "execute_result"
    }
   ],
   "source": [
    "# Actually scrape the transcripts (takes a few minutes to run)\n",
    "transcripts = [url_to_transcript(u) for u in urls]\n",
    "transcripts[0][:1000]"
   ]
  },
  {
   "cell_type": "code",
   "execution_count": 35,
   "id": "b6ab053e",
   "metadata": {},
   "outputs": [],
   "source": [
    "# Obtained from IMBD\n",
    "run_time = [63, 60, 60, 60, 62, 65, 68, 86, 79, 120, 73, 85, 56, 58, 65]\n",
    "IMBD_rating = [8.2, 8.5, 8.4, 8.3, 8, 8, 7.8, 7.8, 8, 7.8, 7.6, 7.7 , 7.2, 6.7, 7.5]\n",
    "IMBD_ratings_number = [2731, 7555, 9087, 5735, 7352, 6581, 3302, 2052, 15736, 292, 266, 206, 2334, 2991, 4453]\n",
    "year_released = [2010, 2013, 2016, 2012, 2015, 2018, 2004, 2010, 2018, 2010, 2012, 2015, 2010, 2015, 2019]"
   ]
  },
  {
   "cell_type": "markdown",
   "id": "50e40620",
   "metadata": {},
   "source": [
    "We can see from an extract of a transcript that there are descriptions within brackets and some uncommon characters. To do futher analysis on the data, we need to add the data to a dataframe."
   ]
  },
  {
   "cell_type": "code",
   "execution_count": 36,
   "id": "06e745fc",
   "metadata": {},
   "outputs": [
    {
     "data": {
      "text/html": [
       "<div>\n",
       "<style scoped>\n",
       "    .dataframe tbody tr th:only-of-type {\n",
       "        vertical-align: middle;\n",
       "    }\n",
       "\n",
       "    .dataframe tbody tr th {\n",
       "        vertical-align: top;\n",
       "    }\n",
       "\n",
       "    .dataframe thead th {\n",
       "        text-align: right;\n",
       "    }\n",
       "</style>\n",
       "<table border=\"1\" class=\"dataframe\">\n",
       "  <thead>\n",
       "    <tr style=\"text-align: right;\">\n",
       "      <th></th>\n",
       "      <th>sketch_text</th>\n",
       "      <th>run_time</th>\n",
       "      <th>IMBD_rating</th>\n",
       "      <th>IMBD_ratings_number</th>\n",
       "      <th>year_released</th>\n",
       "    </tr>\n",
       "  </thead>\n",
       "  <tbody>\n",
       "    <tr>\n",
       "      <th>Bo Burnham - Words Words Words</th>\n",
       "      <td>(Cheers and applause)Thank you.(Laughter)When I say hey, you say ho.Hey.Ho!Hey.Ho!That’s basically how Hitler rose to power.(Laughter, soft piano ...</td>\n",
       "      <td>63</td>\n",
       "      <td>8.2</td>\n",
       "      <td>2731</td>\n",
       "      <td>2010</td>\n",
       "    </tr>\n",
       "    <tr>\n",
       "      <th>Bo Burnham - What</th>\n",
       "      <td>Bo What? Old MacDonald had a farm E I E I O And on that farm he had a pig E I E I O Here a snort There a Old MacDonald had a farm E I E I O [Appla...</td>\n",
       "      <td>60</td>\n",
       "      <td>8.5</td>\n",
       "      <td>7555</td>\n",
       "      <td>2013</td>\n",
       "    </tr>\n",
       "    <tr>\n",
       "      <th>Bo Burnham - Make Happy</th>\n",
       "      <td>[woman on TV] That has been, really, a difficult thing for me. My mother has always been a very difficult person all her life. Very unhappy. I can...</td>\n",
       "      <td>60</td>\n",
       "      <td>8.4</td>\n",
       "      <td>9087</td>\n",
       "      <td>2016</td>\n",
       "    </tr>\n",
       "    <tr>\n",
       "      <th>John Mulaney - New in Town</th>\n",
       "      <td>[funky 90’s beat and cityscape pan][singing] ♬ New in town,[John Mulaney jumps out of apartment with rolled up papers]♬ John Mulaney’s New In Town...</td>\n",
       "      <td>60</td>\n",
       "      <td>8.3</td>\n",
       "      <td>5735</td>\n",
       "      <td>2012</td>\n",
       "    </tr>\n",
       "    <tr>\n",
       "      <th>John Mulaney - Comeback Kid</th>\n",
       "      <td>Armed with boyish charm and a sharp wit, the former “SNL” writer John Mulaney offers sly takes on marriage, his beef with babies and the time he m...</td>\n",
       "      <td>62</td>\n",
       "      <td>8.0</td>\n",
       "      <td>7352</td>\n",
       "      <td>2015</td>\n",
       "    </tr>\n",
       "  </tbody>\n",
       "</table>\n",
       "</div>"
      ],
      "text/plain": [
       "                                                                                                                                                                          sketch_text  \\\n",
       "Bo Burnham - Words Words Words  (Cheers and applause)Thank you.(Laughter)When I say hey, you say ho.Hey.Ho!Hey.Ho!That’s basically how Hitler rose to power.(Laughter, soft piano ...   \n",
       "Bo Burnham - What               Bo What? Old MacDonald had a farm E I E I O And on that farm he had a pig E I E I O Here a snort There a Old MacDonald had a farm E I E I O [Appla...   \n",
       "Bo Burnham - Make Happy         [woman on TV] That has been, really, a difficult thing for me. My mother has always been a very difficult person all her life. Very unhappy. I can...   \n",
       "John Mulaney - New in Town      [funky 90’s beat and cityscape pan][singing] ♬ New in town,[John Mulaney jumps out of apartment with rolled up papers]♬ John Mulaney’s New In Town...   \n",
       "John Mulaney - Comeback Kid     Armed with boyish charm and a sharp wit, the former “SNL” writer John Mulaney offers sly takes on marriage, his beef with babies and the time he m...   \n",
       "\n",
       "                                run_time  IMBD_rating  IMBD_ratings_number  \\\n",
       "Bo Burnham - Words Words Words        63          8.2                 2731   \n",
       "Bo Burnham - What                     60          8.5                 7555   \n",
       "Bo Burnham - Make Happy               60          8.4                 9087   \n",
       "John Mulaney - New in Town            60          8.3                 5735   \n",
       "John Mulaney - Comeback Kid           62          8.0                 7352   \n",
       "\n",
       "                                year_released  \n",
       "Bo Burnham - Words Words Words           2010  \n",
       "Bo Burnham - What                        2013  \n",
       "Bo Burnham - Make Happy                  2016  \n",
       "John Mulaney - New in Town               2012  \n",
       "John Mulaney - Comeback Kid              2015  "
      ]
     },
     "execution_count": 36,
     "metadata": {},
     "output_type": "execute_result"
    }
   ],
   "source": [
    "#Put the data into a dataframe \n",
    "pd.set_option('max_colwidth',150)\n",
    "df = pd.DataFrame(transcripts, columns=['sketch_text'],index=shows)\n",
    "df['run_time'] = run_time\n",
    "df['IMBD_rating'] = IMBD_rating\n",
    "df['IMBD_ratings_number'] = IMBD_ratings_number\n",
    "df['year_released'] = year_released\n",
    "df.head()"
   ]
  },
  {
   "cell_type": "markdown",
   "id": "cb6d2c30",
   "metadata": {},
   "source": [
    "Now that we've collected our data, we can save it for later convienetly by using pickle. I'm saving our transcript texts in case our website changes and our working dataframe."
   ]
  },
  {
   "cell_type": "code",
   "execution_count": 37,
   "id": "facdb396",
   "metadata": {},
   "outputs": [
    {
     "name": "stderr",
     "output_type": "stream",
     "text": [
      "A subdirectory or file transcripts already exists.\n"
     ]
    }
   ],
   "source": [
    "!mkdir transcripts\n",
    "\n",
    "for i, show in enumerate(shows):\n",
    "    with open(\"transcripts/\" + show + \".txt\", \"wb\") as file:\n",
    "        pickle.dump(transcripts[i], file)"
   ]
  },
  {
   "cell_type": "code",
   "execution_count": 38,
   "id": "fcea8762",
   "metadata": {},
   "outputs": [
    {
     "name": "stderr",
     "output_type": "stream",
     "text": [
      "A subdirectory or file data_files already exists.\n"
     ]
    }
   ],
   "source": [
    "!mkdir data_files\n",
    "\n",
    "outfile = open('data_files/comedian_data_df','wb')\n",
    "pickle.dump(df,outfile)\n",
    "outfile.close()"
   ]
  }
 ],
 "metadata": {
  "kernelspec": {
   "display_name": "Python 3",
   "language": "python",
   "name": "python3"
  },
  "language_info": {
   "codemirror_mode": {
    "name": "ipython",
    "version": 3
   },
   "file_extension": ".py",
   "mimetype": "text/x-python",
   "name": "python",
   "nbconvert_exporter": "python",
   "pygments_lexer": "ipython3",
   "version": "3.7.3"
  }
 },
 "nbformat": 4,
 "nbformat_minor": 5
}
