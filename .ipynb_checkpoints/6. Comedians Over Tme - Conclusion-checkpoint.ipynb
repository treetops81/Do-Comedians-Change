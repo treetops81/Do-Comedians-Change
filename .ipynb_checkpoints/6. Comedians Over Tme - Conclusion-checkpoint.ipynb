{
 "cells": [
  {
   "cell_type": "markdown",
   "id": "ca52e82e",
   "metadata": {},
   "source": [
    "# Conclusion"
   ]
  },
  {
   "cell_type": "markdown",
   "id": "1afdcd2c",
   "metadata": {},
   "source": [
    "We have analysed the comedian sketches in a mutitude of ways, with some general analysis, sentiment analysis and finally topic modelling. To answer our question we will need to collate the results together for each comedian and see if there is a trend between them."
   ]
  },
  {
   "cell_type": "markdown",
   "id": "c724a9bd",
   "metadata": {},
   "source": [
    "Full breakdown of analysis below but it looks like most of our comedians have themes in their routines and how they are delivered that don't change over time. However, all of them have things that change over time as the comedians themselves evolve. Our one exception to this is Kevin Bridges, whose routines change dramatically each time he does a show.\n",
    "\n",
    "Overall I would say that comedians do evolve over time, but normally only one aspect of their delivery (and the required change to course content over time)."
   ]
  },
  {
   "cell_type": "markdown",
   "id": "3de9f1aa",
   "metadata": {},
   "source": [
    "## Bo Burnham"
   ]
  },
  {
   "cell_type": "markdown",
   "id": "4953148b",
   "metadata": {},
   "source": [
    "### Wordclouds\n",
    "In our word clouds, we could see the topics of Love & Art (Song, Joke, Artist etc). Each show would have different song lyrics that dominated which makes sense as the songs are different in each show."
   ]
  },
  {
   "cell_type": "markdown",
   "id": "fe49217f",
   "metadata": {},
   "source": [
    "### Word Analysis\n",
    "Bo drastically reduces the number of unique words from his 1st to 2nd & 3rd shows (by about 25%). For his later shows his vocabulary is the smallest of all the comedians, probably given due to the repition of songs compared to jokes. \n",
    "Mirroring this, he also uses the least amount of words in total of our comedians, and has one of the lowest words per hour."
   ]
  },
  {
   "cell_type": "markdown",
   "id": "6dd284e8",
   "metadata": {},
   "source": [
    "### Profanity\n",
    "Bo increases the amount he swears in his later shows, doubling his use of f-words with a small increase in s-words used."
   ]
  },
  {
   "cell_type": "markdown",
   "id": "9287d1bc",
   "metadata": {},
   "source": [
    "### Sentiment Analysis\n",
    "Bo's shows are generally positive overall with scores around 0.06, just above average for our comedians. His shows are the most highly skewed towards opinions rather than facts.\n",
    "He also has a common theme of ending his shows on a negative followed by very positive show parts, with the last 10th of the show always being the most positive."
   ]
  },
  {
   "cell_type": "markdown",
   "id": "2ac9baea",
   "metadata": {},
   "source": [
    "### Topic Modelling\n",
    "Bo's shows mostly fall into three topics (1,2,5). There is not much differentiation between each show in topic.\n",
    "\n",
    "From the LDAvis\n",
    "- Topic 1 is mainly family and friends\n",
    "- Topic 2 is relationships / dates\n",
    "- Topic 5 is religion / usually taboo topics for comedy"
   ]
  },
  {
   "cell_type": "markdown",
   "id": "0651bfdc",
   "metadata": {},
   "source": [
    "## John Mulaney"
   ]
  },
  {
   "cell_type": "markdown",
   "id": "eb3310b8",
   "metadata": {},
   "source": [
    "### Wordclouds\n",
    "John's wordclouds look very distinct. The only obvious overlap is family, though this changes from biological family to wife and children throughout the shows."
   ]
  },
  {
   "cell_type": "markdown",
   "id": "00c9fc0b",
   "metadata": {},
   "source": [
    "### Word Analysis\n",
    "John consistently uses around 1350-1400 unique words in all 3 of his shows, just below average. Again his show seems very consitent in total words and words per minute, indicating a very particular style of joke delivery."
   ]
  },
  {
   "cell_type": "markdown",
   "id": "9f5400ae",
   "metadata": {},
   "source": [
    "### Profanity\n",
    "John uses the least amount of profanity compared to any of our other comedians, maxing out at around 30 swear words in an entire set."
   ]
  },
  {
   "cell_type": "markdown",
   "id": "95d6ef9d",
   "metadata": {},
   "source": [
    "### Sentiment Analysis\n",
    "John's shows are fairly positive. There has been a moderate shift from his first to later shows, becoming the most fact based skewed shows and a positivity score of 0.07. In contrast to Bo, John seems to end each show on a more neutral note than the previous show section and starts on a very positive note."
   ]
  },
  {
   "cell_type": "markdown",
   "id": "353c0ab0",
   "metadata": {},
   "source": [
    "### Topic Modelling\n",
    "Johns's shows mostly fall into two topics (1 and 7). There is not much differentiation between each show in topic.\n",
    "\n",
    "From the LDAvis\n",
    "- Topic 1 is mainly family and friends\n",
    "- Topic 7 is bad habits - unhealthy food & being mean\n",
    "\n",
    "This matches the wordclouds showing that John's comedy revolves around family."
   ]
  },
  {
   "cell_type": "markdown",
   "id": "c4a8b08e",
   "metadata": {},
   "source": [
    "## Ricky Gervais"
   ]
  },
  {
   "cell_type": "markdown",
   "id": "b6a705b6",
   "metadata": {},
   "source": [
    "### Wordclouds\n",
    "Ricky seems to tell a lot of stories of going or coming from places. There is a general theme of food. He also uses a lot of profanity."
   ]
  },
  {
   "cell_type": "markdown",
   "id": "3b478530",
   "metadata": {},
   "source": [
    "### Word Analysis\n",
    "Ricky uses the largest vocabulary of all our comedians, which makese sense as he's known as being philosophical with his comedy. He did increase his vocabulary between his 1st and later shows by c.20%. His words per minute are broadly stable, again indicating a particular style of delivery.\n"
   ]
  },
  {
   "cell_type": "markdown",
   "id": "0f288ee1",
   "metadata": {},
   "source": [
    "### Profanity\n",
    "Ricky mainly uses the f-word, and doubled the amount he sweared between his oldest and latest shows (possibly due to the time frames between them making it more acceptable to swear). "
   ]
  },
  {
   "cell_type": "markdown",
   "id": "f8b4ad03",
   "metadata": {},
   "source": [
    "### Sentiment Analysis\n",
    "Ricky's shows are consitently averagely positive (0.04-0.06) and equally split (0.5) between facts and opinions. Over the course of each show there does not seem to be a pattern how the sentiment changes throughout."
   ]
  },
  {
   "cell_type": "markdown",
   "id": "fe44395f",
   "metadata": {},
   "source": [
    "### Topic Modelling\n",
    "Ricky's shows mostly fall into three topics (1,4,6), with his later shows skeweing towards 4 & 6.\n",
    "\n",
    "From the LDAvis\n",
    "- Topic 1 is mainly family and friends\n",
    "- Topic 4 is politics and pop culture\n",
    "- Topic 6 is even more traditionally taboo topics for comedy"
   ]
  },
  {
   "cell_type": "markdown",
   "id": "ab64d07a",
   "metadata": {},
   "source": [
    "## Kevin Bridges"
   ]
  },
  {
   "cell_type": "markdown",
   "id": "d42c1377",
   "metadata": {},
   "source": [
    "### Wordclouds\n",
    "The overwhelming theme of Kevin's shows are stories about him and his mates, especially going out at night told with profanity."
   ]
  },
  {
   "cell_type": "markdown",
   "id": "9304eac0",
   "metadata": {},
   "source": [
    "### Word Analysis\n",
    "Suprisngly Kevin has the second largest vocabulary of our comedians, through all of his shows, however a lot of these are common stop words that don't add too much meaning. His words per minute also varies dramatically, increasing by 60% & 20% between his shows."
   ]
  },
  {
   "cell_type": "markdown",
   "id": "445c3000",
   "metadata": {},
   "source": [
    "### Profanity\n",
    "Kevin wildly varies with his profanity. His fist show was fairly tame with swearing (around 25 total), with his next show using 159 swear words (2.3 a minute) and his final show reducing down to around 90."
   ]
  },
  {
   "cell_type": "markdown",
   "id": "9279f5c0",
   "metadata": {},
   "source": [
    "### Sentiment\n",
    "Kevin's shows are constitently slightly skewed towards opinions (0.0517), but the latest show is the only show with a negative overall sentiment. The shows seem to be less positive over time moving form 0.08 to -0.018 over the three. Similar to Ricky, there does not seem to be a pattern to how the sentiment changes over throughout the show."
   ]
  },
  {
   "cell_type": "markdown",
   "id": "eac9b7d3",
   "metadata": {},
   "source": [
    "### Topic Modelling\n",
    "Kevin's shows are almost exclusively focus on topic 1 bsaed around friends and family, again aligning with the word clouds analysis.."
   ]
  },
  {
   "cell_type": "markdown",
   "id": "060bc9d6",
   "metadata": {},
   "source": [
    "## Aziz Ansari"
   ]
  },
  {
   "cell_type": "markdown",
   "id": "c02d5793",
   "metadata": {},
   "source": [
    "### Wordclouds\n",
    "Aziz shows are based around love and relationships."
   ]
  },
  {
   "cell_type": "markdown",
   "id": "ad75849b",
   "metadata": {},
   "source": [
    "### Word Analysis\n",
    "Aziz uses the second least amount of words fairly consistently through his shows. However he is by far the fastest deliverer of material, consistently performing at over 160 words per minute throughout his sets."
   ]
  },
  {
   "cell_type": "markdown",
   "id": "2448d09b",
   "metadata": {},
   "source": [
    "### Profanity\n",
    "Aziz uses the s-word as much as he does the f-word, the only comedian who does. While he increases his use of profanity during his second show, it was equally spread between s-words and f-words."
   ]
  },
  {
   "cell_type": "markdown",
   "id": "52f185e7",
   "metadata": {},
   "source": [
    "### Sentiment\n",
    "Azizs shows vary by postivity and subjectivity, with the latest shows being the most positive of all the shows anaysed (>0.08). Aziz also ends on a slightly more neutral note, with his latest shows nearly always maintaining a positive sentiment."
   ]
  },
  {
   "cell_type": "markdown",
   "id": "a09a825a",
   "metadata": {},
   "source": [
    "### Topic Modelling\n",
    "Aziz's shows touch a lot different topics, with topic 3 being the most prevelant covering life, work and women."
   ]
  }
 ],
 "metadata": {
  "kernelspec": {
   "display_name": "Python 3",
   "language": "python",
   "name": "python3"
  },
  "language_info": {
   "codemirror_mode": {
    "name": "ipython",
    "version": 3
   },
   "file_extension": ".py",
   "mimetype": "text/x-python",
   "name": "python",
   "nbconvert_exporter": "python",
   "pygments_lexer": "ipython3",
   "version": "3.7.3"
  }
 },
 "nbformat": 4,
 "nbformat_minor": 5
}
