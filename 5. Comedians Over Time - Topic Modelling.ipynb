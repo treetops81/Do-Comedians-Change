{
 "cells": [
  {
   "cell_type": "code",
   "execution_count": 268,
   "id": "a2c0f952",
   "metadata": {},
   "outputs": [],
   "source": [
    "# Let's read in our document-term matrix\n",
    "import pandas as pd\n",
    "import pickle\n",
    "from collections import defaultdict\n",
    "import math\n",
    "import matplotlib.pyplot as plt\n",
    "import seaborn as sns\n",
    "\n",
    "# Import the necessary modules for LDA with gensim\n",
    "# Terminal / Anaconda Navigator: conda install -c conda-forge gensim\n",
    "from gensim import matutils, models, corpora\n",
    "from gensim.models.phrases import Phrases, Phraser\n",
    "import scipy.sparse\n",
    "from sklearn.feature_extraction import text \n",
    "from sklearn.feature_extraction.text import CountVectorizer\n",
    "from nltk import word_tokenize, pos_tag\n",
    "from nltk.tokenize import RegexpTokenizer\n",
    "from nltk.stem import WordNetLemmatizer\n",
    "import spacy\n",
    "nlp = spacy.load('en_core_web_sm')\n",
    "\n",
    "dtm = pd.read_pickle('data_files/comedian_dtm')\n",
    "raw_data = pd.read_pickle('data_files/comedian_corpus')\n",
    "my_stop_words = pd.read_pickle('data_files/stop_words')"
   ]
  },
  {
   "cell_type": "code",
   "execution_count": 269,
   "id": "cd8c2185",
   "metadata": {},
   "outputs": [],
   "source": [
    "import pyLDAvis\n",
    "from pyLDAvis import gensim_models\n",
    "import warnings\n",
    "warnings.filterwarnings('ignore')"
   ]
  },
  {
   "cell_type": "markdown",
   "id": "a2583a5b",
   "metadata": {},
   "source": [
    "# Topic Modelling\n",
    "To attempt our topic modeling we'll be using a BoW model via sklearn, nltk and gensim. We will search our documents for linked words ('topics') and then assign our documents a score of how much the document relates to each of these topics."
   ]
  },
  {
   "cell_type": "markdown",
   "id": "35583302",
   "metadata": {},
   "source": [
    "# Attempt 1"
   ]
  },
  {
   "cell_type": "code",
   "execution_count": 270,
   "id": "0cecdbfc",
   "metadata": {},
   "outputs": [],
   "source": [
    "# We're going to put the term-document matrix into a new gensim format, from df --> sparse matrix --> gensim corpus\n",
    "sparse_counts = scipy.sparse.csr_matrix(dtm)\n",
    "corpus = matutils.Sparse2Corpus(sparse_counts)"
   ]
  },
  {
   "cell_type": "code",
   "execution_count": 271,
   "id": "1c22fdd4",
   "metadata": {
    "scrolled": false
   },
   "outputs": [],
   "source": [
    "cv = CountVectorizer(stop_words = my_stop_words)\n",
    "data_cv = cv.fit(raw_data.sketch_text)\n",
    "id2word = dict((v, k) for k, v in data_cv.vocabulary_.items())"
   ]
  },
  {
   "cell_type": "code",
   "execution_count": 272,
   "id": "3c4a7a06",
   "metadata": {},
   "outputs": [
    {
     "data": {
      "text/plain": [
       "[(0,\n",
       "  '0.006*\"uh\" + 0.005*\"okay\" + 0.005*\"love\" + 0.004*\"stuff\" + 0.004*\"good\" + 0.004*\"theres\" + 0.004*\"want\" + 0.004*\"funny\" + 0.004*\"god\" + 0.004*\"hey\"'),\n",
       " (1,\n",
       "  '0.008*\"fucking\" + 0.008*\"going\" + 0.006*\"went\" + 0.004*\"want\" + 0.004*\"old\" + 0.004*\"fuck\" + 0.004*\"come\" + 0.004*\"good\" + 0.004*\"ill\" + 0.004*\"day\"')]"
      ]
     },
     "execution_count": 272,
     "metadata": {},
     "output_type": "execute_result"
    }
   ],
   "source": [
    "# Now that we have the corpus (term-document matrix) and id2word (dictionary of location: term),\n",
    "# we need to specify two other parameters as well - the number of topics and the number of passes\n",
    "lda = models.LdaModel(corpus=corpus, id2word = id2word, num_topics=2, passes=20)\n",
    "lda.print_topics()"
   ]
  },
  {
   "cell_type": "code",
   "execution_count": 273,
   "id": "9883c854",
   "metadata": {},
   "outputs": [
    {
     "data": {
      "text/plain": [
       "[(0,\n",
       "  '0.008*\"fucking\" + 0.007*\"funny\" + 0.006*\"going\" + 0.004*\"mate\" + 0.004*\"shite\" + 0.004*\"ill\" + 0.004*\"kevin\" + 0.003*\"big\" + 0.003*\"need\" + 0.003*\"night\"'),\n",
       " (1,\n",
       "  '0.009*\"fucking\" + 0.007*\"going\" + 0.006*\"went\" + 0.005*\"good\" + 0.005*\"come\" + 0.005*\"fuckin\" + 0.004*\"mate\" + 0.004*\"want\" + 0.004*\"fuck\" + 0.003*\"need\"'),\n",
       " (2,\n",
       "  '0.007*\"okay\" + 0.007*\"going\" + 0.006*\"fucking\" + 0.005*\"went\" + 0.005*\"want\" + 0.005*\"old\" + 0.005*\"uh\" + 0.005*\"didnt\" + 0.004*\"mean\" + 0.004*\"look\"'),\n",
       " (3,\n",
       "  '0.007*\"hey\" + 0.005*\"love\" + 0.005*\"shit\" + 0.005*\"thank\" + 0.004*\"want\" + 0.004*\"fuck\" + 0.004*\"stuff\" + 0.004*\"okay\" + 0.004*\"good\" + 0.004*\"come\"')]"
      ]
     },
     "execution_count": 273,
     "metadata": {},
     "output_type": "execute_result"
    }
   ],
   "source": [
    "lda = models.LdaModel(corpus=corpus, id2word = id2word, num_topics=4, passes=20)\n",
    "lda.print_topics()"
   ]
  },
  {
   "cell_type": "code",
   "execution_count": 274,
   "id": "f048d50a",
   "metadata": {},
   "outputs": [
    {
     "data": {
      "text/plain": [
       "[(0,\n",
       "  '0.010*\"fucking\" + 0.010*\"going\" + 0.008*\"went\" + 0.007*\"mate\" + 0.005*\"shite\" + 0.004*\"fuck\" + 0.004*\"good\" + 0.004*\"ill\" + 0.004*\"come\" + 0.004*\"wee\"'),\n",
       " (1,\n",
       "  '0.000*\"going\" + 0.000*\"fucking\" + 0.000*\"want\" + 0.000*\"good\" + 0.000*\"went\" + 0.000*\"old\" + 0.000*\"come\" + 0.000*\"love\" + 0.000*\"need\" + 0.000*\"look\"'),\n",
       " (2,\n",
       "  '0.012*\"fucking\" + 0.008*\"going\" + 0.006*\"went\" + 0.006*\"want\" + 0.006*\"okay\" + 0.005*\"fuck\" + 0.005*\"god\" + 0.004*\"good\" + 0.004*\"come\" + 0.004*\"theres\"'),\n",
       " (3,\n",
       "  '0.009*\"funny\" + 0.008*\"bo\" + 0.007*\"love\" + 0.006*\"want\" + 0.005*\"stuff\" + 0.005*\"um\" + 0.004*\"thank\" + 0.004*\"repeat\" + 0.004*\"make\" + 0.004*\"good\"'),\n",
       " (4,\n",
       "  '0.008*\"hey\" + 0.005*\"okay\" + 0.005*\"shit\" + 0.004*\"kind\" + 0.004*\"thank\" + 0.004*\"day\" + 0.004*\"come\" + 0.004*\"good\" + 0.004*\"god\" + 0.004*\"shes\"'),\n",
       " (5,\n",
       "  '0.008*\"uh\" + 0.006*\"going\" + 0.006*\"okay\" + 0.005*\"years\" + 0.005*\"old\" + 0.005*\"new\" + 0.004*\"look\" + 0.004*\"day\" + 0.004*\"lets\" + 0.004*\"hey\"')]"
      ]
     },
     "execution_count": 274,
     "metadata": {},
     "output_type": "execute_result"
    }
   ],
   "source": [
    "lda = models.LdaModel(corpus=corpus, id2word = id2word, num_topics=6, passes=20)\n",
    "lda.print_topics()"
   ]
  },
  {
   "cell_type": "markdown",
   "id": "f79fdfb0",
   "metadata": {},
   "source": [
    "These aren't very coherent topics, with two main issues:\n",
    "- The topic is picking up a word that isn't mentioned that often such as 'yeahhhhhhh'\n",
    "- The majority of the words in our topic are still too generic \n",
    "\n",
    "To solve these problems, I will:\n",
    "- Remove any words from my corpus that only appear once, as they add minimal input to my topics\n",
    "- Look to lemmatize my raw texts before creating my document term matrix\n",
    "- Try splitting the sketches into segments"
   ]
  },
  {
   "cell_type": "code",
   "execution_count": 282,
   "id": "915db22e",
   "metadata": {},
   "outputs": [],
   "source": [
    "pattern = \"[\\w'.]+|[£|$0-9]+\"\n",
    "tokenizer = RegexpTokenizer(pattern)\n",
    "def tokenize_text(text):\n",
    "    return tokenizer.tokenize(text) "
   ]
  },
  {
   "cell_type": "code",
   "execution_count": 283,
   "id": "dc234615",
   "metadata": {},
   "outputs": [],
   "source": [
    "split_sketches = pd.DataFrame()\n",
    "for i in range(0,15):\n",
    "    tokenized_text = tokenize_text(raw_data.sketch_text[i])\n",
    "    total_len = len(tokenized_text)\n",
    "    chunks = [math.floor(total_len/3), math.floor(2 * total_len / 3), total_len]\n",
    "    new_index = [raw_data.index[i] + ' ' + str(0), raw_data.index[i] + ' ' + str(1), raw_data.index[i] + ' ' + str(2)]\n",
    "    new_tok_text = [tokenized_text[0 : chunks[0]], tokenized_text[chunks[0] + 1 : chunks[1]], tokenized_text[chunks[1] + 1 : chunks[2]]]\n",
    "    new_texts = [' '.join(new_tok_text[0]), ' '.join(new_tok_text[1]), ' '.join(new_tok_text[2])]\n",
    "    temp_df = pd.DataFrame(new_texts, index = new_index, columns = ['split_sketch_text'])\n",
    "    split_sketches = pd.concat([split_sketches, temp_df])"
   ]
  },
  {
   "cell_type": "code",
   "execution_count": 284,
   "id": "1dc82f37",
   "metadata": {},
   "outputs": [
    {
     "data": {
      "text/html": [
       "<div>\n",
       "<style scoped>\n",
       "    .dataframe tbody tr th:only-of-type {\n",
       "        vertical-align: middle;\n",
       "    }\n",
       "\n",
       "    .dataframe tbody tr th {\n",
       "        vertical-align: top;\n",
       "    }\n",
       "\n",
       "    .dataframe thead th {\n",
       "        text-align: right;\n",
       "    }\n",
       "</style>\n",
       "<table border=\"1\" class=\"dataframe\">\n",
       "  <thead>\n",
       "    <tr style=\"text-align: right;\">\n",
       "      <th></th>\n",
       "      <th>split_sketch_text</th>\n",
       "    </tr>\n",
       "  </thead>\n",
       "  <tbody>\n",
       "    <tr>\n",
       "      <th>Bo Burnham - Words Words Words 0</th>\n",
       "      <td>thank you when i say hey you say ho hey ho hey...</td>\n",
       "    </tr>\n",
       "    <tr>\n",
       "      <th>Bo Burnham - Words Words Words 1</th>\n",
       "      <td>mic before electricity way back in b c e thats...</td>\n",
       "    </tr>\n",
       "    <tr>\n",
       "      <th>Bo Burnham - Words Words Words 2</th>\n",
       "      <td>name heres a fun one one of the every u s pres...</td>\n",
       "    </tr>\n",
       "    <tr>\n",
       "      <th>Bo Burnham - What 0</th>\n",
       "      <td>bo what old macdonald had a farm e i e i o and...</td>\n",
       "    </tr>\n",
       "    <tr>\n",
       "      <th>Bo Burnham - What 1</th>\n",
       "      <td>each other more then two people could possible...</td>\n",
       "    </tr>\n",
       "  </tbody>\n",
       "</table>\n",
       "</div>"
      ],
      "text/plain": [
       "                                                                  split_sketch_text\n",
       "Bo Burnham - Words Words Words 0  thank you when i say hey you say ho hey ho hey...\n",
       "Bo Burnham - Words Words Words 1  mic before electricity way back in b c e thats...\n",
       "Bo Burnham - Words Words Words 2  name heres a fun one one of the every u s pres...\n",
       "Bo Burnham - What 0               bo what old macdonald had a farm e i e i o and...\n",
       "Bo Burnham - What 1               each other more then two people could possible..."
      ]
     },
     "execution_count": 284,
     "metadata": {},
     "output_type": "execute_result"
    }
   ],
   "source": [
    "split_sketches.head()"
   ]
  },
  {
   "cell_type": "code",
   "execution_count": 285,
   "id": "08f90839",
   "metadata": {},
   "outputs": [],
   "source": [
    "lemmatizer = WordNetLemmatizer()\n",
    "def lemmatize(list_of_text):\n",
    "    text = [lemmatizer.lemmatize(word) for word in list_of_text]\n",
    "    return text"
   ]
  },
  {
   "cell_type": "code",
   "execution_count": 286,
   "id": "3cc66fba",
   "metadata": {},
   "outputs": [],
   "source": [
    "my_stop_words = my_stop_words + ['uh','um','fu','jj']\n",
    "def remove_stops(list_of_text):\n",
    "    text = [word for word in list_of_text if word not in my_stop_words]\n",
    "    return text"
   ]
  },
  {
   "cell_type": "code",
   "execution_count": 287,
   "id": "09814a4f",
   "metadata": {},
   "outputs": [],
   "source": [
    "def nlp_pipeline(text):\n",
    "    text = tokenize_text(text)\n",
    "    text = remove_stops(text)\n",
    "    text = lemmatize(text)\n",
    "    text = ' '.join(text)\n",
    "    return text"
   ]
  },
  {
   "cell_type": "code",
   "execution_count": 288,
   "id": "dcec4e95",
   "metadata": {},
   "outputs": [],
   "source": [
    "def unigrams(df, col_name, min_number):\n",
    "    tokenized_docs = df[col_name].apply(lambda x: tokenize_text(x))\n",
    "    frequency = defaultdict(int)\n",
    "    for doc in tokenized_docs:\n",
    "        for token in doc:\n",
    "            frequency[token] +=1\n",
    "    processed_tokens = [[token for token in doc if frequency[token] > min_number] for doc in tokenized_docs]\n",
    "    return processed_tokens"
   ]
  },
  {
   "cell_type": "code",
   "execution_count": 289,
   "id": "32ccddb8",
   "metadata": {},
   "outputs": [],
   "source": [
    "def bigrams(df, col_name, min_number_b):\n",
    "    tokenized_docs = df[col_name].apply(lambda x: tokenize_text(x))\n",
    "    input_tokens = [doc for doc in tokenized_docs]\n",
    "    bigram_model = Phraser(Phrases(input_tokens, min_count = min_number_b, threshold = min_number_b, delimiter = b' '))\n",
    "    bigram_tokens = []\n",
    "    for doc_tokens in input_tokens:\n",
    "        bigram_tokens.append(bigram_model[doc_tokens])\n",
    "    return bigram_model, bigram_tokens"
   ]
  },
  {
   "cell_type": "code",
   "execution_count": 290,
   "id": "766ee809",
   "metadata": {},
   "outputs": [],
   "source": [
    "def ngrams(df, col_name, min_number, min_number_b):\n",
    "    # Create dict and bow cased on unigrams only\n",
    "    processed_unigrams = unigrams(df, col_name, min_number)\n",
    "    dictionary = corpora.Dictionary(processed_unigrams)\n",
    "    bow_corpus = [dictionary.doc2bow(text) for text in processed_unigrams]\n",
    "    \n",
    "    # Add in bigrams to the model\n",
    "    bigram_model, bigram_tokens = bigrams(df, col_name, min_number_b)\n",
    "    dictionary.add_documents(bigram_tokens)\n",
    "    bow_corpus = [dictionary.doc2bow(text) for text in bigram_model[processed_unigrams]]\n",
    "    return dictionary, bow_corpus"
   ]
  },
  {
   "cell_type": "code",
   "execution_count": 291,
   "id": "33e587c1",
   "metadata": {},
   "outputs": [],
   "source": [
    "def lda_model(corpus, dictionary, num_topics, random_state  = 100):\n",
    "    lda_model = models.LdaMulticore(corpus = corpus, id2word = dictionary, num_topics = num_topics, random_state = random_state, passes = 20)\n",
    "    return lda_model"
   ]
  },
  {
   "cell_type": "code",
   "execution_count": 292,
   "id": "e5fc06b2",
   "metadata": {},
   "outputs": [],
   "source": [
    "def print_topic_keywords(lda_model, dictionary, num_topics):\n",
    "    topics = []\n",
    "    for n in range(num_topics):\n",
    "        topics.append([])\n",
    "        \n",
    "    for topic_count in range(0, num_topics):\n",
    "        for topic_term in lda_model.get_topic_terms(topic_count):\n",
    "            topics[topic_count].append(dictionary.id2token[topic_term[0]])\n",
    "            \n",
    "    for counter, topic in enumerate(topics):\n",
    "        print(f'Topic {counter}: {topic}')"
   ]
  },
  {
   "cell_type": "code",
   "execution_count": 293,
   "id": "3a6ff966",
   "metadata": {},
   "outputs": [],
   "source": [
    "def model_prep(df, col_name, min_number, min_number_b):\n",
    "    df['prepped_text'] = df[col_name].apply(lambda x: nlp_pipeline(x))\n",
    "    dictionary, bow_corpus = ngrams(df, 'prepped_text', min_number, min_number_b)\n",
    "    return dictionary, bow_corpus\n",
    "lda_dict, lda_corpus = model_prep(split_sketches, 'split_sketch_text', 1, 2)"
   ]
  },
  {
   "cell_type": "code",
   "execution_count": 294,
   "id": "d2dee8d9",
   "metadata": {},
   "outputs": [
    {
     "name": "stdout",
     "output_type": "stream",
     "text": [
      "Topic 0: ['went', 'going', 'fucking', 'want', 'day', 'look', 'god', 'okay', 'mean', 'good']\n",
      "Topic 1: ['fucking', 'going', 'come', 'day', 'okay', 'look', 'want', 'fuck', 'good', 'shit']\n"
     ]
    }
   ],
   "source": [
    "num_topics = 2\n",
    "lda_model_output = lda_model(corpus = lda_corpus, dictionary = lda_dict, num_topics = num_topics)\n",
    "print_topic_keywords(lda_model_output, lda_dict, num_topics)"
   ]
  },
  {
   "cell_type": "code",
   "execution_count": 295,
   "id": "66cfcb26",
   "metadata": {},
   "outputs": [
    {
     "name": "stdout",
     "output_type": "stream",
     "text": [
      "Topic 0: ['fucking', 'going', 'went', 'good', 'mean', 'look', 'there', 'come', 'big', 'god']\n",
      "Topic 1: ['fucking', 'going', 'come', 'day', 'fuck', 'shit', 'okay', 'look', 'went', 'hey']\n",
      "Topic 2: ['want', 'love', 'fucking', 'day', 'good', 'god', 'look', 'there', 'thought', 'okay']\n",
      "Topic 3: ['fucking', 'going', 'day', 'kid', 'come', 'want', 'okay', 'look', 'went', 'dad']\n"
     ]
    }
   ],
   "source": [
    "num_topics = 4\n",
    "lda_model_output = lda_model(corpus = lda_corpus, dictionary = lda_dict, num_topics = num_topics)\n",
    "print_topic_keywords(lda_model_output, lda_dict, num_topics)"
   ]
  },
  {
   "cell_type": "code",
   "execution_count": 296,
   "id": "cdabb3a0",
   "metadata": {
    "scrolled": false
   },
   "outputs": [
    {
     "name": "stdout",
     "output_type": "stream",
     "text": [
      "Topic 0: ['repeat stuff', 'horse', 'wife', 'love', 'going', 'andy', 'day', 'look', 'kid', 'want']\n",
      "Topic 1: ['fat', 'okay', 'going', 'fucking', 'hey', 'fuck', 'come', 'friend', 'went', 'want']\n",
      "Topic 2: ['funny funny', 'saw', 'doctor', 'joke', 'hey', 'sad', 'good', 'want', 'look', 'thought']\n",
      "Topic 3: ['bill clinton', 'mom', 'kid', 'look', 'day', 'president', 'dad', 'hey', 'year old', 'ballroom']\n",
      "Topic 4: ['fucking', 'going', 'come', 'day', 'life', 'want', 'big', 'fuck', 'mean', 'ill']\n",
      "Topic 5: ['fucking', 'god', 'okay', 'mean', 'there', 'going', 'went', 'love', 'day', 'big']\n",
      "Topic 6: ['fucking', 'going', 'look', 'okay', 'went', 'mate', 'kid', 'day', 'good', 'want']\n",
      "Topic 7: ['river view', 'harris', 'come', 'cool', 'whoa', 'fuck', 'ill', 'hey', 'stuff', 'kind']\n",
      "Topic 8: ['fuckin', 'okay', 'good', 'there', 'day', 'look', 'want', 'stuff', 'fuck', 'woman']\n",
      "Topic 9: ['went', 'come', 'want', 'randy', 'r kelly', 'go', 'going', 'used', 'day', 'shit']\n"
     ]
    }
   ],
   "source": [
    "num_topics = 10\n",
    "lda_model_output = lda_model(corpus = lda_corpus, dictionary = lda_dict, num_topics = num_topics)\n",
    "print_topic_keywords(lda_model_output, lda_dict, num_topics)"
   ]
  },
  {
   "cell_type": "markdown",
   "id": "f5ab13d6",
   "metadata": {},
   "source": [
    "These topics look a lot better than our previous attempts, but there is still some overlap in them. To further investigate them, we can look at the more distinct terms in each topic using pyLDAvis."
   ]
  },
  {
   "cell_type": "code",
   "execution_count": 297,
   "id": "f4c94cbf",
   "metadata": {},
   "outputs": [
    {
     "data": {
      "text/html": [
       "\n",
       "<link rel=\"stylesheet\" type=\"text/css\" href=\"https://cdn.jsdelivr.net/gh/bmabey/pyLDAvis@3.3.1/pyLDAvis/js/ldavis.v1.0.0.css\">\n",
       "\n",
       "\n",
       "<div id=\"ldavis_el2131624682879138001651416768\"></div>\n",
       "<script type=\"text/javascript\">\n",
       "\n",
       "var ldavis_el2131624682879138001651416768_data = {\"mdsDat\": {\"x\": [-0.06822548327467468, -0.05831018014830175, -0.07610963035603209, -0.038604243188850085, -0.07028289077304946, 0.03269020376616574, -0.01805983200197782, 0.09433183157914488, 0.07660901391172315, 0.12596121048585215], \"y\": [0.0089095985803757, -0.0034092773689304383, 0.045088759157947446, -0.08351462524467664, -0.010963306002093583, 0.13469796928430716, -0.05112659605642756, 0.005292078662172429, 0.006374487167027929, -0.051349088179702344], \"topics\": [1, 2, 3, 4, 5, 6, 7, 8, 9, 10], \"cluster\": [1, 1, 1, 1, 1, 1, 1, 1, 1, 1], \"Freq\": [25.59072367739986, 13.99548783247043, 13.454784369410493, 11.029530500170909, 10.964174795888914, 7.952069462651881, 6.798735968601312, 4.408765893290464, 3.578007449226714, 2.227720050889022]}, \"tinfo\": {\"Term\": [\"fuckin\", \"wife\", \"bill clinton\", \"repeat stuff\", \"mom\", \"fat\", \"hey\", \"okay\", \"kid\", \"horse\", \"fuck\", \"randy\", \"r kelly\", \"funny funny\", \"cool\", \"god\", \"love\", \"come\", \"went\", \"aziz\", \"dad\", \"harris\", \"petunia\", \"whoa\", \"joke\", \"tweet\", \"stuff\", \"girl\", \"going\", \"kevin\", \"da club\", \"dvd\", \"burrito\", \"bin\", \"cd\", \"bittenbinder\", \"buy cow\", \"mr bridge\", \"spanish\", \"polish\", \"street smart\", \"greece\", \"deficit\", \"rational\", \"eat dick\", \"assembly\", \"real estate\", \"expression\", \"peace\", \"fit wouldnt\", \"sebastian\", \"knew wouldnt\", \"suicide bomber\", \"handle handle\", \"la vega\", \"declare\", \"craigslist\", \"constantly\", \"art dead\", \"mum dad\", \"chat\", \"sheet\", \"cow\", \"milk\", \"bus\", \"wee\", \"holiday\", \"property\", \"plane\", \"shite\", \"mate\", \"fucking\", \"going\", \"kick\", \"dad\", \"looking\", \"petunia\", \"kid\", \"sat\", \"getting\", \"hey\", \"need\", \"look\", \"okay\", \"went\", \"glasgow\", \"talk\", \"make\", \"thought\", \"school\", \"good\", \"day\", \"love\", \"life\", \"want\", \"come\", \"there\", \"tell\", \"sort\", \"ill\", \"let\", \"shit\", \"fuck\", \"god\", \"mean\", \"big\", \"linger pale\", \"pill\", \"vegetable\", \"cod\", \"olympics\", \"niggardly\", \"creepy dude\", \"bacon\", \"para\", \"iud\", \"pandering\", \"david cameron\", \"demo\", \"crazy rich\", \"satellite dish\", \"cheetos\", \"come home\", \"youll drink\", \"raise hand\", \"ja rule\", \"phoenix\", \"buy drink\", \"feel happy\", \"article\", \"sherrod brown\", \"scottish football\", \"double dip\", \"flamin hot\", \"becky\", \"nathan\", \"minority\", \"indian\", \"fuckin\", \"struggle\", \"meat\", \"taxi\", \"blue eye\", \"chicken\", \"scotland\", \"aziz\", \"white\", \"dude\", \"quid\", \"feel\", \"stuff\", \"good\", \"somebody\", \"asian\", \"okay\", \"woman\", \"there\", \"kind\", \"look\", \"day\", \"watching\", \"fuck\", \"want\", \"use\", \"dad\", \"shit\", \"let\", \"saying\", \"didnt\", \"need\", \"going\", \"fucking\", \"mean\", \"come\", \"love\", \"getting\", \"shes\", \"mr cassidy\", \"left brain\", \"wig\", \"stu\", \"gav\", \"doofer\", \"fresco\", \"inch waist\", \"belfast\", \"bozo\", \"hell hell\", \"house rice\", \"home delivery\", \"lime plaster\", \"rivera\", \"kevin\", \"toy\", \"farmfoods bag\", \"woodwork\", \"ignore\", \"country music\", \"straight white\", \"avocado\", \"wireless network\", \"going heaven\", \"local public\", \"paedo\", \"edinburghers\", \"wednesday afternoon\", \"gunge\", \"rice\", \"swimming\", \"fry\", \"da\", \"shite shite\", \"irish\", \"nut\", \"rob\", \"diego rivera\", \"kev\", \"breakfast\", \"fruit\", \"boo\", \"let hear\", \"fucking\", \"trying\", \"life\", \"big\", \"going\", \"feeling\", \"come\", \"problem\", \"girlfriend\", \"make\", \"food\", \"lot\", \"fuck\", \"mean\", \"ill\", \"day\", \"work\", \"want\", \"need\", \"start\", \"look\", \"love\", \"phone\", \"went\", \"great\", \"thought\", \"kid\", \"let\", \"woman\", \"year\", \"there\", \"good\", \"randy\", \"r kelly\", \"leaflet\", \"darwish\", \"gandhi\", \"kanye\", \"lazy mouse\", \"thriller\", \"sorta\", \"industrious mouse\", \"fable\", \"brent\", \"spastic\", \"blowjob\", \"ben\", \"wheelchair\", \"web site\", \"impression randy\", \"looking pussy\", \"shes randy\", \"ba pam\", \"washington post\", \"dylan\", \"wolf wolf\", \"tape\", \"casual\", \"rubbish\", \"egg egg\", \"fat bloke\", \"amazed\", \"pizza\", \"awful\", \"politics\", \"fellow\", \"yall\", \"jason\", \"wolf\", \"went\", \"michael\", \"probably\", \"egg\", \"alzheimers\", \"berry\", \"used\", \"concert\", \"come\", \"go\", \"clap\", \"want\", \"grandma\", \"moral\", \"doing\", \"shit\", \"actually\", \"sort\", \"day\", \"song\", \"fuck\", \"going\", \"mean\", \"mate\", \"saw\", \"came\", \"ill\", \"didnt\", \"need\", \"good\", \"thought\", \"let\", \"fucking\", \"kid\", \"there\", \"look\", \"stuff\", \"bruce jenner\", \"vicar\", \"goat\", \"chimp\", \"bar crazy\", \"specie\", \"rape funny\", \"god kid\", \"graph\", \"ark\", \"hampstead cunt\", \"larry\", \"dot dot\", \"hum\", \"wicked\", \"hey ashley\", \"dodd\", \"legging\", \"bred\", \"doctor went\", \"scients wont\", \"bob went\", \"relationship graph\", \"experience amazing\", \"good kindergarten\", \"niece\", \"african family\", \"spider ready\", \"billion year\", \"atomic bomb\", \"bob\", \"twitter\", \"tweet\", \"message\", \"noah\", \"golden globe\", \"earth\", \"puppy\", \"okay okay\", \"god\", \"lion\", \"animal\", \"science\", \"okay\", \"joke\", \"mean\", \"fucking\", \"there\", \"shes\", \"big\", \"love\", \"went\", \"hed\", \"saying\", \"go\", \"going\", \"didnt\", \"day\", \"fuck\", \"year\", \"come\", \"doing\", \"ill\", \"life\", \"dog\", \"want\", \"let\", \"sort\", \"feel\", \"good\", \"friend\", \"prolonged eye\", \"funny funny\", \"fck\", \"contact prolonged\", \"piece called\", \"batman\", \"mike mike\", \"burn em\", \"thy\", \"xanax\", \"slut\", \"isnt ironic\", \"fckin\", \"william shakespeare\", \"fairy\", \"magic isnt\", \"hate catchy\", \"gay porn\", \"bros\", \"bra burn\", \"chorus hypocrite\", \"blood test\", \"frequent urination\", \"benedict\", \"haiku\", \"yo mama\", \"r o\", \"third\", \"n c\", \"reality\", \"eye contact\", \"fuck slut\", \"sad\", \"bo\", \"doctor\", \"art\", \"hate\", \"hitler\", \"holy\", \"saw\", \"mother\", \"black\", \"alright\", \"piece\", \"homeless\", \"joke\", \"hand\", \"light\", \"dear\", \"hey\", \"world\", \"gay\", \"thank\", \"thought\", \"good\", \"want\", \"look\", \"kid\", \"didnt\", \"ill\", \"doing\", \"woman\", \"god\", \"day\", \"come\", \"old\", \"friend\", \"hey wanna\", \"cancel\", \"phil\", \"mick jagger\", \"fat person\", \"pretend busy\", \"suck cock\", \"pepa\", \"make plan\", \"knoll\", \"painkiller\", \"lawsuit\", \"diet coke\", \"calorie\", \"ugh\", \"act god\", \"big door\", \"volcanic ash\", \"dublin\", \"brenda\", \"make effort\", \"cake cake\", \"fat gay\", \"hillock\", \"heel\", \"want fat\", \"sized\", \"volcano\", \"sir patrick\", \"tricked\", \"mong\", \"fat\", \"cock\", \"heroin\", \"gross\", \"cake\", \"joking\", \"thursday\", \"connection\", \"maybe maybe\", \"silence\", \"okay\", \"honest\", \"situation\", \"youd\", \"hey\", \"friend\", \"em\", \"going\", \"nice\", \"fuck\", \"person\", \"fucking\", \"tonight\", \"fact\", \"big\", \"come\", \"year\", \"went\", \"good\", \"look\", \"want\", \"doing\", \"mean\", \"didnt\", \"day\", \"trying\", \"world\", \"life\", \"ill\", \"word\", \"love\", \"shit\", \"bill clinton\", \"ballroom\", \"mr finch\", \"ice t\", \"kimble\", \"svu\", \"clinton\", \"shh shh\", \"ya home\", \"hey walk\", \"quicksand\", \"feel duck\", \"mischa\", \"cubicle\", \"nichols\", \"meet bill\", \"sell drug\", \"web company\", \"asian american\", \"veronica\", \"dean cain\", \"lost new\", \"pushed past\", \"library\", \"sample\", \"fundraiser\", \"governor\", \"duckling\", \"old duckling\", \"eat as\", \"president\", \"office\", \"mom\", \"york\", \"reporter\", \"highway\", \"lawyer\", \"packed\", \"episode\", \"john\", \"kid\", \"year old\", \"look\", \"dad\", \"hey\", \"day\", \"imagine\", \"walked\", \"walk\", \"new town\", \"real\", \"movie\", \"hear\", \"thought\", \"remember\", \"seen\", \"kind\", \"go\", \"went\", \"want\", \"repeat stuff\", \"gazebo\", \"bo god\", \"psalm\", \"roger\", \"mr burnham\", \"bread god\", \"there horse\", \"trophy\", \"long convoluted\", \"pond\", \"material\", \"usher\", \"bro\", \"milly\", \"frog andy\", \"turkey\", \"wife bitch\", \"buy reward\", \"loose hospital\", \"fucking crazy\", \"new nazi\", \"best buy\", \"horse hospital\", \"bread bread\", \"celebrating\", \"andy\", \"horse loose\", \"homily\", \"stomp\", \"horse\", \"youve changed\", \"hospital\", \"love song\", \"wife\", \"bo bo\", \"petunia\", \"robot\", \"turtle\", \"hoof\", \"make fun\", \"love\", \"self\", \"sing\", \"town\", \"tall\", \"mad\", \"co\", \"frog\", \"satan\", \"going\", \"story\", \"kid\", \"look\", \"day\", \"song\", \"girl\", \"good\", \"want\", \"shes\", \"young\", \"need\", \"let\", \"okay\", \"fucking\", \"walk\", \"try\", \"come\", \"there\", \"end\", \"life\", \"river view\", \"cold stone\", \"writes\", \"edelstein\", \"sonic forest\", \"clarence\", \"tweaking\", \"salvation\", \"accident today\", \"quiz\", \"hate phrase\", \"extra point\", \"struck vehicle\", \"willow\", \"buddhism\", \"kilmer\", \"butterfinger\", \"godfather\", \"blackberry\", \"slumdog\", \"slutty\", \"hippie\", \"waiver\", \"tamil\", \"christianity\", \"entertained\", \"admins\", \"bonnaroo\", \"creamery\", \"posting\", \"harris\", \"alabama\", \"whoa whoa\", \"whoa\", \"kanye west\", \"awesome\", \"festival\", \"chubby\", \"cool\", \"aziz ansari\", \"belong\", \"psyched\", \"raped\", \"tv\", \"m\", \"ice cream\", \"aziz\", \"fact\", \"write\", \"come\", \"fuck\", \"read\", \"ill\", \"kind\", \"stuff\", \"hey\", \"started\", \"girl\", \"called\", \"go\", \"shit\", \"kid\", \"day\", \"going\"], \"Freq\": [55.0, 48.0, 20.0, 18.0, 37.0, 46.0, 92.0, 161.0, 123.0, 20.0, 132.0, 24.0, 24.0, 20.0, 34.0, 103.0, 128.0, 165.0, 163.0, 29.0, 77.0, 12.0, 17.0, 17.0, 64.0, 22.0, 87.0, 61.0, 218.0, 21.0, 24.934354064306994, 11.132663359158581, 10.212836475462296, 9.2930114583092, 8.372642032726105, 8.370884371223537, 7.453024824048002, 7.4528394140912715, 7.452725554956769, 7.452540145000038, 7.451129038349481, 6.532676552621044, 6.532660998094473, 6.5326006465313755, 6.5324992310181305, 12.971698678574674, 5.612692257115857, 5.612654304071023, 5.612631283371697, 5.612613862301937, 5.61258399761092, 5.61260141868068, 5.612529867858451, 5.612524890409949, 5.612477604649172, 5.612445873414966, 5.6124464955960285, 5.612355034979789, 5.612326414650898, 6.418503216681711, 10.212748747932434, 9.292765696789372, 13.893764791916176, 8.372766468938677, 13.893268291428017, 29.721484846197708, 17.5744025498137, 8.372363917791008, 25.85494063108103, 19.163501514470035, 45.471908858316425, 98.52528808802103, 86.95976838598524, 9.021614834329423, 33.770260917176316, 26.43063730236864, 12.056115691908127, 43.305424622967884, 13.892637399830281, 33.758153273693146, 35.05412158548202, 36.46925001442902, 46.217505756800165, 45.98844357669922, 45.84318669704068, 14.388721026677008, 22.613897436971435, 31.34757247504081, 34.14069010093083, 22.064583731473153, 39.81554882330404, 43.27271780885569, 35.898179881524804, 32.740872303578584, 39.37527359343334, 38.47355404520935, 35.11524216437272, 23.360133937587793, 24.667139741431733, 30.69061646821999, 28.512489980823297, 27.79375637190941, 29.162099273653915, 26.211253770881473, 27.188199987053228, 25.688624166806946, 7.856305392237489, 7.856051551635207, 6.9931146396048325, 6.129729253159166, 6.129605395278159, 5.266494605837911, 5.266486779653122, 5.266475550779295, 5.266353053973904, 5.266238723622205, 5.266236001470975, 4.403082678417744, 4.403078254921994, 4.403060220670088, 4.402884982184599, 4.402879537882137, 4.40204587906767, 3.539806518290217, 3.539786782693793, 3.539786442424889, 3.5397741927443502, 3.5397629638705226, 3.5397214510642514, 3.539736763164925, 3.5397377839716366, 3.539727235635617, 3.5397136248794623, 3.5396748342244218, 3.539653737552382, 3.539652376476767, 6.129828611679094, 12.173222116398705, 38.93514954996148, 5.266359178814174, 9.58347223813292, 5.266407496998522, 7.856154993381981, 10.410329077211, 6.993080612714446, 14.763826750150997, 21.881202829682238, 13.900375351537981, 13.036632682743258, 24.289191948108904, 27.295628320668225, 35.48084580183416, 15.112418631403308, 7.856591898654543, 36.381123823374544, 25.372866742378186, 31.78651909107254, 21.670926174623716, 30.407270393999774, 31.70713571687673, 13.924108427044674, 25.70527407348712, 28.168875380485673, 12.247074079293306, 18.00712158453868, 20.890515360385237, 20.537964110167565, 17.260820686299127, 18.569686802221092, 18.166613786233338, 22.31568810979908, 23.019880050647682, 18.48540219473403, 18.715715243927665, 16.69651737505578, 14.279683987279887, 13.956035177756407, 9.53602214957776, 8.69125012895925, 8.690742434200438, 8.67573468926178, 7.82459685678342, 6.099602505615665, 6.094644630767366, 5.248998210606134, 5.249007370047658, 5.248056750866532, 5.244906230104855, 5.244822159516572, 5.244163988218421, 5.242883629142395, 5.238686642186491, 18.711421384417847, 4.388573031544368, 4.388513495174456, 4.388494522045582, 4.388187353631585, 4.387029992770323, 4.386851383660586, 4.3825251831545975, 4.381705740261025, 3.528088643235602, 3.5280369578155684, 3.5280327052177176, 3.5280343408322756, 3.5280225644074577, 3.527998357311999, 11.194278192811318, 6.968188419953264, 8.689533387919143, 6.094844175743446, 9.52911069670135, 6.10848454691159, 16.43525436825614, 6.106069071332291, 6.102349029581509, 9.965931005485217, 7.677649319415095, 8.598086832225526, 7.812320588156672, 6.102147521867959, 48.699881749791665, 21.215663728517796, 24.401969119740933, 23.157742732039658, 33.52071655450328, 11.272255135496648, 28.27526141215275, 14.451536543561783, 12.991897101584707, 19.77941880868713, 11.508153934988858, 18.326804658359702, 23.069592266803383, 22.68468898107467, 21.32477622992978, 24.745440325977285, 15.487990159710728, 23.234415108553502, 18.540163380750617, 15.592210210856733, 19.817756305435697, 18.09571064019316, 14.119782880019157, 18.45593184799538, 14.703294261808649, 16.042056553980746, 16.382587579487584, 15.990553014285863, 15.302688115202432, 15.005057296815243, 15.88938044018438, 15.474427643795547, 23.42893936314536, 23.428666914310487, 10.921781941766847, 10.088452129703303, 7.58667300500483, 6.753433830447376, 6.7530707441064095, 5.919471701107613, 5.9194379131615555, 5.085666712532848, 5.08567100306568, 5.0856232708879165, 5.0855068901848295, 4.252125859885594, 4.251960406213233, 4.251892830321118, 3.4184461012378833, 3.4184369838556137, 3.418428402789948, 3.4184125814501276, 3.418409363550503, 3.4183275752683797, 3.418316044461392, 3.4183010275964776, 3.4183012957547794, 3.418278234140804, 3.4182755525577835, 3.4182355969707787, 3.4179784331591194, 2.5846663195435093, 5.08501347890907, 7.5869170290596895, 9.254265283706427, 5.085754132139313, 9.254801600310513, 4.25218699997846, 5.085882311807691, 42.093100427998586, 5.919565556513328, 15.92463547114602, 9.254536659908094, 5.351478629433452, 4.25200974734081, 19.364882306023436, 6.753533585335736, 31.00863113491479, 20.187516892368276, 10.088974502075683, 25.130399499078447, 8.42111621033846, 6.753302969195979, 16.76012449385762, 18.5179590133127, 12.628384281299917, 13.423940242304408, 19.285204966053858, 12.59032510980749, 16.865379845309313, 20.158043077074073, 15.948735394067272, 13.693562688677051, 12.591213250103857, 11.80440783081165, 14.363714956047511, 13.440931824955092, 12.659151692243178, 13.460571738996757, 12.630195958788523, 12.628783300853359, 14.349809339136744, 12.606412462663682, 12.613678480015853, 12.629374321751062, 11.824478943403001, 10.06841829049234, 9.240676820102747, 9.239967745699195, 9.236701738333652, 8.408029941001052, 8.40770845839553, 5.910688018399117, 5.910643767891226, 5.910634704534188, 5.910456103086677, 5.908504282491632, 5.078263458114175, 5.078143501918085, 5.077871601206948, 5.0777910972709055, 4.245646168207515, 4.245427581361307, 4.2453846637000385, 4.245272171445039, 4.243504283683999, 3.413225339893118, 3.413201881792549, 3.4131768242760328, 3.4131387048626083, 3.4131147136233904, 3.413088056690926, 3.413029678008829, 3.4130035542150137, 3.4129971565512225, 3.412863338750251, 11.738251191155772, 10.905539802277513, 16.733247455608126, 10.072961698061576, 10.072221701616364, 5.075249625329747, 10.072735647274278, 8.407393906592452, 7.575052515936798, 37.99779810055915, 6.741579805067355, 9.234926386631523, 9.240513679676065, 34.14278342039327, 19.268552048871296, 27.22370576481831, 38.65756357671743, 26.321377131115963, 19.04042202084076, 20.554194576084473, 22.313857074043817, 24.584172565619244, 14.33839290811351, 16.18264638300086, 17.444979022189845, 24.601269255824626, 17.73104735979316, 20.59290470713201, 17.967021989909323, 15.537380145548637, 18.922284893822226, 15.131068783262101, 15.47181582073644, 14.698094090847352, 12.425856101302593, 15.263607051475216, 14.124998832349307, 12.56147804346319, 12.467691491112259, 13.044832205681104, 12.473958002795994, 8.69784707414243, 18.885328964861174, 7.914396345587884, 7.9143808786488705, 7.130944843686386, 9.481213507879357, 3.996450557294323, 3.996279260944755, 3.9962375002094204, 3.996247553719779, 7.9142362627691, 3.2128409059414187, 3.2128240856452424, 3.212758737827913, 3.212775171450614, 3.2127390174806716, 3.2126918433166822, 3.2127214238375443, 3.2126825631532743, 3.2126728963163913, 3.2126612961121315, 3.2126933900105836, 3.2126837231737, 3.2126373223566618, 3.2126156686420435, 2.429238601384546, 2.4292306745783017, 2.429232414608941, 2.429230481241564, 2.429229321221138, 7.914283436933089, 3.9963681958440795, 12.616239856973463, 8.697901981775926, 13.398497311183165, 7.130948710421139, 11.049127276146843, 6.347062200859904, 5.563428189078055, 14.967078477869059, 8.698321135823175, 7.914554881712765, 7.13069737266218, 7.914573442039581, 5.563713940776318, 12.616834560778509, 11.04902674104326, 6.347497981866592, 4.779819311072101, 12.616746399226134, 11.050087773059543, 8.698744156605178, 9.48229696695721, 11.05077837188647, 11.835369013846266, 11.834586386732214, 11.050931494582697, 10.266827287854856, 9.482757881739794, 9.4835474689764, 8.699276992654172, 8.699578597964923, 8.699489663065599, 8.69993743095002, 7.915862611406305, 7.915223053478122, 7.915022756617905, 6.885112805664434, 6.132600691377854, 6.130072984641074, 6.12869970530749, 4.6185043560468175, 4.616961813588825, 3.8613034548588834, 3.859546027574981, 3.8577869473308786, 3.10431644672074, 3.104159084909766, 3.103024493028962, 3.101714687367031, 6.132626477556963, 2.347125628590022, 2.3471133966845468, 2.347103644219371, 2.347101825963152, 2.347087279913398, 2.3470715767915045, 2.347072733863644, 2.3470641384706075, 2.3470595101820497, 2.3470547165974716, 2.3470166985128875, 2.3470188473611464, 2.3469755398039247, 2.3469575225377524, 2.3463193146048003, 2.3462581550774257, 5.375520456284469, 21.275320810788035, 4.618561548469714, 4.618542043539362, 3.1027831608398633, 6.132305803278297, 3.104063213218206, 3.037751408902622, 3.0351592367180698, 3.8591268368684366, 4.56142697918068, 19.046157199157353, 6.025320268522455, 6.577191445528639, 9.158741046656466, 12.648167135940023, 11.501717579850208, 9.12058741933607, 16.340000846364994, 8.789112037544236, 12.5122422351988, 8.626530839444914, 14.868800150574124, 7.332598884900325, 6.890381781595744, 10.127644825370597, 11.6191227145184, 9.459150033278453, 11.066553327124028, 10.18227648232584, 10.340420474066143, 10.385037836949907, 8.299634157405158, 8.67326928085643, 8.124464014427918, 8.50944307313499, 7.567226667430705, 7.317299085295543, 7.201323430607712, 7.171729492383406, 6.864672961023889, 7.051583088520684, 6.954426055109919, 19.437243612315765, 7.414222574912513, 6.078352452908026, 6.077489793770114, 4.742438597686807, 4.741676267693164, 4.074521758858202, 4.074174894423524, 3.4065806952575834, 3.406549824751654, 3.4062057472376503, 2.7386370591148044, 2.7386252682965675, 2.738620123212246, 2.7386087611510357, 2.7385946121691513, 2.7385971847113124, 2.738596970332799, 2.7383172063728147, 2.7383146338306537, 2.738234670645156, 2.7381973687838252, 2.0706704844710915, 2.070663409980149, 2.0706537629470465, 2.070652905432993, 2.070647117213131, 2.0706443302924566, 2.070648189105698, 2.070648189105698, 8.082167711704887, 6.078343877767491, 14.093896896490177, 4.7420149857443326, 2.7384406883965315, 3.406225470060883, 3.4059540668629213, 3.406621427175129, 4.07386233055099, 5.4100295811750465, 11.422836661125702, 7.415058651114765, 9.419571497594221, 7.417172423256869, 7.415336485668129, 8.752814875280126, 4.74300284193407, 4.742873786069004, 5.411178221249832, 3.405896184664304, 4.742550503270801, 4.742315973177143, 4.742621248180222, 5.411924687233484, 4.743805475088232, 4.7431799185861365, 4.744256527480421, 4.744267246406091, 4.744444751815185, 4.077772165878342, 17.428002163968085, 4.402832739367038, 3.783342107533146, 3.1628072329985493, 2.5428565915510846, 2.5427734279371332, 2.542697397603876, 2.542555949867176, 1.922674205472274, 1.9226420187179203, 1.9226428886302003, 1.9226300139284587, 1.9226207928582926, 1.9226073962091832, 1.9226004369109446, 1.922588606103939, 1.9225478942092429, 1.9225478942092429, 1.9225360634022373, 1.9224892621215826, 1.9224784752093127, 1.9224692541391466, 1.9224622948409078, 1.9224337617181295, 1.9223876563672986, 1.9223732158234534, 6.2642251043745505, 1.3023607236128931, 1.3023630723760489, 1.3023594187444736, 13.085214945733718, 2.5428607671300276, 3.1629690366825973, 3.1629787797001314, 11.844529349927296, 3.783282257568294, 5.0221977558677215, 3.1628552521563957, 2.5428419770247834, 2.5426445069372625, 3.1627491228582567, 9.366727582381042, 4.403550590980352, 3.1624571802971464, 3.7828921889020193, 2.542894693708941, 3.7826722750776787, 3.7834311865506005, 2.5428331039195293, 2.5427749937792368, 6.884400879120035, 4.40378094375205, 5.6441979106464615, 5.644356582646302, 5.64513637201394, 4.40360974501538, 4.404279577470848, 5.024628638742473, 5.025758480811514, 4.404615711575773, 3.7835870748311455, 4.40378268357661, 4.40479526147033, 4.403218980419282, 4.404999516873633, 3.7828285113231357, 3.7831935265157517, 3.7846400166546497, 3.783980275181628, 3.783646228866174, 3.783489296690893, 5.598776733065978, 3.0768023215743336, 2.572431747189553, 2.5724269809319944, 2.0680191430790296, 2.06801156039655, 1.5636402277435213, 1.5636360031061398, 1.5636243041103146, 1.5636256039987397, 1.5636236541661022, 1.5636189962325793, 1.5636149882432686, 1.0592471219593733, 1.059244955478665, 1.0592407308412835, 1.059237481120221, 1.0592363978798667, 1.0592363978798667, 1.0592343397231938, 1.0592345563712646, 1.0592336897789814, 1.059233039834769, 1.0592309816780958, 1.0592301150858126, 1.0592301150858126, 1.0592288151973874, 1.0592267570407146, 1.0592236156436874, 1.5636312368485814, 5.094410491642614, 2.0680254258730835, 3.0768335188965343, 4.5901387087781345, 2.5724583949022657, 3.076903712871485, 2.0680600895644177, 2.572520139602454, 4.590346690926138, 2.0680587896759923, 1.5636349198657857, 2.0680655057661883, 2.068066155710401, 3.0769420595800234, 2.0681157681186226, 2.0680650724700467, 3.0770057541128493, 3.077103245744726, 2.572614598161339, 4.591772235232244, 4.087093153994592, 3.077341125326505, 3.5821718602137436, 3.0773630067816593, 3.0774607150616067, 3.0778279335416756, 2.5726683268829067, 2.573239844493774, 2.572756719295808, 2.5734835735734656, 2.5733431856235636, 2.57333711947758, 2.574257873778637, 2.0700110054423035], \"Total\": [55.0, 48.0, 20.0, 18.0, 37.0, 46.0, 92.0, 161.0, 123.0, 20.0, 132.0, 24.0, 24.0, 20.0, 34.0, 103.0, 128.0, 165.0, 163.0, 29.0, 77.0, 12.0, 17.0, 17.0, 64.0, 22.0, 87.0, 61.0, 218.0, 21.0, 25.610003491210737, 11.806857914011294, 10.886779929766371, 9.966539351726306, 9.046302351767475, 9.045903112952889, 8.126188812643843, 8.126154555822888, 8.12612283166956, 8.126075372216697, 8.125739548085802, 7.205921948896914, 7.205917467971243, 7.205879420566876, 7.205945412916955, 14.480852579461834, 6.285758061376669, 6.2857447116310965, 6.285724588424233, 6.2857462751430795, 6.285713078712886, 6.285742716549126, 6.285687817462473, 6.285741130455843, 6.285697952340236, 6.285670742425509, 6.2856978572518, 6.285684703978859, 6.285715426706088, 7.198490154003565, 11.747289028294855, 10.750257134963062, 17.01662778038763, 9.878957433303349, 17.988803308283384, 44.87889871194491, 25.00949458895777, 10.308046935341709, 42.20212759038313, 29.545507219848602, 88.7864297592078, 249.89462736496287, 218.02497367567693, 11.672968370163048, 77.2088205178324, 55.165534412545, 17.69077678777901, 123.41804253361191, 22.337592614931083, 86.33122393868754, 92.87224595627735, 105.98200165490319, 159.02530730326316, 161.33694142795332, 163.08375905090247, 24.091933468779345, 51.50823135564908, 89.71572779421678, 107.95089947844941, 50.26999064902915, 148.44716312587101, 173.78499315005334, 128.51040759100982, 109.45431148806138, 164.06092343077103, 165.37947957138476, 138.46559352658036, 57.46833859062659, 68.8571299032565, 119.19905791031516, 112.12127572738548, 109.68861782217606, 132.22493652246234, 103.53421452685109, 128.52631553607446, 104.61790112782542, 8.535637849706855, 8.535573989115093, 7.6722587227642975, 6.8087611239737145, 6.808749741686256, 5.945298357398603, 5.9453225766674915, 5.945317149643471, 5.945287746136676, 5.945226542788343, 5.945265035416018, 5.081819985413204, 5.081832468162105, 5.081819527157716, 5.081785248557913, 5.08180319712449, 5.081762587292626, 4.218365051874641, 4.2183528559407435, 4.218364809113071, 4.218371130192926, 4.21836085418227, 4.218330090332591, 4.218351467845536, 4.218356436389317, 4.218351596345486, 4.218353272250907, 4.2183363542770405, 4.218317297975697, 4.218336016614652, 7.3132879379867415, 15.023971012868426, 55.118075211171565, 6.72903771952429, 13.622374569927258, 6.865472461537637, 11.296222245708792, 16.309874915631212, 10.373237138761057, 29.556212481953125, 51.58541138118961, 28.137607357670028, 25.99360933010185, 67.22278270351057, 87.13015469296344, 148.44716312587101, 37.75957726014503, 12.979718100567553, 161.33694142795332, 93.36624495331208, 138.46559352658036, 82.82808553181147, 159.02530730326316, 173.78499315005334, 38.22878348011014, 132.22493652246234, 164.06092343077103, 33.58882089793652, 77.2088205178324, 109.68861782217606, 112.12127572738548, 76.50876126192006, 109.42402775762196, 105.98200165490319, 218.02497367567693, 249.89462736496287, 128.52631553607446, 165.37947957138476, 128.51040759100982, 86.33122393868754, 77.9185753725496, 10.232114657144342, 9.370613935294095, 9.370572356065257, 9.371546976162021, 8.510328780154433, 6.789321491259276, 6.788738451114247, 5.928126095332931, 5.92813871713311, 5.927957943068649, 5.928441384341465, 5.9283705549704795, 5.928385973162368, 5.9281029407404695, 5.928139499023846, 21.559051417784435, 5.0675357232338465, 5.067508561215638, 5.067511608327231, 5.067513105461434, 5.067641361737766, 5.067652366010524, 5.067496478762521, 5.067928904032289, 4.206921948592491, 4.206910741532707, 4.206907934186944, 4.206911713801599, 4.206903830751846, 4.206906693803464, 13.680081195156664, 8.483145840990518, 10.706555910007841, 7.410040129590256, 12.07154890569725, 7.572245815278206, 25.26020476336001, 7.622857189630339, 7.7089312442282445, 15.723180356977089, 11.08133035354961, 14.381014165065052, 12.531606684238653, 8.486603363194666, 249.89462736496287, 78.21817329487588, 109.45431148806138, 104.61790112782542, 218.02497367567693, 26.119479707606068, 165.37947957138476, 44.72102185914235, 36.51631164319121, 89.71572779421678, 29.244274095699616, 79.34341370633094, 132.22493652246234, 128.52631553607446, 119.19905791031516, 173.78499315005334, 59.07651051355165, 164.06092343077103, 105.98200165490319, 70.52417223399682, 159.02530730326316, 128.51040759100982, 59.938301837245575, 163.08375905090247, 73.16634089873894, 107.95089947844941, 123.41804253361191, 112.12127572738548, 93.36624495331208, 87.35211108222906, 138.46559352658036, 148.44716312587101, 24.11230050256445, 24.112299870601777, 11.60444783416828, 10.770660797230486, 8.26908296745308, 7.435273679772989, 7.435233123154092, 6.6014024578543395, 6.601380291393824, 5.767541646080772, 5.767549601519362, 5.76755890966361, 5.7675428154204464, 4.933718564739296, 4.93370762204029, 4.933686695961097, 4.099868764011714, 4.099866606386008, 4.099858223355549, 4.099865272377895, 4.09986462261519, 4.099864146073139, 4.099860106164219, 4.09984981889977, 4.099855170503467, 4.0998460688905265, 4.0998464967978565, 4.09984890107055, 4.099857358668481, 3.266018558825859, 6.435686122530864, 9.69382436795426, 12.397582825610307, 6.5248828086089965, 16.15116158060496, 5.554052518527767, 7.268234709856045, 163.08375905090247, 9.225554630343536, 41.44100987653511, 18.572050584154358, 8.23598370753955, 5.794274634023014, 67.34201557497701, 12.486263797959635, 165.37947957138476, 92.10298194242677, 26.371689974365598, 164.06092343077103, 19.24615663040403, 12.907380149087759, 86.14393702828241, 109.68861782217606, 55.63538094158044, 68.8571299032565, 173.78499315005334, 60.117015629027534, 132.22493652246234, 218.02497367567693, 128.52631553607446, 88.7864297592078, 68.5348683019231, 60.235002310508015, 119.19905791031516, 109.42402775762196, 105.98200165490319, 148.44716312587101, 107.95089947844941, 112.12127572738548, 249.89462736496287, 123.41804253361191, 138.46559352658036, 159.02530730326316, 87.13015469296344, 10.75578805041606, 9.923111547596099, 9.923007824113961, 9.92313939448959, 9.09048820524952, 9.090449838513056, 6.59269384139216, 6.592677292453398, 6.592672905731973, 6.5926545832611385, 6.592694836734267, 5.760093100643881, 5.760079952293095, 5.760044594731466, 5.760026848090591, 4.927472983822442, 4.927445886611597, 4.92745922732484, 4.927478457180635, 4.927546306601422, 4.094874274923809, 4.094878124883253, 4.0948793496321825, 4.094867894157835, 4.094874621739297, 4.09487446962844, 4.094847767734547, 4.094852268774672, 4.094875099071279, 4.094848947232949, 14.872329437308071, 13.929842211114336, 22.597416330690354, 13.343560875767215, 14.436366894550101, 6.51742936315464, 15.186654713912139, 12.771241855145751, 11.825188190323331, 103.53421452685109, 10.185837030503677, 17.203863002822555, 17.732795348636017, 161.33694142795332, 64.8565822916519, 128.52631553607446, 249.89462736496287, 138.46559352658036, 77.9185753725496, 104.61790112782542, 128.51040759100982, 163.08375905090247, 52.9056996251427, 76.50876126192006, 92.10298194242677, 218.02497367567693, 109.42402775762196, 173.78499315005334, 132.22493652246234, 87.35211108222906, 165.37947957138476, 86.14393702828241, 119.19905791031516, 109.45431148806138, 48.78343925270481, 164.06092343077103, 112.12127572738548, 68.8571299032565, 67.22278270351057, 148.44716312587101, 85.41555355724628, 9.385610227167785, 20.434697552326128, 8.60180261785664, 8.601842559241424, 7.818074137019357, 11.089579799749908, 4.683135237779513, 4.683106799602502, 4.68311767001191, 4.683179000200338, 9.462581534533049, 3.8994091891815423, 3.8993957451071246, 3.899377334645734, 3.899403084750163, 3.899426170250762, 3.899378152374425, 3.899428536685757, 3.899393834546014, 3.899387377402865, 3.8993884203013787, 3.8994293951859005, 3.8994369014307706, 3.8993942569709277, 3.899392156333885, 3.115670280459176, 3.1156686175208113, 3.1156718572908546, 3.115669673132703, 3.1156731323024283, 10.299186266747686, 5.5169957538655146, 25.20025035557307, 15.73687099812298, 32.116621849356484, 13.818513071693065, 30.748915354219417, 12.204114311664345, 9.815029047281492, 68.5348683019231, 26.231933405670244, 22.044629577713852, 19.172047338413485, 24.177327749186635, 11.879514756152007, 64.8565822916519, 51.76686598813745, 17.752420841460765, 9.672722882764635, 92.87224595627735, 70.42490637965224, 42.15881201530359, 65.10375024853958, 107.95089947844941, 148.44716312587101, 164.06092343077103, 159.02530730326316, 123.41804253361191, 109.42402775762196, 119.19905791031516, 86.14393702828241, 93.36624495331208, 103.53421452685109, 173.78499315005334, 165.37947957138476, 76.76139758781005, 85.41555355724628, 7.580474713178793, 6.822774317189485, 6.822973562936586, 6.823108897295577, 5.308181045280627, 5.308305719657486, 4.550913757426587, 4.551047002291489, 4.5512277283530596, 3.79360238406646, 3.7936277103669385, 3.793702840670021, 3.7938476273398365, 7.683403078046445, 3.036327002973115, 3.036328068578807, 3.036329598890197, 3.0363304774526028, 3.03633317700189, 3.0363314123141247, 3.036335934657201, 3.0363381685926987, 3.036334305496712, 3.0363335938145513, 3.036340511599054, 3.0363462060102653, 3.0363295233297163, 3.0363501616006756, 3.0363868021986935, 3.0363933146600344, 7.8182889138325296, 46.96977771375105, 7.062242878463857, 7.088986839296335, 4.461821530619078, 12.237105977687033, 4.65425083370234, 4.6328112580152885, 4.63306669600002, 7.0589642188734745, 9.634544877551695, 161.33694142795332, 19.929478551180058, 23.885618630380275, 47.601809484935146, 92.87224595627735, 85.41555355724628, 52.85846982365705, 218.02497367567693, 53.80924861301967, 132.22493652246234, 54.37607282405289, 249.89462736496287, 37.29093101184464, 32.23143833166962, 104.61790112782542, 165.37947957138476, 87.35211108222906, 163.08375905090247, 148.44716312587101, 159.02530730326316, 164.06092343077103, 86.14393702828241, 128.52631553607446, 109.42402775762196, 173.78499315005334, 78.21817329487588, 70.42490637965224, 109.45431148806138, 119.19905791031516, 53.95059970034025, 128.51040759100982, 109.68861782217606, 20.138088582074964, 8.113106119295756, 6.776977365982594, 6.777236931013466, 5.440873409595599, 5.441098275527613, 4.772809651987434, 4.772906913925264, 4.104753319757882, 4.104745832082085, 4.104855075332267, 3.4366800354245775, 3.436691847474742, 3.4366950974722155, 3.4366881934096716, 3.4366902044881464, 3.4366939618459234, 3.4366973130185445, 3.4367764557767857, 3.4367781357641696, 3.43680861239401, 3.4368137429132353, 2.768632598819492, 2.768632497153466, 2.768639939859776, 2.7686424071877918, 2.768634751396733, 2.7686313421625868, 2.7686402337461633, 2.7686404476130386, 12.756615256736504, 11.772647426476254, 37.45449260094379, 8.89777732540194, 4.270589029859369, 6.728912368915789, 6.805954162075648, 7.524020051460417, 11.044267094918686, 20.718062485285163, 123.41804253361191, 56.12552618762657, 159.02530730326316, 77.2088205178324, 92.87224595627735, 173.78499315005334, 22.764271180695044, 25.88712826743837, 51.025481847454614, 8.023667491046087, 39.20708149600677, 42.13907068487826, 47.442681915391034, 107.95089947844941, 59.86721790096318, 60.05305357857007, 82.82808553181147, 92.10298194242677, 163.08375905090247, 164.06092343077103, 18.133911047165764, 5.107137251899974, 4.486474259663669, 3.8662743183169708, 3.245819606224727, 3.2458448009318404, 3.2459033783640603, 3.24595754382882, 2.625476248825396, 2.6254804947264287, 2.6254867487038833, 2.6254874312928203, 2.6255003137368202, 2.6254939874119683, 2.625496500364454, 2.625498303225348, 2.6255294208791047, 2.6255321395099305, 2.6255417054428256, 2.625561640205184, 2.62556778754052, 2.625569540860696, 2.62557796969608, 2.625592625492565, 2.625608614986991, 2.6256121994818034, 8.665134492639265, 2.0051807466355314, 2.0051848811674353, 2.0051824689060824, 20.16830247528049, 4.106431917727964, 5.560690606898563, 5.706600731274861, 48.633637467069796, 8.814601487154494, 17.69077678777901, 7.75625213918185, 4.866839147447582, 4.912383201518043, 8.21613306928088, 128.51040759100982, 21.42009538773603, 9.171775987390749, 14.965475099908534, 5.415828806419404, 16.994924454018328, 17.011311702667403, 5.827645500260909, 6.576263704120826, 218.02497367567693, 46.32388845302708, 123.41804253361191, 159.02530730326316, 173.78499315005334, 60.117015629027534, 61.89726908423629, 148.44716312587101, 164.06092343077103, 77.9185753725496, 33.16531787480227, 105.98200165490319, 112.12127572738548, 161.33694142795332, 249.89462736496287, 51.025481847454614, 52.628088362897344, 165.37947957138476, 138.46559352658036, 56.43192035145212, 109.45431148806138, 6.314130400618243, 3.791553441592785, 3.287031369130422, 3.287036655517033, 2.782525801049713, 2.782530665955742, 2.278002717084156, 2.2780048281046543, 2.278008809781294, 2.278012266906289, 2.278012204797861, 2.2780158136234174, 2.2780159538197173, 1.7734866823512203, 1.7734879932575773, 1.7734887777764454, 1.7734925658102512, 1.773494969987363, 1.7734953506661841, 1.7734936721899286, 1.7734943531568, 1.7734944473621475, 1.7734952911647508, 1.7734959657224412, 1.773497424889411, 1.7734994280059833, 1.773500094142395, 1.773497254960065, 1.773502935685457, 3.141474289984033, 12.912187245848838, 4.509462121455586, 9.137534730179256, 17.730746440250194, 7.542650047965205, 11.242648653593548, 6.199822299318111, 10.067725684394233, 34.42223250092407, 7.097334913374997, 4.032071599269539, 7.5968387761544065, 9.345616541150083, 26.050627180434827, 9.510297642515845, 9.589138007378619, 29.556212481953125, 32.23143833166962, 18.76388164527043, 165.37947957138476, 132.22493652246234, 52.522644166433416, 119.19905791031516, 82.82808553181147, 87.13015469296344, 92.87224595627735, 34.843403051463675, 61.89726908423629, 63.23677001523989, 92.10298194242677, 109.68861782217606, 123.41804253361191, 173.78499315005334, 218.02497367567693], \"Category\": [\"Default\", \"Default\", \"Default\", \"Default\", \"Default\", \"Default\", \"Default\", \"Default\", \"Default\", \"Default\", \"Default\", \"Default\", \"Default\", \"Default\", \"Default\", \"Default\", \"Default\", \"Default\", \"Default\", \"Default\", \"Default\", \"Default\", \"Default\", \"Default\", \"Default\", \"Default\", \"Default\", \"Default\", \"Default\", \"Default\", \"Topic1\", \"Topic1\", \"Topic1\", \"Topic1\", \"Topic1\", \"Topic1\", \"Topic1\", \"Topic1\", \"Topic1\", \"Topic1\", \"Topic1\", \"Topic1\", \"Topic1\", \"Topic1\", \"Topic1\", \"Topic1\", \"Topic1\", \"Topic1\", \"Topic1\", \"Topic1\", \"Topic1\", \"Topic1\", \"Topic1\", \"Topic1\", \"Topic1\", \"Topic1\", \"Topic1\", \"Topic1\", \"Topic1\", \"Topic1\", \"Topic1\", \"Topic1\", \"Topic1\", \"Topic1\", \"Topic1\", \"Topic1\", \"Topic1\", \"Topic1\", \"Topic1\", \"Topic1\", \"Topic1\", \"Topic1\", \"Topic1\", \"Topic1\", \"Topic1\", \"Topic1\", \"Topic1\", \"Topic1\", \"Topic1\", \"Topic1\", \"Topic1\", \"Topic1\", \"Topic1\", \"Topic1\", \"Topic1\", \"Topic1\", \"Topic1\", \"Topic1\", \"Topic1\", \"Topic1\", \"Topic1\", \"Topic1\", \"Topic1\", \"Topic1\", \"Topic1\", \"Topic1\", \"Topic1\", \"Topic1\", \"Topic1\", \"Topic1\", \"Topic1\", \"Topic1\", \"Topic1\", \"Topic1\", \"Topic1\", \"Topic1\", \"Topic2\", \"Topic2\", \"Topic2\", \"Topic2\", \"Topic2\", \"Topic2\", \"Topic2\", \"Topic2\", \"Topic2\", \"Topic2\", \"Topic2\", \"Topic2\", \"Topic2\", \"Topic2\", \"Topic2\", \"Topic2\", \"Topic2\", \"Topic2\", \"Topic2\", \"Topic2\", \"Topic2\", \"Topic2\", \"Topic2\", \"Topic2\", \"Topic2\", \"Topic2\", \"Topic2\", \"Topic2\", \"Topic2\", \"Topic2\", \"Topic2\", \"Topic2\", \"Topic2\", \"Topic2\", \"Topic2\", \"Topic2\", \"Topic2\", \"Topic2\", \"Topic2\", \"Topic2\", \"Topic2\", \"Topic2\", \"Topic2\", \"Topic2\", \"Topic2\", \"Topic2\", \"Topic2\", \"Topic2\", \"Topic2\", \"Topic2\", \"Topic2\", \"Topic2\", \"Topic2\", \"Topic2\", \"Topic2\", \"Topic2\", \"Topic2\", \"Topic2\", \"Topic2\", \"Topic2\", \"Topic2\", \"Topic2\", \"Topic2\", \"Topic2\", \"Topic2\", \"Topic2\", \"Topic2\", \"Topic2\", \"Topic2\", \"Topic2\", \"Topic2\", \"Topic3\", \"Topic3\", \"Topic3\", \"Topic3\", \"Topic3\", \"Topic3\", \"Topic3\", \"Topic3\", \"Topic3\", \"Topic3\", \"Topic3\", \"Topic3\", \"Topic3\", \"Topic3\", \"Topic3\", \"Topic3\", \"Topic3\", \"Topic3\", \"Topic3\", \"Topic3\", \"Topic3\", \"Topic3\", \"Topic3\", \"Topic3\", \"Topic3\", \"Topic3\", \"Topic3\", \"Topic3\", \"Topic3\", \"Topic3\", \"Topic3\", \"Topic3\", \"Topic3\", \"Topic3\", \"Topic3\", \"Topic3\", \"Topic3\", \"Topic3\", \"Topic3\", \"Topic3\", \"Topic3\", \"Topic3\", \"Topic3\", \"Topic3\", \"Topic3\", \"Topic3\", \"Topic3\", \"Topic3\", \"Topic3\", \"Topic3\", \"Topic3\", \"Topic3\", \"Topic3\", \"Topic3\", \"Topic3\", \"Topic3\", \"Topic3\", \"Topic3\", \"Topic3\", \"Topic3\", \"Topic3\", \"Topic3\", \"Topic3\", \"Topic3\", \"Topic3\", \"Topic3\", \"Topic3\", \"Topic3\", \"Topic3\", \"Topic3\", \"Topic3\", \"Topic3\", \"Topic3\", \"Topic3\", \"Topic3\", \"Topic3\", \"Topic4\", \"Topic4\", \"Topic4\", \"Topic4\", \"Topic4\", \"Topic4\", \"Topic4\", \"Topic4\", \"Topic4\", \"Topic4\", \"Topic4\", \"Topic4\", \"Topic4\", \"Topic4\", \"Topic4\", \"Topic4\", \"Topic4\", \"Topic4\", \"Topic4\", \"Topic4\", \"Topic4\", \"Topic4\", \"Topic4\", \"Topic4\", \"Topic4\", \"Topic4\", \"Topic4\", \"Topic4\", \"Topic4\", \"Topic4\", \"Topic4\", \"Topic4\", \"Topic4\", \"Topic4\", \"Topic4\", \"Topic4\", \"Topic4\", \"Topic4\", \"Topic4\", \"Topic4\", \"Topic4\", \"Topic4\", \"Topic4\", \"Topic4\", \"Topic4\", \"Topic4\", \"Topic4\", \"Topic4\", \"Topic4\", \"Topic4\", \"Topic4\", \"Topic4\", \"Topic4\", \"Topic4\", \"Topic4\", \"Topic4\", \"Topic4\", \"Topic4\", \"Topic4\", \"Topic4\", \"Topic4\", \"Topic4\", \"Topic4\", \"Topic4\", \"Topic4\", \"Topic4\", \"Topic4\", \"Topic4\", \"Topic4\", \"Topic4\", \"Topic4\", \"Topic4\", \"Topic4\", \"Topic4\", \"Topic5\", \"Topic5\", \"Topic5\", \"Topic5\", \"Topic5\", \"Topic5\", \"Topic5\", \"Topic5\", \"Topic5\", \"Topic5\", \"Topic5\", \"Topic5\", \"Topic5\", \"Topic5\", \"Topic5\", \"Topic5\", \"Topic5\", \"Topic5\", \"Topic5\", \"Topic5\", \"Topic5\", \"Topic5\", \"Topic5\", \"Topic5\", \"Topic5\", \"Topic5\", \"Topic5\", \"Topic5\", \"Topic5\", \"Topic5\", \"Topic5\", \"Topic5\", \"Topic5\", \"Topic5\", \"Topic5\", \"Topic5\", \"Topic5\", \"Topic5\", \"Topic5\", \"Topic5\", \"Topic5\", \"Topic5\", \"Topic5\", \"Topic5\", \"Topic5\", \"Topic5\", \"Topic5\", \"Topic5\", \"Topic5\", \"Topic5\", \"Topic5\", \"Topic5\", \"Topic5\", \"Topic5\", \"Topic5\", \"Topic5\", \"Topic5\", \"Topic5\", \"Topic5\", \"Topic5\", \"Topic5\", \"Topic5\", \"Topic5\", \"Topic5\", \"Topic5\", \"Topic5\", \"Topic5\", \"Topic5\", \"Topic5\", \"Topic5\", \"Topic5\", \"Topic6\", \"Topic6\", \"Topic6\", \"Topic6\", \"Topic6\", \"Topic6\", \"Topic6\", \"Topic6\", \"Topic6\", \"Topic6\", \"Topic6\", \"Topic6\", \"Topic6\", \"Topic6\", \"Topic6\", \"Topic6\", \"Topic6\", \"Topic6\", \"Topic6\", \"Topic6\", \"Topic6\", \"Topic6\", \"Topic6\", \"Topic6\", \"Topic6\", \"Topic6\", \"Topic6\", \"Topic6\", \"Topic6\", \"Topic6\", \"Topic6\", \"Topic6\", \"Topic6\", \"Topic6\", \"Topic6\", \"Topic6\", \"Topic6\", \"Topic6\", \"Topic6\", \"Topic6\", \"Topic6\", \"Topic6\", \"Topic6\", \"Topic6\", \"Topic6\", \"Topic6\", \"Topic6\", \"Topic6\", \"Topic6\", \"Topic6\", \"Topic6\", \"Topic6\", \"Topic6\", \"Topic6\", \"Topic6\", \"Topic6\", \"Topic6\", \"Topic6\", \"Topic6\", \"Topic6\", \"Topic6\", \"Topic6\", \"Topic6\", \"Topic6\", \"Topic6\", \"Topic6\", \"Topic6\", \"Topic7\", \"Topic7\", \"Topic7\", \"Topic7\", \"Topic7\", \"Topic7\", \"Topic7\", \"Topic7\", \"Topic7\", \"Topic7\", \"Topic7\", \"Topic7\", \"Topic7\", \"Topic7\", \"Topic7\", \"Topic7\", \"Topic7\", \"Topic7\", \"Topic7\", \"Topic7\", \"Topic7\", \"Topic7\", \"Topic7\", \"Topic7\", \"Topic7\", \"Topic7\", \"Topic7\", \"Topic7\", \"Topic7\", \"Topic7\", \"Topic7\", \"Topic7\", \"Topic7\", \"Topic7\", \"Topic7\", \"Topic7\", \"Topic7\", \"Topic7\", \"Topic7\", \"Topic7\", \"Topic7\", \"Topic7\", \"Topic7\", \"Topic7\", \"Topic7\", \"Topic7\", \"Topic7\", \"Topic7\", \"Topic7\", \"Topic7\", \"Topic7\", \"Topic7\", \"Topic7\", \"Topic7\", \"Topic7\", \"Topic7\", \"Topic7\", \"Topic7\", \"Topic7\", \"Topic7\", \"Topic7\", \"Topic7\", \"Topic7\", \"Topic7\", \"Topic7\", \"Topic7\", \"Topic7\", \"Topic7\", \"Topic7\", \"Topic7\", \"Topic7\", \"Topic7\", \"Topic7\", \"Topic8\", \"Topic8\", \"Topic8\", \"Topic8\", \"Topic8\", \"Topic8\", \"Topic8\", \"Topic8\", \"Topic8\", \"Topic8\", \"Topic8\", \"Topic8\", \"Topic8\", \"Topic8\", \"Topic8\", \"Topic8\", \"Topic8\", \"Topic8\", \"Topic8\", \"Topic8\", \"Topic8\", \"Topic8\", \"Topic8\", \"Topic8\", \"Topic8\", \"Topic8\", \"Topic8\", \"Topic8\", \"Topic8\", \"Topic8\", \"Topic8\", \"Topic8\", \"Topic8\", \"Topic8\", \"Topic8\", \"Topic8\", \"Topic8\", \"Topic8\", \"Topic8\", \"Topic8\", \"Topic8\", \"Topic8\", \"Topic8\", \"Topic8\", \"Topic8\", \"Topic8\", \"Topic8\", \"Topic8\", \"Topic8\", \"Topic8\", \"Topic8\", \"Topic8\", \"Topic8\", \"Topic8\", \"Topic8\", \"Topic8\", \"Topic8\", \"Topic8\", \"Topic8\", \"Topic8\", \"Topic9\", \"Topic9\", \"Topic9\", \"Topic9\", \"Topic9\", \"Topic9\", \"Topic9\", \"Topic9\", \"Topic9\", \"Topic9\", \"Topic9\", \"Topic9\", \"Topic9\", \"Topic9\", \"Topic9\", \"Topic9\", \"Topic9\", \"Topic9\", \"Topic9\", \"Topic9\", \"Topic9\", \"Topic9\", \"Topic9\", \"Topic9\", \"Topic9\", \"Topic9\", \"Topic9\", \"Topic9\", \"Topic9\", \"Topic9\", \"Topic9\", \"Topic9\", \"Topic9\", \"Topic9\", \"Topic9\", \"Topic9\", \"Topic9\", \"Topic9\", \"Topic9\", \"Topic9\", \"Topic9\", \"Topic9\", \"Topic9\", \"Topic9\", \"Topic9\", \"Topic9\", \"Topic9\", \"Topic9\", \"Topic9\", \"Topic9\", \"Topic9\", \"Topic9\", \"Topic9\", \"Topic9\", \"Topic9\", \"Topic9\", \"Topic9\", \"Topic9\", \"Topic9\", \"Topic9\", \"Topic9\", \"Topic9\", \"Topic9\", \"Topic9\", \"Topic9\", \"Topic9\", \"Topic9\", \"Topic9\", \"Topic9\", \"Topic9\", \"Topic9\", \"Topic10\", \"Topic10\", \"Topic10\", \"Topic10\", \"Topic10\", \"Topic10\", \"Topic10\", \"Topic10\", \"Topic10\", \"Topic10\", \"Topic10\", \"Topic10\", \"Topic10\", \"Topic10\", \"Topic10\", \"Topic10\", \"Topic10\", \"Topic10\", \"Topic10\", \"Topic10\", \"Topic10\", \"Topic10\", \"Topic10\", \"Topic10\", \"Topic10\", \"Topic10\", \"Topic10\", \"Topic10\", \"Topic10\", \"Topic10\", \"Topic10\", \"Topic10\", \"Topic10\", \"Topic10\", \"Topic10\", \"Topic10\", \"Topic10\", \"Topic10\", \"Topic10\", \"Topic10\", \"Topic10\", \"Topic10\", \"Topic10\", \"Topic10\", \"Topic10\", \"Topic10\", \"Topic10\", \"Topic10\", \"Topic10\", \"Topic10\", \"Topic10\", \"Topic10\", \"Topic10\", \"Topic10\", \"Topic10\", \"Topic10\", \"Topic10\", \"Topic10\", \"Topic10\", \"Topic10\", \"Topic10\", \"Topic10\", \"Topic10\", \"Topic10\"], \"logprob\": [30.0, 29.0, 28.0, 27.0, 26.0, 25.0, 24.0, 23.0, 22.0, 21.0, 20.0, 19.0, 18.0, 17.0, 16.0, 15.0, 14.0, 13.0, 12.0, 11.0, 10.0, 9.0, 8.0, 7.0, 6.0, 5.0, 4.0, 3.0, 2.0, 1.0, -6.0607, -6.8671, -6.9533, -7.0477, -7.152, -7.1522, -7.2683, -7.2684, -7.2684, -7.2684, -7.2686, -7.4002, -7.4002, -7.4002, -7.4002, -6.7142, -7.5519, -7.5519, -7.5519, -7.552, -7.552, -7.552, -7.552, -7.552, -7.552, -7.552, -7.552, -7.552, -7.552, -7.4178, -6.9533, -7.0477, -6.6455, -7.152, -6.6456, -5.8851, -6.4105, -7.152, -6.0245, -6.324, -5.4599, -4.6867, -4.8115, -7.0773, -5.7574, -6.0024, -6.7874, -5.5087, -6.6456, -5.7577, -5.7201, -5.6805, -5.4436, -5.4486, -5.4517, -6.6105, -6.1584, -5.8318, -5.7465, -6.183, -5.5927, -5.5094, -5.6963, -5.7883, -5.6038, -5.627, -5.7183, -6.1259, -6.0715, -5.853, -5.9266, -5.9522, -5.9041, -6.0108, -5.9742, -6.0309, -6.6122, -6.6122, -6.7285, -6.8603, -6.8603, -7.0121, -7.0121, -7.0121, -7.0121, -7.0122, -7.0122, -7.1912, -7.1912, -7.1912, -7.1912, -7.1912, -7.1914, -7.4094, -7.4094, -7.4094, -7.4094, -7.4094, -7.4094, -7.4094, -7.4094, -7.4094, -7.4094, -7.4094, -7.4094, -7.4094, -6.8603, -6.1742, -5.0116, -7.0121, -6.4134, -7.0121, -6.6122, -6.3307, -6.7286, -5.9813, -5.5878, -6.0416, -6.1057, -5.4834, -5.3667, -5.1045, -5.958, -6.6121, -5.0794, -5.4398, -5.2144, -5.5975, -5.2588, -5.2169, -6.0399, -5.4268, -5.3353, -6.1682, -5.7827, -5.6342, -5.6512, -5.825, -5.7519, -5.7739, -5.5682, -5.5371, -5.7565, -5.7441, -5.8583, -6.0146, -6.0376, -6.379, -6.4718, -6.4718, -6.4735, -6.5768, -6.8259, -6.8267, -6.976, -6.976, -6.9762, -6.9768, -6.9768, -6.977, -6.9772, -6.978, -5.7049, -7.1551, -7.1551, -7.1551, -7.1552, -7.1554, -7.1555, -7.1564, -7.1566, -7.3733, -7.3733, -7.3733, -7.3733, -7.3733, -7.3733, -6.2187, -6.6927, -6.472, -6.8266, -6.3797, -6.8244, -5.8346, -6.8248, -6.8254, -6.3349, -6.5958, -6.4825, -6.5784, -6.8254, -4.7484, -5.5793, -5.4394, -5.4917, -5.1219, -6.2117, -5.2921, -5.9633, -6.0697, -5.6494, -6.191, -5.7257, -5.4956, -5.5124, -5.5742, -5.4254, -5.894, -5.4884, -5.7141, -5.8873, -5.6475, -5.7384, -5.9865, -5.7187, -5.946, -5.8589, -5.8379, -5.8621, -5.906, -5.9257, -5.8684, -5.8949, -5.2813, -5.2814, -6.0446, -6.1239, -6.4089, -6.5253, -6.5253, -6.6571, -6.6571, -6.8089, -6.8089, -6.8089, -6.8089, -6.9879, -6.9879, -6.988, -7.2061, -7.2061, -7.2061, -7.2061, -7.2061, -7.2062, -7.2062, -7.2062, -7.2062, -7.2062, -7.2062, -7.2062, -7.2063, -7.4857, -6.809, -6.4089, -6.2102, -6.8089, -6.2102, -6.9879, -6.8088, -4.6954, -6.6571, -5.6674, -6.2102, -6.7579, -6.9879, -5.4719, -6.5252, -5.0011, -5.4303, -6.1239, -5.2112, -6.3046, -6.5253, -5.6163, -5.5166, -5.8994, -5.8383, -5.476, -5.9024, -5.6101, -5.4317, -5.6659, -5.8184, -5.9023, -5.9668, -5.7706, -5.837, -5.8969, -5.8356, -5.8992, -5.8993, -5.7716, -5.9011, -5.9005, -5.8993, -5.9651, -6.12, -6.2058, -6.2058, -6.2062, -6.3002, -6.3002, -6.6526, -6.6526, -6.6526, -6.6526, -6.653, -6.8044, -6.8044, -6.8045, -6.8045, -6.9835, -6.9835, -6.9835, -6.9836, -6.984, -7.2017, -7.2017, -7.2017, -7.2017, -7.2017, -7.2018, -7.2018, -7.2018, -7.2018, -7.2018, -5.9665, -6.0401, -5.612, -6.1195, -6.1196, -6.805, -6.1195, -6.3003, -6.4045, -4.7918, -6.5211, -6.2064, -6.2058, -4.8988, -5.4709, -5.1253, -4.7746, -5.159, -5.4828, -5.4063, -5.3242, -5.2273, -5.7664, -5.6454, -5.5703, -5.2266, -5.5541, -5.4044, -5.5408, -5.6861, -5.489, -5.7126, -5.6904, -5.7417, -5.9096, -5.7039, -5.7814, -5.8987, -5.9062, -5.861, -5.9057, -5.9451, -5.1698, -6.0395, -6.0395, -6.1437, -5.8589, -6.7228, -6.7228, -6.7228, -6.7228, -6.0395, -6.941, -6.941, -6.941, -6.941, -6.941, -6.9411, -6.9411, -6.9411, -6.9411, -6.9411, -6.9411, -6.9411, -6.9411, -6.9411, -7.2206, -7.2206, -7.2206, -7.2206, -7.2206, -6.0395, -6.7228, -5.5732, -5.9451, -5.513, -6.1437, -5.7058, -6.2602, -6.392, -5.4023, -5.945, -6.0395, -6.1438, -6.0395, -6.3919, -5.5731, -5.7058, -6.2601, -6.5438, -5.5731, -5.7057, -5.945, -5.8587, -5.7057, -5.6371, -5.6371, -5.7057, -5.7793, -5.8587, -5.8586, -5.9449, -5.9449, -5.9449, -5.9449, -6.0393, -6.0394, -6.0394, -6.0221, -6.1379, -6.1383, -6.1385, -6.4214, -6.4217, -6.6005, -6.6009, -6.6014, -6.8187, -6.8187, -6.8191, -6.8195, -6.1379, -7.0983, -7.0983, -7.0983, -7.0983, -7.0983, -7.0983, -7.0983, -7.0983, -7.0983, -7.0983, -7.0983, -7.0983, -7.0983, -7.0984, -7.0986, -7.0987, -6.2696, -4.8939, -6.4214, -6.4214, -6.8192, -6.1379, -6.8188, -6.8404, -6.8412, -6.601, -6.4338, -5.0046, -6.1555, -6.0679, -5.7368, -5.414, -5.509, -5.7409, -5.1579, -5.778, -5.4248, -5.7966, -5.2522, -5.9591, -6.0213, -5.6362, -5.4988, -5.7045, -5.5475, -5.6308, -5.6154, -5.6111, -5.8353, -5.7912, -5.8566, -5.8103, -5.9276, -5.9612, -5.9772, -5.9813, -6.0251, -5.9982, -6.0121, -4.5511, -5.5149, -5.7136, -5.7137, -5.9618, -5.9619, -6.1136, -6.1137, -6.2926, -6.2926, -6.2927, -6.5109, -6.5109, -6.5109, -6.5109, -6.5109, -6.5109, -6.5109, -6.511, -6.511, -6.511, -6.511, -6.7905, -6.7905, -6.7905, -6.7905, -6.7905, -6.7905, -6.7905, -6.7905, -5.4287, -5.7136, -4.8726, -5.9619, -6.5109, -6.2927, -6.2928, -6.2926, -6.1137, -5.8301, -5.0827, -5.5148, -5.2755, -5.5145, -5.5148, -5.349, -5.9617, -5.9617, -5.8299, -6.2928, -5.9618, -5.9618, -5.9617, -5.8297, -5.9615, -5.9616, -5.9614, -5.9614, -5.9614, -6.1128, -4.4515, -5.8273, -5.9789, -6.1581, -6.3763, -6.3763, -6.3763, -6.3764, -6.6558, -6.6558, -6.6558, -6.6559, -6.6559, -6.6559, -6.6559, -6.6559, -6.6559, -6.6559, -6.6559, -6.6559, -6.6559, -6.6559, -6.6559, -6.656, -6.656, -6.656, -5.4747, -7.0454, -7.0454, -7.0454, -4.7381, -6.3763, -6.158, -6.158, -4.8377, -5.979, -5.6957, -6.1581, -6.3763, -6.3763, -6.1581, -5.0724, -5.8271, -6.1582, -5.9791, -6.3762, -5.9791, -5.9789, -6.3763, -6.3763, -5.3803, -5.8271, -5.5789, -5.5789, -5.5788, -5.8271, -5.827, -5.6952, -5.695, -5.8269, -5.9789, -5.8271, -5.8269, -5.8272, -5.8268, -5.9791, -5.979, -5.9786, -5.9788, -5.9789, -5.9789, -5.1132, -5.7118, -5.8909, -5.8909, -6.1091, -6.1091, -6.3887, -6.3887, -6.3887, -6.3887, -6.3887, -6.3887, -6.3887, -6.7782, -6.7782, -6.7782, -6.7782, -6.7782, -6.7782, -6.7782, -6.7782, -6.7782, -6.7782, -6.7782, -6.7782, -6.7782, -6.7782, -6.7782, -6.7782, -6.3887, -5.2076, -6.1091, -5.7118, -5.3118, -5.8909, -5.7118, -6.1091, -5.8908, -5.3118, -6.1091, -6.3887, -6.1091, -6.1091, -5.7118, -6.1091, -6.1091, -5.7118, -5.7117, -5.8908, -5.3115, -5.4279, -5.7117, -5.5597, -5.7116, -5.7116, -5.7115, -5.8908, -5.8906, -5.8907, -5.8905, -5.8905, -5.8905, -5.8902, -6.1082], \"loglift\": [30.0, 29.0, 28.0, 27.0, 26.0, 25.0, 24.0, 23.0, 22.0, 21.0, 20.0, 19.0, 18.0, 17.0, 16.0, 15.0, 14.0, 13.0, 12.0, 11.0, 10.0, 9.0, 8.0, 7.0, 6.0, 5.0, 4.0, 3.0, 2.0, 1.0, 1.3362, 1.3041, 1.299, 1.293, 1.2856, 1.2854, 1.2765, 1.2764, 1.2764, 1.2764, 1.2763, 1.2649, 1.2649, 1.2648, 1.2648, 1.2529, 1.2497, 1.2497, 1.2497, 1.2497, 1.2497, 1.2497, 1.2497, 1.2497, 1.2497, 1.2497, 1.2497, 1.2496, 1.2496, 1.2483, 1.223, 1.2172, 1.1602, 1.1975, 1.1046, 0.9508, 1.0101, 1.155, 0.873, 0.93, 0.6938, 0.4322, 0.4438, 1.1053, 0.536, 0.6271, 0.9795, 0.3156, 0.888, 0.424, 0.3886, 0.2961, 0.1272, 0.1078, 0.0939, 0.8475, 0.5398, 0.3114, 0.2118, 0.5395, 0.047, -0.0274, 0.0876, 0.1561, -0.0642, -0.0953, -0.009, 0.4627, 0.3364, 0.0061, -0.0063, -0.0099, -0.1487, -0.0108, -0.1904, -0.0413, 1.8835, 1.8835, 1.8738, 1.8614, 1.8614, 1.8452, 1.8452, 1.8452, 1.8452, 1.8452, 1.8452, 1.8231, 1.8231, 1.8231, 1.823, 1.823, 1.8228, 1.7911, 1.7911, 1.7911, 1.791, 1.791, 1.791, 1.791, 1.791, 1.791, 1.791, 1.791, 1.791, 1.791, 1.7899, 1.756, 1.6189, 1.7213, 1.6148, 1.7013, 1.6033, 1.5175, 1.5721, 1.2723, 1.1088, 1.2612, 1.2763, 0.9485, 0.8058, 0.5352, 1.0507, 1.4644, 0.477, 0.6636, 0.4949, 0.6256, 0.3121, 0.2652, 0.9565, 0.3286, 0.2044, 0.9575, 0.5107, 0.3081, 0.2691, 0.4775, 0.1927, 0.2028, -0.3129, -0.4182, 0.0273, -0.2124, -0.0744, 0.1671, 0.2467, 1.9354, 1.9306, 1.9305, 1.9287, 1.9218, 1.8987, 1.898, 1.8842, 1.8842, 1.884, 1.8833, 1.8833, 1.8832, 1.883, 1.8822, 1.8642, 1.862, 1.862, 1.862, 1.8619, 1.8616, 1.8616, 1.8606, 1.8603, 1.8299, 1.8298, 1.8298, 1.8298, 1.8298, 1.8298, 1.8053, 1.8091, 1.7971, 1.8104, 1.7693, 1.791, 1.576, 1.784, 1.7721, 1.5499, 1.6389, 1.4915, 1.5333, 1.676, 0.3705, 0.7011, 0.505, 0.4978, 0.1334, 1.1655, 0.2396, 0.8762, 0.9724, 0.4938, 1.0732, 0.5404, 0.2598, 0.2714, 0.2849, 0.0567, 0.6671, 0.0512, 0.2625, 0.4967, -0.0766, 0.0455, 0.5601, -0.173, 0.4012, 0.0994, -0.0135, 0.0583, 0.1973, 0.2443, -0.1591, -0.2552, 2.1758, 2.1758, 2.144, 2.1392, 2.1185, 2.1084, 2.1084, 2.0956, 2.0956, 2.0788, 2.0788, 2.0788, 2.0787, 2.0559, 2.0559, 2.0559, 2.0228, 2.0228, 2.0228, 2.0228, 2.0228, 2.0228, 2.0228, 2.0228, 2.0228, 2.0228, 2.0228, 2.0228, 2.0227, 1.9706, 1.969, 1.9595, 1.9122, 1.9554, 1.6477, 1.9375, 1.8475, 0.8502, 1.7609, 1.2482, 1.5081, 1.7735, 1.8951, 0.9583, 1.59, 0.5306, 0.6868, 1.2437, 0.3284, 1.378, 1.5568, 0.5676, 0.4257, 0.7217, 0.5696, 0.0061, 0.6412, 0.1454, -0.1764, 0.1178, 0.3353, 0.5103, 0.5748, 0.0885, 0.1077, 0.0797, -0.1959, 0.059, 0.021, -0.6527, -0.0768, -0.1912, -0.3284, 0.2074, 2.1445, 2.1393, 2.1392, 2.1389, 2.1325, 2.1325, 2.1013, 2.1013, 2.1013, 2.1013, 2.101, 2.0846, 2.0845, 2.0845, 2.0845, 2.0616, 2.0616, 2.0615, 2.0615, 2.0611, 2.0285, 2.0285, 2.0284, 2.0284, 2.0284, 2.0284, 2.0284, 2.0284, 2.0284, 2.0284, 1.9739, 1.9658, 1.9101, 1.9294, 1.8506, 1.9604, 1.8, 1.7925, 1.7652, 1.2082, 1.7978, 1.5884, 1.5587, 0.6576, 0.9968, 0.6585, 0.3442, 0.5503, 0.8014, 0.5833, 0.4597, 0.3184, 0.905, 0.6571, 0.5467, 0.0287, 0.3906, 0.0777, 0.2146, 0.4838, 0.0426, 0.4713, 0.1688, 0.2027, 0.8429, -0.1642, 0.1389, 0.5091, 0.5257, -0.2213, 0.2867, 2.4556, 2.4529, 2.4484, 2.4484, 2.4397, 2.375, 2.3732, 2.3731, 2.3731, 2.3731, 2.3531, 2.3381, 2.3381, 2.3381, 2.338, 2.338, 2.338, 2.338, 2.338, 2.338, 2.338, 2.338, 2.338, 2.338, 2.338, 2.2829, 2.2829, 2.2829, 2.2829, 2.2829, 2.2683, 2.2093, 1.8399, 1.9388, 1.6575, 1.8702, 1.5082, 1.878, 1.964, 1.0102, 1.4279, 1.5074, 1.5427, 1.415, 1.7732, 0.8946, 0.9873, 1.5033, 1.8268, 0.5355, 0.6796, 0.9535, 0.6052, 0.2526, 0.0026, -0.0975, -0.1348, 0.0451, 0.086, 0.0005, 0.239, 0.1585, 0.0551, -0.4628, -0.5076, 0.2598, 0.153, 2.5922, 2.5818, 2.5813, 2.5811, 2.5493, 2.5489, 2.5241, 2.5236, 2.5231, 2.4879, 2.4879, 2.4875, 2.487, 2.463, 2.431, 2.431, 2.431, 2.431, 2.431, 2.431, 2.431, 2.4309, 2.4309, 2.4309, 2.4309, 2.4309, 2.4309, 2.4309, 2.4306, 2.4306, 2.3138, 1.8965, 2.2638, 2.26, 2.3252, 1.9975, 2.2834, 2.2664, 2.2655, 2.0846, 1.9407, 0.5518, 1.4922, 1.3988, 1.0403, 0.6947, 0.6834, 0.9313, 0.0974, 0.8765, 0.3306, 0.8474, -0.1333, 1.062, 1.1456, 0.3534, 0.0328, 0.4655, -0.0019, 0.0089, -0.0446, -0.0714, 0.3486, -0.0075, 0.0881, -0.3282, 0.3528, 0.4241, -0.0328, -0.1222, 0.6268, -0.2143, -0.0698, 3.0862, 3.0315, 3.0128, 3.0126, 2.9842, 2.984, 2.9634, 2.9633, 2.9351, 2.9351, 2.935, 2.8945, 2.8945, 2.8945, 2.8945, 2.8945, 2.8945, 2.8945, 2.8944, 2.8944, 2.8943, 2.8943, 2.8311, 2.8311, 2.8311, 2.8311, 2.8311, 2.8311, 2.8311, 2.8311, 2.6652, 2.4605, 2.1442, 2.4922, 2.6772, 2.4408, 2.4293, 2.3292, 2.1243, 1.7788, 0.7416, 1.0975, 0.2953, 0.7789, 0.5939, 0.1331, 1.5531, 1.4245, 0.8777, 2.2647, 1.0093, 0.9371, 0.8186, 0.1285, 0.5863, 0.5831, 0.2617, 0.1556, -0.4157, -0.5731, 3.2907, 3.182, 3.1599, 3.1295, 3.0863, 3.0862, 3.0862, 3.0861, 3.0188, 3.0188, 3.0188, 3.0188, 3.0188, 3.0188, 3.0188, 3.0188, 3.0187, 3.0187, 3.0187, 3.0187, 3.0187, 3.0187, 3.0187, 3.0186, 3.0186, 3.0186, 3.0059, 2.8988, 2.8988, 2.8988, 2.8977, 2.8511, 2.7662, 2.7403, 1.9179, 2.4845, 2.0712, 2.4333, 2.6812, 2.6718, 2.3757, 0.7115, 1.7484, 2.2656, 1.9551, 2.5743, 1.8279, 1.8271, 2.501, 2.3802, -0.125, 0.9772, 0.2454, -0.008, -0.0967, 0.7165, 0.6875, -0.0555, -0.1553, 0.4574, 1.1595, 0.1496, 0.0935, -0.2708, -0.7079, 0.7285, 0.6977, -0.4469, -0.2695, 0.628, -0.0345, 3.6839, 3.5953, 3.5591, 3.5591, 3.5074, 3.5074, 3.4279, 3.4279, 3.4279, 3.4279, 3.4279, 3.4279, 3.4279, 3.2888, 3.2888, 3.2888, 3.2888, 3.2888, 3.2888, 3.2888, 3.2888, 3.2888, 3.2888, 3.2888, 3.2888, 3.2888, 3.2888, 3.2888, 3.2888, 3.1065, 2.8742, 3.0246, 2.7157, 2.4528, 2.7285, 2.5084, 2.7063, 2.4397, 1.7894, 2.5711, 2.8569, 2.5031, 2.2959, 1.6681, 2.2785, 2.2702, 1.5419, 1.4552, 1.8172, 0.2202, 0.3275, 0.967, 0.2994, 0.5115, 0.4609, 0.3972, 1.1983, 0.6239, 0.6023, 0.2265, 0.0518, -0.0662, -0.4081, -0.8529]}, \"token.table\": {\"Topic\": [10, 7, 1, 2, 3, 4, 5, 6, 7, 8, 9, 10, 10, 5, 2, 10, 3, 4, 6, 9, 3, 4, 5, 6, 4, 2, 4, 9, 2, 4, 5, 6, 7, 8, 5, 2, 3, 4, 6, 1, 2, 1, 2, 6, 8, 10, 8, 1, 4, 5, 3, 1, 2, 4, 5, 8, 10, 1, 4, 10, 1, 2, 4, 5, 10, 1, 2, 4, 10, 4, 2, 8, 5, 1, 6, 2, 3, 1, 4, 10, 4, 6, 3, 4, 9, 1, 2, 3, 4, 5, 6, 7, 8, 9, 7, 8, 5, 1, 1, 1, 2, 3, 4, 5, 6, 8, 9, 10, 6, 4, 1, 2, 1, 5, 6, 1, 6, 9, 9, 4, 5, 6, 5, 10, 1, 2, 3, 5, 6, 9, 3, 6, 9, 9, 1, 2, 3, 6, 5, 7, 4, 9, 6, 5, 10, 6, 1, 1, 2, 3, 4, 10, 1, 2, 9, 1, 3, 6, 7, 8, 10, 7, 1, 2, 3, 4, 5, 6, 7, 8, 9, 10, 3, 7, 1, 2, 3, 4, 5, 6, 7, 8, 9, 10, 7, 4, 1, 9, 1, 3, 2, 1, 2, 4, 7, 5, 6, 10, 2, 3, 4, 10, 1, 2, 4, 5, 6, 7, 10, 8, 3, 6, 9, 1, 4, 7, 2, 10, 1, 2, 3, 4, 5, 6, 7, 8, 9, 10, 2, 1, 2, 4, 5, 7, 5, 7, 1, 6, 1, 2, 3, 4, 5, 7, 8, 9, 10, 3, 1, 5, 6, 1, 2, 10, 2, 8, 3, 9, 1, 1, 2, 3, 4, 5, 6, 8, 9, 4, 2, 1, 2, 3, 4, 5, 6, 7, 8, 9, 10, 8, 1, 3, 4, 6, 7, 1, 1, 2, 1, 2, 3, 4, 5, 6, 7, 8, 9, 10, 1, 3, 7, 1, 2, 5, 6, 7, 9, 10, 5, 5, 1, 2, 3, 4, 5, 6, 8, 9, 1, 2, 3, 4, 5, 6, 7, 8, 9, 10, 3, 5, 2, 7, 8, 1, 2, 4, 6, 7, 8, 9, 10, 1, 4, 1, 3, 5, 8, 1, 10, 3, 1, 2, 4, 5, 8, 4, 1, 2, 3, 4, 5, 6, 7, 9, 10, 1, 2, 3, 4, 5, 6, 7, 8, 9, 10, 1, 2, 8, 5, 1, 10, 2, 4, 6, 4, 1, 2, 3, 4, 5, 6, 7, 9, 10, 6, 3, 1, 3, 4, 5, 6, 7, 8, 10, 4, 7, 7, 6, 6, 1, 2, 3, 4, 5, 6, 7, 8, 9, 8, 2, 1, 2, 3, 4, 5, 6, 7, 4, 7, 2, 3, 5, 10, 1, 2, 1, 2, 3, 4, 5, 6, 7, 8, 6, 3, 1, 2, 3, 4, 5, 6, 7, 8, 9, 3, 9, 9, 1, 3, 4, 7, 3, 8, 1, 2, 3, 4, 5, 6, 7, 9, 10, 4, 6, 1, 2, 3, 4, 1, 2, 3, 4, 5, 6, 7, 8, 9, 10, 9, 8, 3, 6, 4, 3, 1, 2, 3, 4, 5, 6, 7, 6, 9, 1, 2, 3, 4, 5, 6, 7, 8, 9, 10, 1, 2, 3, 4, 5, 6, 7, 8, 9, 10, 1, 2, 3, 4, 5, 6, 7, 1, 2, 3, 1, 2, 3, 4, 5, 6, 7, 8, 9, 10, 5, 1, 2, 3, 4, 5, 6, 7, 9, 5, 10, 1, 2, 3, 4, 5, 6, 7, 8, 9, 10, 3, 5, 7, 1, 2, 3, 4, 5, 6, 7, 8, 9, 5, 8, 1, 2, 4, 6, 8, 5, 1, 2, 3, 4, 5, 6, 7, 8, 9, 10, 1, 7, 8, 3, 6, 5, 1, 2, 3, 4, 5, 6, 7, 8, 9, 1, 1, 4, 10, 1, 2, 3, 4, 5, 6, 7, 9, 10, 6, 10, 1, 2, 3, 4, 5, 6, 7, 8, 9, 1, 2, 3, 4, 5, 6, 7, 8, 9, 10, 7, 3, 1, 3, 7, 1, 2, 3, 4, 5, 6, 7, 8, 9, 10, 5, 8, 7, 1, 6, 8, 7, 10, 1, 3, 4, 6, 1, 2, 3, 4, 7, 1, 2, 3, 6, 3, 1, 2, 5, 6, 8, 10, 9, 1, 2, 3, 4, 5, 7, 4, 5, 9, 2, 3, 4, 6, 8, 9, 9, 9, 3, 4, 9, 3, 5, 1, 3, 6, 7, 10, 8, 3, 1, 2, 3, 4, 5, 6, 7, 8, 9, 10, 1, 2, 3, 4, 7, 8, 4, 3, 2, 4, 5, 10, 4, 3, 6, 6, 2, 2, 4, 9, 1, 2, 3, 4, 6, 7, 8, 1, 2, 3, 4, 5, 6, 7, 8, 9, 3, 7, 4, 1, 4, 10, 1, 3, 1, 3, 1, 2, 3, 1, 2, 3, 4, 5, 6, 7, 8, 9, 10, 10, 8, 1, 2, 3, 4, 5, 6, 7, 8, 9, 10, 1, 7, 1, 5, 7, 1, 3, 8, 4, 4, 3, 5, 1, 2, 3, 4, 5, 6, 7, 8, 9, 10, 2, 3, 4, 8, 1, 2, 3, 4, 5, 6, 7, 8, 9, 1, 2, 3, 4, 6, 7, 8, 10, 3, 2, 1, 5, 3, 9, 1, 2, 3, 4, 5, 6, 7, 8, 9, 10, 1, 2, 3, 4, 5, 6, 7, 8, 10, 4, 9, 8, 1, 2, 3, 4, 5, 6, 7, 8, 9, 10, 1, 2, 3, 4, 5, 6, 7, 8, 9, 10, 1, 9, 1, 2, 4, 5, 7, 10, 1, 2, 3, 4, 5, 6, 7, 8, 9, 6, 1, 2, 3, 4, 5, 6, 7, 8, 10, 7, 1, 7, 8, 9, 7, 1, 2, 3, 4, 5, 7, 9, 9, 2, 3, 6, 7, 1, 2, 3, 4, 5, 6, 7, 8, 9, 10, 2, 3, 4, 5, 8, 1, 4, 5, 1, 4, 6, 7, 6, 1, 5, 9, 2, 10, 8, 1, 2, 3, 4, 6, 7, 8, 9, 1, 5, 7, 1, 2, 4, 5, 6, 8, 9, 1, 2, 3, 4, 6, 7, 9, 1, 2, 3, 4, 6, 8, 10, 1, 9, 3, 8, 1, 6, 2, 1, 2, 3, 4, 5, 6, 7, 8, 9, 10, 9, 6, 8, 1, 2, 3, 4, 5, 6, 7, 8, 9, 8, 5, 2, 1, 5, 1, 3, 4, 5, 6, 7, 1, 2, 5, 7, 8, 1, 2, 3, 4, 5, 6, 7, 8, 9, 10, 1, 2, 5, 1, 2, 3, 4, 5, 6, 7, 8, 9, 8, 2, 1, 4, 5, 8, 3, 7, 2, 2, 1, 7, 1, 2, 3, 4, 5, 6, 7, 8, 10, 1, 9, 7, 2, 1, 2, 3, 4, 5, 6, 7, 8, 10, 1, 2, 3, 4, 5, 6, 8, 9, 6, 2, 4, 8, 1, 3, 4, 5, 7, 1, 1, 4, 9, 9, 2, 10, 1, 7, 8, 9, 7, 1, 2, 3, 4, 5, 6, 7, 8, 9, 1, 2, 3, 4, 5, 7, 8, 9, 6, 1, 7, 10, 9, 1, 2, 3, 4, 8, 10, 1, 5, 8, 8, 1, 2, 4, 5, 10, 4, 6, 2, 4, 5, 5, 6, 10, 1, 1, 2, 3, 4, 5, 6, 7, 8, 9, 10, 1, 2, 3, 5, 6, 7, 8, 9, 1, 6, 5, 1, 2, 3, 4, 5, 6, 7, 8, 9, 9, 4, 8, 2, 3, 10, 3, 3, 4, 3, 7, 9, 9, 4, 1, 2, 4, 5, 6, 10, 10, 8, 1, 2, 5, 6, 7, 8, 9, 5, 9, 2, 1, 2, 3, 4, 5, 6, 7, 8, 9, 10, 1, 2, 3, 4, 5, 6, 7, 8, 9, 1, 2, 3, 4, 5, 6, 7, 8, 1, 4, 5, 6, 7, 5, 1, 2, 3, 2, 1, 1, 2, 3, 4, 5, 7, 8, 9, 1, 2, 3, 6, 9, 8, 1, 6, 2, 1, 2, 3, 4, 5, 7, 8, 9, 10, 4, 8, 1, 2, 3, 4, 5, 6, 7, 8, 9, 10, 1, 2, 3, 1, 3, 1, 2, 5, 6, 7, 1, 2, 3, 9, 7, 1, 2, 4, 5, 6, 7, 9, 7, 10, 3, 6, 10, 1, 2, 3, 4, 6, 1, 2, 3, 4, 6, 7, 8, 9, 10, 10, 1, 2, 3, 4, 5, 6, 7, 8, 9, 4, 1, 4, 5, 5, 1, 2, 3, 4, 5, 6, 7, 8, 9, 10, 1, 2, 3, 4, 5, 6, 7, 8, 9, 10, 9, 1, 2, 3, 4, 5, 6, 7, 9, 10, 3, 1, 10, 2, 6, 3, 1, 2, 3, 4, 5, 6, 7, 8, 9, 10, 7, 1, 8, 3, 4, 1, 2, 3, 4, 5, 6, 7, 8, 10, 4, 8, 9, 10, 4, 1, 2, 1, 2, 3, 4, 5, 6, 7, 8, 9, 1, 2, 3, 4, 5, 6, 7, 8, 9, 1, 2, 3, 4, 5, 6, 7, 8, 9, 10, 9, 6, 1, 2, 3, 4, 5, 6, 7, 8, 9, 10, 4, 5, 7, 6, 1, 2, 3, 4, 5, 6, 7, 8, 9, 1, 2, 3, 4, 5, 6, 8, 9, 10, 3, 7, 9, 1, 2, 3, 5, 6, 7, 8, 9, 10, 1, 2, 3, 4, 5, 6, 7, 8, 9, 10, 9, 2, 7, 9, 1, 2, 3, 4, 5, 7, 8, 9, 10, 10, 2, 5, 3, 5, 9, 7, 1, 2, 3, 4, 5, 7, 9, 1, 2, 3, 4, 5, 6, 7, 8, 9, 9, 2, 8, 5, 7, 7, 10, 1, 2, 3, 4, 5, 6, 7, 8, 9, 1, 2, 3, 4, 5, 6, 8, 9, 1, 2, 3, 4, 5, 6, 7, 8, 9, 10, 7, 4, 1, 2, 3, 4, 5, 6, 7, 8, 9, 10, 8, 4, 3, 1, 2, 3, 1, 2, 3, 4, 5, 6, 7, 8, 9, 10, 4, 1, 2, 3, 4, 5, 6, 9, 10, 1, 2, 4, 5, 7, 8, 9, 10, 1, 5, 10, 5, 1, 2, 3, 4, 5, 6, 7, 8, 9, 9, 3, 6, 10, 3, 4, 5, 8, 4, 1, 2, 3, 4, 5, 6, 7, 8, 9, 3, 1, 2, 3, 4, 5, 6, 7, 8, 9, 10, 1, 2, 3, 4, 5, 6, 7, 8, 9, 10, 1, 2, 3, 4, 5, 6, 7, 8, 10, 1, 2, 3, 4, 6, 7, 9, 10, 10, 6, 8, 1, 2, 4, 1, 2, 3, 4, 5, 6, 7, 8, 9, 10, 1, 2, 3, 4, 5, 6, 7, 8, 9, 6, 1, 5, 6, 8, 1, 2, 3, 4, 7, 9, 10, 2, 1, 2, 3, 4, 6, 7, 8, 9, 3, 9], \"Freq\": [0.877959730187354, 0.6586903505905164, 0.30556095262205063, 0.12581921578555025, 0.08987086841825018, 0.2336642578874505, 0.08987086841825018, 0.05392252105095011, 0.07189669473460014, 0.017974173683650035, 0.017974173683650035, 0.017974173683650035, 0.5638567504466733, 0.7326279681600312, 0.4435118748385074, 0.4435118748385074, 0.20863708134005712, 0.3651148923451, 0.3651148923451, 0.05215927033501428, 0.12141840434732282, 0.6070920217366141, 0.12141840434732282, 0.12141840434732282, 0.9185495875070921, 0.11540501775817395, 0.11540501775817395, 0.6924301065490437, 0.23250592028916642, 0.058126480072291604, 0.5231383206506244, 0.11625296014458321, 0.058126480072291604, 0.058126480072291604, 0.9101038017726731, 0.07236668625718343, 0.2894667450287337, 0.07236668625718343, 0.506566803800284, 0.9545452812750367, 0.9482377252085503, 0.07704327568996078, 0.6163462055196862, 0.15408655137992155, 0.07704327568996078, 0.07704327568996078, 0.872911007917719, 0.8977371966646408, 0.0690567074357416, 0.7326277571306308, 0.7893444064073226, 0.08894701158168494, 0.08894701158168494, 0.26684103474505483, 0.26684103474505483, 0.08894701158168494, 0.26684103474505483, 0.10315846069027093, 0.8252676855221674, 0.10315846069027093, 0.10150150334153217, 0.5075075167076608, 0.16916917223588696, 0.10150150334153217, 0.10150150334153217, 0.14089795848797979, 0.28179591697595957, 0.28179591697595957, 0.28179591697595957, 0.7317314780228971, 0.8409980282212262, 0.8628014840520319, 0.8800407436181711, 0.09017474224068905, 0.8115726801662014, 0.9482454062712484, 0.8434350541679018, 0.24801146888888648, 0.24801146888888648, 0.49602293777777295, 0.8107492998026171, 0.7693502637331209, 0.17258415645819872, 0.6903366258327949, 0.7617370434561908, 0.2485234335587787, 0.12426171677938935, 0.21984765276353502, 0.047792967992072825, 0.20073046556670587, 0.01911718719682913, 0.09558593598414565, 0.028675780795243695, 0.009558593598414565, 0.6586900186103037, 0.9434857693948182, 0.7326230782180395, 0.9030215687094145, 0.8843782539020064, 0.13608756678918604, 0.09072504452612402, 0.18145008905224805, 0.09072504452612402, 0.09072504452612402, 0.3629001781044961, 0.04536252226306201, 0.04536252226306201, 0.5638582585651362, 0.7693433310277897, 0.8107475016081233, 0.2655755114183983, 0.7082013637823954, 0.3812702029975115, 0.06354503383291858, 0.5719053044962673, 0.3403443711405326, 0.22689624742702175, 0.4537924948540435, 0.891568694812898, 0.13447792482211213, 0.8068675489326728, 0.06723896241105606, 0.7326225368637881, 0.5638576531219485, 0.07979822740987615, 0.07979822740987615, 0.6383858192790092, 0.07979822740987615, 0.07979822740987615, 0.07979822740987615, 0.8434607748603079, 0.7693516210739006, 0.7617281526972403, 0.9242419290718394, 0.09024187241919708, 0.09024187241919708, 0.7219349793535766, 0.09024187241919708, 0.8117742238265792, 0.6586896252131154, 0.8669178899278243, 0.7617614093153809, 0.7693503470775411, 0.9297319687898811, 0.5638605977609019, 0.8541338413079789, 0.9185452507089117, 0.7782618865788231, 0.11118026951126044, 0.05559013475563022, 0.05559013475563022, 0.5638591439728604, 0.861412423633135, 0.9482356152708515, 0.7617475646469225, 0.08171866794513229, 0.08171866794513229, 0.08171866794513229, 0.4903120076707937, 0.08171866794513229, 0.16343733589026457, 0.6586881595362524, 0.12650867522284934, 0.12650867522284934, 0.189763012834274, 0.12650867522284934, 0.11069509081999317, 0.11069509081999317, 0.06325433761142467, 0.06325433761142467, 0.015813584402856167, 0.0474407532085685, 0.13015066238777317, 0.7809039743266389, 0.2988295726662551, 0.09960985755541837, 0.06640657170361225, 0.19921971511083675, 0.08300821462951531, 0.09960985755541837, 0.06640657170361225, 0.033203285851806125, 0.033203285851806125, 0.016601642925903062, 0.8794076604415062, 0.731734789450727, 0.88433922379755, 0.7617271127833442, 0.8512602333962939, 0.08512602333962939, 0.7871221778646166, 0.1839376460897828, 0.6131254869659427, 0.12262509739318853, 0.06131254869659426, 0.9069710342875745, 0.7693514153094125, 0.5638575990953899, 0.09932729906915111, 0.29798189720745333, 0.29798189720745333, 0.29798189720745333, 0.11375835234359752, 0.1516778031247967, 0.37919450781199177, 0.11375835234359752, 0.07583890156239835, 0.18959725390599588, 0.7187701556967535, 0.838080772472116, 0.5290597313897191, 0.2351376583954307, 0.2351376583954307, 0.14159807545694533, 0.14159807545694533, 0.7079903772847267, 0.8812175799315299, 0.7912324186415098, 0.22977457722375766, 0.11488728861187883, 0.16930758321750564, 0.18744768141938126, 0.11488728861187883, 0.04837359520500161, 0.07256039280750241, 0.012093398801250403, 0.024186797602500806, 0.030233497003126008, 0.7871284679851702, 0.16017601681031418, 0.08008800840515709, 0.5606160588360997, 0.08008800840515709, 0.16017601681031418, 0.21583975919521184, 0.6475192775856355, 0.9545499468342693, 0.930033297506145, 0.2905099197076061, 0.11620396788304244, 0.02905099197076061, 0.20335694379532426, 0.02905099197076061, 0.08715297591228183, 0.08715297591228183, 0.02905099197076061, 0.14525495985380305, 0.7893218391895719, 0.8227247008444047, 0.11753210012062926, 0.05876605006031463, 0.9545479493701418, 0.7871196485084975, 0.5638558470237327, 0.8409972605393314, 0.8729316727010735, 0.8097122141134443, 0.13495203568557404, 0.9761810461517474, 0.4403641937794821, 0.23313398494207876, 0.11656699247103938, 0.02590377610467542, 0.02590377610467542, 0.03885566415701313, 0.09066321636636397, 0.02590377610467542, 0.9284481415078405, 0.7871195775296159, 0.24743218168942802, 0.18413557707120223, 0.14385591958687674, 0.10933049888602633, 0.12083897245297646, 0.05178813105127563, 0.05178813105127563, 0.05178813105127563, 0.03452542070085042, 0.01726271035042521, 0.8729028404960444, 0.103383505567171, 0.103383505567171, 0.206767011134342, 0.516917527835855, 0.103383505567171, 0.9545520670535036, 0.9714238375770327, 0.7871176440900343, 0.22846901647027537, 0.17363645251740928, 0.10966512790573217, 0.11880388856454319, 0.16449769185859828, 0.08224884592929914, 0.07311008527048812, 0.027416281976433043, 0.01827752131762203, 0.009138760658811015, 0.12971966778776373, 0.7783180067265824, 0.7907539507862457, 0.03113652502714998, 0.28022872524434983, 0.18681915016289988, 0.40477482535294973, 0.06227305005429996, 0.03113652502714998, 0.03113652502714998, 0.8117630461719273, 0.8117795896791951, 0.348478915394581, 0.122992558374558, 0.061496279187279, 0.020498759729093, 0.245985116749116, 0.122992558374558, 0.040997519458186, 0.020498759729093, 0.2089526044542208, 0.1160847802523449, 0.04643391210093796, 0.19734412642898633, 0.17412717037851735, 0.1044763022271104, 0.09286782420187592, 0.03482543407570347, 0.01160847802523449, 0.02321695605046898, 0.8837407401791967, 0.8680435065852677, 0.9482373195987936, 0.658689242389013, 0.7223785881285999, 0.14215849802558428, 0.49755474308954495, 0.07107924901279214, 0.1066188735191882, 0.07107924901279214, 0.03553962450639607, 0.03553962450639607, 0.07107924901279214, 0.9316619273402291, 0.7317322841063386, 0.13169457248329, 0.19754185872493502, 0.65847286241645, 0.7223762123840545, 0.971420070356377, 0.9126761622705775, 0.9508162452939565, 0.21537740175082193, 0.21537740175082193, 0.4845991539393493, 0.05384435043770548, 0.05384435043770548, 0.7317342839675486, 0.26485821565977746, 0.20810288373268232, 0.05675533192709518, 0.15134755180558712, 0.03783688795139678, 0.05675533192709518, 0.1702659957812855, 0.01891844397569839, 0.01891844397569839, 0.24808654238256395, 0.14176373850432225, 0.08860233656520142, 0.14176373850432225, 0.07088186925216113, 0.12404327119128197, 0.07088186925216113, 0.05316140193912085, 0.07088186925216113, 0.5638569622344566, 0.362178854026479, 0.27163414051985924, 0.362178854026479, 0.7326243672671621, 0.9545408341031801, 0.8779570308683657, 0.097095049463144, 0.097095049463144, 0.776760395705152, 0.8669192890309666, 0.15512804450576298, 0.0930768267034578, 0.12410243560461039, 0.06205121780230519, 0.12410243560461039, 0.12410243560461039, 0.21717926230806817, 0.031025608901152597, 0.0930768267034578, 0.769348522016726, 0.7893425243746298, 0.12774171588730804, 0.2341931457933981, 0.06387085794365402, 0.06387085794365402, 0.02129028598121801, 0.44709600560557816, 0.02129028598121801, 0.02129028598121801, 0.7317327744725042, 0.6586889975782233, 0.9419422505276788, 0.9300376159983784, 0.7693499701240464, 0.2826422715019169, 0.3570218166340003, 0.01487590902641668, 0.02975181805283336, 0.17851090831700014, 0.05950363610566672, 0.02975181805283336, 0.01487590902641668, 0.02975181805283336, 0.8729354985266679, 0.948242530656159, 0.19142800913235594, 0.07657120365294237, 0.42114162009118306, 0.038285601826471186, 0.07657120365294237, 0.038285601826471186, 0.15314240730588474, 0.7662972878843048, 0.15325945757686096, 0.16129494551964582, 0.32258989103929164, 0.16129494551964582, 0.32258989103929164, 0.9545405966713832, 0.9482411225800745, 0.13677891223800975, 0.13677891223800975, 0.41033673671402926, 0.03419472805950244, 0.10258418417850731, 0.06838945611900488, 0.10258418417850731, 0.03419472805950244, 0.7693418500756477, 0.883816638865386, 0.25756433206576834, 0.14048963567223727, 0.08195228747547173, 0.09365975711482484, 0.14048963567223727, 0.09365975711482484, 0.14048963567223727, 0.011707469639353105, 0.03512240891805932, 0.5147876616492351, 0.5147876616492351, 0.7617601571263857, 0.06953612509674324, 0.6258251258706892, 0.20860837529022971, 0.06953612509674324, 0.8406064541807832, 0.09340071713119813, 0.21932322875476282, 0.19663461888358044, 0.1739460090123981, 0.12856878927003337, 0.13613165922709416, 0.007562869957060786, 0.09831730944179022, 0.015125739914121573, 0.030251479828243145, 0.18125806953890516, 0.7250322781556207, 0.2540001614055351, 0.7075718782011334, 0.018142868671823936, 0.018142868671823936, 0.3961669806346567, 0.09203879348077883, 0.19608264698078967, 0.05602361342308276, 0.15606578025001627, 0.024010120038464044, 0.060025300096160104, 0.00400168667307734, 0.01600674669230936, 0.00400168667307734, 0.7617399975315374, 0.7223757011045246, 0.04893637390224881, 0.9297911041427275, 0.9674591525430105, 0.9400341874752843, 0.2371983346297807, 0.023719833462978072, 0.21347850116680264, 0.18975866770382457, 0.09487933385191229, 0.21347850116680264, 0.047439666925956143, 0.7693435004068035, 0.7832176428217016, 0.3938320163762164, 0.16216612439020675, 0.1389995351916058, 0.08108306219510338, 0.11583294599300484, 0.023166589198600967, 0.05791647299650242, 0.011583294599300483, 0.011583294599300483, 0.011583294599300483, 0.35542763558857654, 0.14540221455896313, 0.09693480970597541, 0.12924641294130054, 0.016155801617662568, 0.09693480970597541, 0.04846740485298771, 0.016155801617662568, 0.06462320647065027, 0.04846740485298771, 0.19169515443943289, 0.1095400882511045, 0.35600528681608967, 0.08215506618832838, 0.08215506618832838, 0.08215506618832838, 0.05477004412555225, 0.5811073660045821, 0.3320613520026183, 0.04150766900032729, 0.2388630588937079, 0.10857411767895814, 0.0760018823752707, 0.21714823535791627, 0.18457600005422883, 0.043429647071583255, 0.03257223530368744, 0.05428705883947907, 0.010857411767895814, 0.03257223530368744, 0.90698305992756, 0.25112471388148727, 0.05795185704957398, 0.1062450712575523, 0.05795185704957398, 0.36702842798063523, 0.08692778557436097, 0.048293214207978316, 0.02897592852478699, 0.9101006668213789, 0.5638583795967155, 0.3990368558852201, 0.1009058716031591, 0.15594543793215498, 0.09173261054832646, 0.11466576318540807, 0.009173261054832646, 0.07338608843866117, 0.01375989158224897, 0.03210641369191426, 0.009173261054832646, 0.9508139321049869, 0.7671736387764767, 0.15343472775529535, 0.2694561428976806, 0.23577412503547052, 0.10104605358663021, 0.08757324644174619, 0.08757324644174619, 0.08083684286930418, 0.06736403572442015, 0.02694561428976806, 0.033682017862210076, 0.7326231636185604, 0.7223776986079624, 0.051958425736817214, 0.4156674058945377, 0.4156674058945377, 0.051958425736817214, 0.051958425736817214, 0.910101272396409, 0.2596822496056718, 0.06833743410675575, 0.20501230232026724, 0.12300738139216034, 0.09567240774945804, 0.08200492092810689, 0.09567240774945804, 0.013667486821351148, 0.041002460464053446, 0.013667486821351148, 0.9714232335074853, 0.6723711334961777, 0.22412371116539256, 0.9508173798795619, 0.7693506781889123, 0.9100982448889047, 0.32839538719411, 0.09658687858650294, 0.11590425430380352, 0.038634751434601176, 0.11590425430380352, 0.21249113289030647, 0.05795212715190176, 0.019317375717300588, 0.038634751434601176, 0.9545413779337233, 0.3872310635525719, 0.23233863813154315, 0.3872310635525719, 0.13008588933694254, 0.032521472334235635, 0.16260736167117815, 0.032521472334235635, 0.13008588933694254, 0.35773619567659193, 0.06504294466847127, 0.032521472334235635, 0.06504294466847127, 0.769353441182212, 0.8779584217273628, 0.2740148633077724, 0.12646839844974112, 0.08431226563316074, 0.12646839844974112, 0.06323419922487056, 0.12646839844974112, 0.04215613281658037, 0.10539033204145093, 0.04215613281658037, 0.15121244131885764, 0.07560622065942882, 0.09450777582428603, 0.20791710681342926, 0.2646217723080009, 0.03780311032971441, 0.05670466549457162, 0.07560622065942882, 0.018901555164857205, 0.018901555164857205, 0.6586876512564538, 0.8433919939237796, 0.14106388157708327, 0.14106388157708327, 0.7053194078854164, 0.3768617808217688, 0.06460487671230322, 0.03230243835615161, 0.07537235616435375, 0.05383739726025268, 0.13997723287665698, 0.13997723287665698, 0.07537235616435375, 0.021534958904101075, 0.03230243835615161, 0.8117751255324056, 0.7308613304513143, 0.9234250182024053, 0.2972248545305777, 0.14861242726528884, 0.44583728179586646, 0.6586891519674545, 0.5638585457582772, 0.08193957992053783, 0.24581873976161348, 0.16387915984107565, 0.49163747952322695, 0.7197266596481876, 0.07996962884979862, 0.11995444327469794, 0.03998481442489931, 0.03998481442489931, 0.20376913714320063, 0.10188456857160032, 0.10188456857160032, 0.6113074114296019, 0.8433998769032339, 0.25253556745206274, 0.08417852248402091, 0.08417852248402091, 0.5050711349041255, 0.08417852248402091, 0.08417852248402091, 0.4987071313931869, 0.200707709924661, 0.200707709924661, 0.1003538549623305, 0.1003538549623305, 0.1003538549623305, 0.3010615648869915, 0.20356718093388484, 0.20356718093388484, 0.6107015428016546, 0.09916550996055928, 0.04958275498027964, 0.09916550996055928, 0.04958275498027964, 0.04958275498027964, 0.6445758147436353, 0.7617327915158952, 0.49870815968978754, 0.17983377797703856, 0.17983377797703856, 0.5395013339311158, 0.8434020703729269, 0.8680488349991847, 0.3128539810034614, 0.20856932066897427, 0.20856932066897427, 0.10428466033448713, 0.20856932066897427, 0.8853165473001638, 0.7893418165389768, 0.26006916953424464, 0.10906126464339291, 0.17617588903932702, 0.11745059269288469, 0.12583992074237643, 0.07550395244542586, 0.05872529634644234, 0.016778656098983526, 0.016778656098983526, 0.03355731219796705, 0.26357092447080954, 0.21964243705900796, 0.08785697482360319, 0.13178546223540477, 0.08785697482360319, 0.21964243705900796, 0.7317311239656333, 0.8434368499577596, 0.7987235857764692, 0.06656029881470577, 0.06656029881470577, 0.06656029881470577, 0.8669204848130848, 0.7923673037520849, 0.13206121729201414, 0.7693473176201029, 0.8410108452578786, 0.9482347262519044, 0.7201948463138218, 0.18004871157845545, 0.2896023701184149, 0.14480118505920744, 0.09653412337280495, 0.09653412337280495, 0.09653412337280495, 0.048267061686402477, 0.2413353084320124, 0.20044226107291058, 0.06167454186858787, 0.015418635467146967, 0.12334908373717574, 0.29295407387579236, 0.20044226107291058, 0.0462559064014409, 0.015418635467146967, 0.0462559064014409, 0.21485734992166827, 0.6445720497650048, 0.9414582840498377, 0.13257939764417043, 0.3977381929325112, 0.3977381929325112, 0.3180018219266481, 0.6360036438532962, 0.09276846004227093, 0.8813003704015739, 0.7710121123093807, 0.08566801247882007, 0.08566801247882007, 0.348409350183052, 0.0648203442201027, 0.1296406884402054, 0.10533305935766689, 0.08912797330264122, 0.08102543027512837, 0.016205086055025675, 0.08912797330264122, 0.04861525816507702, 0.02430762908253851, 0.5638603483320455, 0.9189701034363217, 0.30182998724989657, 0.265610388779909, 0.0965855959199669, 0.0965855959199669, 0.08451239642997105, 0.03621959846998759, 0.024146398979991726, 0.06036599744997932, 0.012073199489995863, 0.03621959846998759, 0.954541137072502, 0.7908050702942206, 0.9545479349299838, 0.868041525134565, 0.7907841299109654, 0.2938603393987669, 0.14693016969938344, 0.4407905090981503, 0.9414634193783743, 0.9479124002446255, 0.960449343249732, 0.8117773918489904, 0.25864850191779243, 0.18729719104391868, 0.14270262174774756, 0.1159458801700449, 0.12486479402927912, 0.06243239701463956, 0.053513483155405335, 0.017837827718468445, 0.03567565543693689, 0.008918913859234223, 0.11783277210018728, 0.7069966326011237, 0.11783277210018728, 0.7223782867738041, 0.3014956610786359, 0.07308985723118447, 0.2192695716935534, 0.08222608938508252, 0.13704348230847088, 0.06395362507728641, 0.06395362507728641, 0.018272464307796117, 0.036544928615592234, 0.1689910365911055, 0.112660691060737, 0.1689910365911055, 0.0563303455303685, 0.337982073182211, 0.0563303455303685, 0.0563303455303685, 0.0563303455303685, 0.8434401443399123, 0.9372468866254382, 0.29452660503165873, 0.6872287450738703, 0.9508164650393027, 0.7617653241062822, 0.2892621355686328, 0.18864921884910835, 0.12576614589940557, 0.08174799483461362, 0.07545968753964334, 0.06917138024467306, 0.06288307294970279, 0.0565947656547325, 0.03772984376982167, 0.012576614589940556, 0.4713087669116722, 0.05438178079750063, 0.07250904106333418, 0.05438178079750063, 0.14501808212666836, 0.03625452053166709, 0.07250904106333418, 0.05438178079750063, 0.018127260265833545, 0.7317326201452486, 0.7617417810246888, 0.8729015374155925, 0.25206881158434663, 0.15124128695060798, 0.226861930425912, 0.10082752463373866, 0.06301720289608666, 0.06301720289608666, 0.06301720289608666, 0.037810321737651996, 0.025206881158434665, 0.025206881158434665, 0.28013295323575366, 0.13228500569466145, 0.14006647661787683, 0.07003323830893841, 0.17119236031073837, 0.04668882553929228, 0.05447029646250766, 0.00778147092321538, 0.07003323830893841, 0.01556294184643076, 0.3504713391001858, 0.5257070086502786, 0.10514918014021915, 0.10514918014021915, 0.2102983602804383, 0.3154475404206574, 0.10514918014021915, 0.2102983602804383, 0.2353643883985744, 0.17652329129893082, 0.0588410970996436, 0.0588410970996436, 0.1176821941992872, 0.0588410970996436, 0.0588410970996436, 0.0588410970996436, 0.2353643883985744, 0.769343967296367, 0.3455358470825258, 0.0780242235347639, 0.2229263529564683, 0.12260949412605755, 0.10031685883041072, 0.06687790588694048, 0.044585270591293656, 0.011146317647823414, 0.011146317647823414, 0.6586886441555083, 0.12171175802140766, 0.12171175802140766, 0.36513527406422297, 0.36513527406422297, 0.878883729566191, 0.5068342101607388, 0.07884087713611491, 0.15768175427222983, 0.15768175427222983, 0.07884087713611491, 0.011262982448016417, 0.011262982448016417, 0.7617633115139983, 0.14166384316360622, 0.14166384316360622, 0.14166384316360622, 0.5666553726544249, 0.21007371048788606, 0.14004914032525737, 0.17895167930449554, 0.12448812473356212, 0.21007371048788606, 0.015561015591695265, 0.07002457016262868, 0.023341523387542897, 0.015561015591695265, 0.0077805077958476325, 0.7340864067910738, 0.07340864067910738, 0.07340864067910738, 0.14681728135821476, 0.8729329155366257, 0.07494251416921743, 0.14988502833843487, 0.7494251416921744, 0.21678913411036027, 0.6503674023310808, 0.10839456705518014, 0.8793645375318828, 0.854128654609723, 0.8098020518876698, 0.10122525648595873, 0.7617606802074859, 0.8204244179741303, 0.13673740299568837, 0.8729324982117264, 0.293689734825638, 0.13349533401165362, 0.10679626720932289, 0.026699066802330723, 0.026699066802330723, 0.026699066802330723, 0.3737869352326301, 0.026699066802330723, 0.1279052246624894, 0.1279052246624894, 0.6395261233124471, 0.07747505601054726, 0.07747505601054726, 0.5423253920738308, 0.07747505601054726, 0.15495011202109452, 0.07747505601054726, 0.07747505601054726, 0.15248590098720546, 0.038121475246801366, 0.26685032672760955, 0.11436442574040409, 0.3430932772212123, 0.07624295049360273, 0.038121475246801366, 0.4034260775973995, 0.237309457410235, 0.047461891482047, 0.0711928372230705, 0.0711928372230705, 0.1186547287051175, 0.047461891482047, 0.8614160550249529, 0.9242586087722797, 0.9773150844256546, 0.8853504558119563, 0.8335081206804174, 0.6419165732640284, 0.9482411984833126, 0.33968031776963975, 0.16984015888481988, 0.17927572326730987, 0.1226623369723699, 0.018871128764979987, 0.056613386294939956, 0.047177821912449965, 0.028306693147469978, 0.03774225752995997, 0.009435564382489993, 0.7617394888517689, 0.49852514507408874, 0.3738938588055665, 0.31593081929574995, 0.18584165840926467, 0.018584165840926467, 0.07433666336370587, 0.1672574925683382, 0.037168331681852934, 0.1672574925683382, 0.018584165840926467, 0.018584165840926467, 0.8729334263588178, 0.7326231908330546, 0.8410006864967121, 0.2770780231077424, 0.6926950577693559, 0.03958796095946548, 0.6334073753514476, 0.03958796095946548, 0.11876388287839643, 0.11876388287839643, 0.03958796095946548, 0.08494266104929266, 0.1698853220985853, 0.08494266104929266, 0.1698853220985853, 0.5096559662957559, 0.28511759050881585, 0.223135505615595, 0.030991042446610415, 0.049585667914576664, 0.21073908863695084, 0.043387459425254585, 0.11776596129711958, 0.006198208489322083, 0.024792833957288332, 0.006198208489322083, 0.1691305007421886, 0.1691305007421886, 0.6765220029687544, 0.2735750085318257, 0.14330119494524204, 0.14330119494524204, 0.09119166951060857, 0.1172464322279253, 0.10421905086926693, 0.052109525434633465, 0.0390821440759751, 0.0390821440759751, 0.7223762681848557, 0.8812190530759674, 0.13290767344591264, 0.13290767344591264, 0.2658153468918253, 0.39872302033773793, 0.9508170995363291, 0.7907997908708404, 0.8410054001318592, 0.841002187530631, 0.9545438899835952, 0.8789186308086837, 0.11034265051495114, 0.20229485927741042, 0.1655139757724267, 0.09195220876245928, 0.12873309226744298, 0.03678088350498371, 0.1655139757724267, 0.05517132525747557, 0.03678088350498371, 0.6783195641408881, 0.28263315172537007, 0.8793819798149151, 0.9482333053557241, 0.2836249856754571, 0.11678675880754116, 0.23357351761508233, 0.08341911343395797, 0.08341911343395797, 0.03336764537358319, 0.11678675880754116, 0.05005146806037478, 0.016683822686791593, 0.12408319195246567, 0.24816638390493134, 0.041361063984155226, 0.08272212796831045, 0.08272212796831045, 0.3308885118732418, 0.041361063984155226, 0.041361063984155226, 0.8953611691726362, 0.9372538988241355, 0.7769179392536512, 0.15538358785073025, 0.6160826831376338, 0.16586841469090138, 0.07108646343895775, 0.047390975625971825, 0.09478195125194365, 0.8614244489945561, 0.1613217695846726, 0.7259479631310266, 0.0806608847923363, 0.7617635095615449, 0.3183218793762857, 0.6366437587525714, 0.156781400061732, 0.156781400061732, 0.627125600246928, 0.078390700030866, 0.9419201274493701, 0.168914802531479, 0.04826137215185115, 0.07239205822777672, 0.3860909772148092, 0.0965227443037023, 0.0965227443037023, 0.0965227443037023, 0.024130686075925573, 0.024130686075925573, 0.2236084862169958, 0.1118042431084979, 0.31305188070379414, 0.1341650917301975, 0.08944339448679832, 0.08944339448679832, 0.02236084862169958, 0.02236084862169958, 0.958914740988115, 0.7760927021559785, 0.09701158776949731, 0.09701158776949731, 0.7759408032138627, 0.13163370047273923, 0.13163370047273923, 0.13163370047273923, 0.13163370047273923, 0.13163370047273923, 0.26326740094547846, 0.3132036841341574, 0.6264073682683148, 0.7223782602475942, 0.7308418799066043, 0.26929696107626205, 0.5001229277130581, 0.19235497219733003, 0.03847099443946601, 0.877958397790434, 0.9538700216664974, 0.641916790750177, 0.9482374131805414, 0.9538699966663838, 0.9100983822923889, 0.5350101812956145, 0.21400407251824582, 0.21400407251824582, 0.9714289667435652, 0.2284728842282669, 0.20943347720924466, 0.09519703509511121, 0.09519703509511121, 0.13327584913315568, 0.07615762807608897, 0.05711822105706672, 0.019039407019022243, 0.019039407019022243, 0.05711822105706672, 0.33157275430776567, 0.15303357891127647, 0.10202238594085099, 0.051011192970425494, 0.12752798242606372, 0.10202238594085099, 0.12752798242606372, 0.025505596485212747, 0.9545388068413687, 0.6419158605774653, 0.7326223177416622, 0.3507762801795762, 0.15033269150553263, 0.13362905911602901, 0.15033269150553263, 0.06681452955801451, 0.016703632389503627, 0.016703632389503627, 0.08351816194751814, 0.016703632389503627, 0.9374701329340099, 0.23415973604768286, 0.7024792081430487, 0.14619796267788862, 0.8040887947283875, 0.9502496178115857, 0.8434349429232093, 0.7871064419469943, 0.1311844069911657, 0.12892824808367856, 0.38678474425103565, 0.38678474425103565, 0.9242657830542086, 0.7317347130784334, 0.1587285818021802, 0.2380928727032703, 0.03968214545054505, 0.03968214545054505, 0.5158678908570856, 0.03968214545054505, 0.877961264754667, 0.7223763448638592, 0.6267461423144588, 0.08953516318777982, 0.08953516318777982, 0.08953516318777982, 0.08953516318777982, 0.04476758159388991, 0.04476758159388991, 0.4561860860476347, 0.4561860860476347, 0.7871249579338487, 0.20427558039981172, 0.1896844675141109, 0.014591112885700837, 0.1896844675141109, 0.05836445154280335, 0.21886669328551256, 0.04377333865710251, 0.05836445154280335, 0.029182225771401674, 0.014591112885700837, 0.2614079704091929, 0.22219677484781394, 0.06535199260229822, 0.11763358668413679, 0.20912637632735429, 0.013070398520459643, 0.06535199260229822, 0.013070398520459643, 0.013070398520459643, 0.43763684289495447, 0.11935550260771487, 0.2586035889833822, 0.019892583767952478, 0.05967775130385743, 0.05967775130385743, 0.019892583767952478, 0.019892583767952478, 0.2819634412791322, 0.11278537651165288, 0.507534194302438, 0.05639268825582644, 0.05639268825582644, 0.7326232256680992, 0.19280384447461624, 0.6748134556611568, 0.09640192223730812, 0.948237696323215, 0.9545456378401237, 0.382994679361443, 0.23312719613305224, 0.11656359806652612, 0.08325971290466151, 0.04995582774279691, 0.04995582774279691, 0.08325971290466151, 0.0166519425809323, 0.32679593033034837, 0.09337026580867096, 0.18674053161734191, 0.2334256645216774, 0.18674053161734191, 0.8729319611539209, 0.837189277150339, 0.09302103079448211, 0.9482366083373889, 0.20534256335539647, 0.1796747429359719, 0.10267128167769823, 0.10267128167769823, 0.2438442939845333, 0.0641695510485614, 0.02566782041942456, 0.05133564083884912, 0.02566782041942456, 0.7317313620552267, 0.8380636941252179, 0.2552680538412178, 0.19145104038091335, 0.10940059450337906, 0.17321760796368352, 0.09116716208614921, 0.06381701346030445, 0.06381701346030445, 0.009116716208614921, 0.027350148625844766, 0.027350148625844766, 0.6430757765849369, 0.06769218700894072, 0.2707687480357629, 0.16567882180024854, 0.8283941090012427, 0.20758634947665888, 0.10379317473832944, 0.10379317473832944, 0.10379317473832944, 0.5189658736916473, 0.21806027564885763, 0.21806027564885763, 0.21806027564885763, 0.32709041347328643, 0.6586776093716946, 0.2930633745904598, 0.08373239274013138, 0.08373239274013138, 0.16746478548026275, 0.08373239274013138, 0.2930633745904598, 0.04186619637006569, 0.658690035002113, 0.5638587922138958, 0.105679406444274, 0.845435251554192, 0.5638585757095935, 0.3972502101031834, 0.3972502101031834, 0.13241673670106113, 0.026483347340212227, 0.052966694680424455, 0.29941606068862625, 0.16634225593812568, 0.049902676781437706, 0.21624493271956338, 0.09980535356287541, 0.08317112796906284, 0.016634225593812568, 0.06653690237525027, 0.016634225593812568, 0.7187714123784571, 0.3630706077224642, 0.058091297235594266, 0.0435684729266957, 0.18879671601568138, 0.18879671601568138, 0.07261412154449283, 0.07261412154449283, 0.014522824308898567, 0.014522824308898567, 0.9089008260624161, 0.8614194179688284, 0.8669203090494104, 0.8800444578778488, 0.7326271628592131, 0.28359070892233484, 0.1701544253534009, 0.22687256713786785, 0.09925674812281719, 0.05671814178446696, 0.05671814178446696, 0.04253860633835022, 0.02835907089223348, 0.01417953544611674, 0.02835907089223348, 0.3443980480975412, 0.0860995120243853, 0.11479934936584706, 0.2295986987316941, 0.0860995120243853, 0.028699837341461764, 0.05739967468292353, 0.028699837341461764, 0.028699837341461764, 0.0860995120243853, 0.498707731344542, 0.08634853708483567, 0.2374584769832981, 0.06476140281362676, 0.15110993989846244, 0.1079356713560446, 0.15110993989846244, 0.1079356713560446, 0.08634853708483567, 0.021587134271208917, 0.7893201251981248, 0.8614600503223125, 0.8779569768361158, 0.7430482943337514, 0.1486096588667503, 0.9603537199240308, 0.19511040764137316, 0.3098812356657103, 0.057385414012168574, 0.1377249936292046, 0.12624791082677086, 0.02295416560486743, 0.057385414012168574, 0.011477082802433715, 0.03443124840730115, 0.03443124840730115, 0.8789443644086736, 0.9545494740179755, 0.9189321248778877, 0.8251655849385536, 0.1178807978483648, 0.4465305718068984, 0.15531498149805165, 0.1359006088107952, 0.09707186343628227, 0.058243118061769364, 0.03882874537451291, 0.03882874537451291, 0.019414372687256456, 0.019414372687256456, 0.18464394569021383, 0.18464394569021383, 0.5539318370706415, 0.5638580630165942, 0.7317331650111915, 0.14565639955622708, 0.7282819977811354, 0.4002203746281858, 0.13920708682719507, 0.13920708682719507, 0.12180620097379569, 0.1044053151203963, 0.03480177170679877, 0.017400885853399384, 0.017400885853399384, 0.03480177170679877, 0.32256206316580166, 0.10752068772193388, 0.138240884213915, 0.07680049122995278, 0.15360098245990556, 0.138240884213915, 0.015360098245990555, 0.015360098245990555, 0.015360098245990555, 0.25277037499775185, 0.2311043428550874, 0.1155521714275437, 0.09388613928487927, 0.18777227856975853, 0.03611005357110741, 0.04333206428532889, 0.0072220107142214815, 0.028888042856885926, 0.0072220107142214815, 0.9242265061980148, 0.6419161232656394, 0.3149580055772257, 0.12042511977952747, 0.1482155320363415, 0.12042511977952747, 0.10189817827498478, 0.10189817827498478, 0.027790412256814032, 0.04631735376135672, 0.009263470752271344, 0.009263470752271344, 0.9088977741178631, 0.21585165989006927, 0.6475549796702078, 0.8541318587004086, 0.0804485143867048, 0.1608970287734096, 0.10726468584893974, 0.21452937169787947, 0.13408085731117467, 0.026816171462234934, 0.18771320023564456, 0.026816171462234934, 0.05363234292446987, 0.13364092931551658, 0.13364092931551658, 0.13364092931551658, 0.06682046465775829, 0.06682046465775829, 0.13364092931551658, 0.06682046465775829, 0.26728185863103315, 0.06682046465775829, 0.7893382934945353, 0.6586761966388822, 0.761766556027606, 0.36102394350684697, 0.09500630092285446, 0.17101134166113802, 0.11400756110742535, 0.05700378055371268, 0.09500630092285446, 0.019001260184570892, 0.07600504073828357, 0.019001260184570892, 0.2812645587753867, 0.16620178473091032, 0.2684798061037782, 0.05113901068643394, 0.03835425801482546, 0.02556950534321697, 0.10227802137286789, 0.03835425801482546, 0.012784752671608486, 0.012784752671608486, 0.7617511287800923, 0.2054721698629491, 0.2054721698629491, 0.6164165095888473, 0.2687075421069827, 0.23032075037741376, 0.07677358345913793, 0.07677358345913793, 0.038386791729568964, 0.038386791729568964, 0.07677358345913793, 0.07677358345913793, 0.11516037518870688, 0.8779620783595906, 0.22126423334553175, 0.7522983933748079, 0.1435766442784428, 0.7896715435314353, 0.0717883221392214, 0.658690581759355, 0.1488590509084279, 0.357261722180227, 0.1786308610901135, 0.059543620363371165, 0.08931543054505675, 0.11908724072674233, 0.029771810181685582, 0.32669054842152323, 0.07424785191398256, 0.08909742229677907, 0.2821418372731337, 0.059398281531186044, 0.059398281531186044, 0.059398281531186044, 0.014849570382796511, 0.029699140765593022, 0.7617595737985045, 0.9123779910120022, 0.8729105812159004, 0.9069735794898199, 0.6586898280183073, 0.6586855578427944, 0.5638582774827925, 0.27437271522205886, 0.0979902554364496, 0.13718635761102943, 0.11758830652373953, 0.07839220434915968, 0.058794153261869764, 0.058794153261869764, 0.0979902554364496, 0.07839220434915968, 0.3476631284482983, 0.07725847298851073, 0.07725847298851073, 0.07725847298851073, 0.03862923649425536, 0.19314618247127682, 0.19314618247127682, 0.03862923649425536, 0.23771657006707556, 0.17066830671482347, 0.1401918233728907, 0.15238241670966382, 0.09142945002579829, 0.07314356002063864, 0.06095296668386553, 0.02438118667354621, 0.030476483341932765, 0.012190593336773105, 0.6586864159433202, 0.7317315630746957, 0.26158300342470614, 0.3662162047945886, 0.026158300342470613, 0.13079150171235307, 0.05231660068494123, 0.026158300342470613, 0.05231660068494123, 0.026158300342470613, 0.05231660068494123, 0.026158300342470613, 0.8729311099455013, 0.7317307388796771, 0.9508180269680973, 0.6684656010067207, 0.1782574936017922, 0.15597530690156816, 0.2820636479543145, 0.04905454747031556, 0.11037273180821, 0.2575363742191567, 0.1532954608447361, 0.030659092168947223, 0.06745000277168389, 0.030659092168947223, 0.01226363686757889, 0.01226363686757889, 0.8107527385706416, 0.17446793112677997, 0.42647716497657323, 0.11631195408451998, 0.09692662840376665, 0.03877065136150666, 0.11631195408451998, 0.01938532568075333, 0.03877065136150666, 0.22559681925853298, 0.056399204814633244, 0.2819960240731662, 0.056399204814633244, 0.056399204814633244, 0.056399204814633244, 0.056399204814633244, 0.2819960240731662, 0.43775483411175276, 0.21887741705587638, 0.32831612558381457, 0.8680515094573674, 0.3701142036144826, 0.02056190020080459, 0.04112380040160918, 0.06168570060241377, 0.08224760080321836, 0.12337140120482754, 0.04112380040160918, 0.02056190020080459, 0.24674280240965507, 0.761750340018047, 0.9604536049683884, 0.7693536025214025, 0.5638610145491696, 0.7892770549360719, 0.6879249500872311, 0.13758499001744623, 0.13758499001744623, 0.7317341201549368, 0.11781559819076547, 0.2677627231608306, 0.16065763389649837, 0.08568407141146579, 0.1285261071171987, 0.09639458033789902, 0.06426305355859935, 0.042842035705732896, 0.032131526779299674, 0.7893420497403433, 0.2038902266350642, 0.185354751486422, 0.1482838011891376, 0.0556064254459266, 0.1297483260404954, 0.0741419005945688, 0.1297483260404954, 0.0556064254459266, 0.0370709502972844, 0.0185354751486422, 0.2031264185322405, 0.18619921698788713, 0.25390802316530064, 0.11849041081047364, 0.0677088061774135, 0.03385440308870675, 0.03385440308870675, 0.0677088061774135, 0.016927201544353374, 0.016927201544353374, 0.29818995976780593, 0.056798087574820175, 0.14199521893705044, 0.04259856568111513, 0.14199521893705044, 0.1561947408307555, 0.0993966532559353, 0.014199521893705044, 0.028399043787410087, 0.3197632618575135, 0.1065877539525045, 0.05329387697625225, 0.1065877539525045, 0.1065877539525045, 0.1065877539525045, 0.1065877539525045, 0.15988163092875676, 0.9126776300871277, 0.8541206731215883, 0.7308599972523938, 0.18574515430534327, 0.2476602057404577, 0.5572354629160298, 0.25185424516289323, 0.12592712258144662, 0.17171880352015448, 0.09158336187741573, 0.18316672375483145, 0.02289584046935393, 0.10303128211209268, 0.011447920234676966, 0.011447920234676966, 0.011447920234676966, 0.37416130282320026, 0.08908602448171435, 0.08908602448171435, 0.14253763917074294, 0.017817204896342868, 0.07126881958537147, 0.08908602448171435, 0.12472043427440008, 0.017817204896342868, 0.6419164481375248, 0.22477523620312154, 0.11238761810156077, 0.11238761810156077, 0.5619380905078039, 0.29410646678107205, 0.16806083816061262, 0.1890684429306892, 0.12604562862045945, 0.1890684429306892, 0.021007604770076578, 0.021007604770076578, 0.948234671682196, 0.2110638597351823, 0.2412158396973512, 0.18091187977301337, 0.0301519799621689, 0.18091187977301337, 0.0301519799621689, 0.0301519799621689, 0.1206079198486756, 0.243520413837346, 0.7305612415120379], \"Term\": [\"accident today\", \"act god\", \"actually\", \"actually\", \"actually\", \"actually\", \"actually\", \"actually\", \"actually\", \"actually\", \"actually\", \"actually\", \"admins\", \"african family\", \"alabama\", \"alabama\", \"alright\", \"alright\", \"alright\", \"alright\", \"alzheimers\", \"alzheimers\", \"alzheimers\", \"alzheimers\", \"amazed\", \"andy\", \"andy\", \"andy\", \"animal\", \"animal\", \"animal\", \"animal\", \"animal\", \"animal\", \"ark\", \"art\", \"art\", \"art\", \"art\", \"art dead\", \"article\", \"asian\", \"asian\", \"asian\", \"asian\", \"asian\", \"asian american\", \"assembly\", \"assembly\", \"atomic bomb\", \"avocado\", \"awesome\", \"awesome\", \"awesome\", \"awesome\", \"awesome\", \"awesome\", \"awful\", \"awful\", \"awful\", \"aziz\", \"aziz\", \"aziz\", \"aziz\", \"aziz\", \"aziz ansari\", \"aziz ansari\", \"aziz ansari\", \"aziz ansari\", \"ba pam\", \"bacon\", \"ballroom\", \"bar crazy\", \"batman\", \"batman\", \"becky\", \"belfast\", \"belong\", \"belong\", \"belong\", \"ben\", \"benedict\", \"berry\", \"berry\", \"best buy\", \"big\", \"big\", \"big\", \"big\", \"big\", \"big\", \"big\", \"big\", \"big\", \"big door\", \"bill clinton\", \"billion year\", \"bin\", \"bittenbinder\", \"black\", \"black\", \"black\", \"black\", \"black\", \"black\", \"black\", \"black\", \"blackberry\", \"blood test\", \"blowjob\", \"blue eye\", \"blue eye\", \"bo\", \"bo\", \"bo\", \"bo bo\", \"bo bo\", \"bo bo\", \"bo god\", \"bob\", \"bob\", \"bob\", \"bob went\", \"bonnaroo\", \"boo\", \"boo\", \"boo\", \"boo\", \"boo\", \"boo\", \"bozo\", \"bra burn\", \"bread bread\", \"bread god\", \"breakfast\", \"breakfast\", \"breakfast\", \"breakfast\", \"bred\", \"brenda\", \"brent\", \"bro\", \"bros\", \"bruce jenner\", \"buddhism\", \"burn em\", \"burrito\", \"bus\", \"bus\", \"bus\", \"bus\", \"butterfinger\", \"buy cow\", \"buy drink\", \"buy reward\", \"cake\", \"cake\", \"cake\", \"cake\", \"cake\", \"cake\", \"cake cake\", \"called\", \"called\", \"called\", \"called\", \"called\", \"called\", \"called\", \"called\", \"called\", \"called\", \"calorie\", \"calorie\", \"came\", \"came\", \"came\", \"came\", \"came\", \"came\", \"came\", \"came\", \"came\", \"came\", \"cancel\", \"casual\", \"cd\", \"celebrating\", \"chat\", \"chat\", \"cheetos\", \"chicken\", \"chicken\", \"chicken\", \"chicken\", \"chimp\", \"chorus hypocrite\", \"christianity\", \"chubby\", \"chubby\", \"chubby\", \"chubby\", \"clap\", \"clap\", \"clap\", \"clap\", \"clap\", \"clap\", \"clarence\", \"clinton\", \"co\", \"co\", \"co\", \"cock\", \"cock\", \"cock\", \"cod\", \"cold stone\", \"come\", \"come\", \"come\", \"come\", \"come\", \"come\", \"come\", \"come\", \"come\", \"come\", \"come home\", \"concert\", \"concert\", \"concert\", \"concert\", \"concert\", \"connection\", \"connection\", \"constantly\", \"contact prolonged\", \"cool\", \"cool\", \"cool\", \"cool\", \"cool\", \"cool\", \"cool\", \"cool\", \"cool\", \"country music\", \"cow\", \"cow\", \"cow\", \"craigslist\", \"crazy rich\", \"creamery\", \"creepy dude\", \"cubicle\", \"da\", \"da\", \"da club\", \"dad\", \"dad\", \"dad\", \"dad\", \"dad\", \"dad\", \"dad\", \"dad\", \"darwish\", \"david cameron\", \"day\", \"day\", \"day\", \"day\", \"day\", \"day\", \"day\", \"day\", \"day\", \"day\", \"dean cain\", \"dear\", \"dear\", \"dear\", \"dear\", \"dear\", \"declare\", \"deficit\", \"demo\", \"didnt\", \"didnt\", \"didnt\", \"didnt\", \"didnt\", \"didnt\", \"didnt\", \"didnt\", \"didnt\", \"didnt\", \"diego rivera\", \"diego rivera\", \"diet coke\", \"doctor\", \"doctor\", \"doctor\", \"doctor\", \"doctor\", \"doctor\", \"doctor\", \"doctor went\", \"dodd\", \"dog\", \"dog\", \"dog\", \"dog\", \"dog\", \"dog\", \"dog\", \"dog\", \"doing\", \"doing\", \"doing\", \"doing\", \"doing\", \"doing\", \"doing\", \"doing\", \"doing\", \"doing\", \"doofer\", \"dot dot\", \"double dip\", \"dublin\", \"duckling\", \"dude\", \"dude\", \"dude\", \"dude\", \"dude\", \"dude\", \"dude\", \"dude\", \"dvd\", \"dylan\", \"earth\", \"earth\", \"earth\", \"eat as\", \"eat dick\", \"edelstein\", \"edinburghers\", \"egg\", \"egg\", \"egg\", \"egg\", \"egg\", \"egg egg\", \"em\", \"em\", \"em\", \"em\", \"em\", \"em\", \"em\", \"em\", \"em\", \"end\", \"end\", \"end\", \"end\", \"end\", \"end\", \"end\", \"end\", \"end\", \"entertained\", \"episode\", \"episode\", \"episode\", \"experience amazing\", \"expression\", \"extra point\", \"eye contact\", \"eye contact\", \"eye contact\", \"fable\", \"fact\", \"fact\", \"fact\", \"fact\", \"fact\", \"fact\", \"fact\", \"fact\", \"fact\", \"fairy\", \"farmfoods bag\", \"fat\", \"fat\", \"fat\", \"fat\", \"fat\", \"fat\", \"fat\", \"fat\", \"fat bloke\", \"fat gay\", \"fat person\", \"fck\", \"fckin\", \"feel\", \"feel\", \"feel\", \"feel\", \"feel\", \"feel\", \"feel\", \"feel\", \"feel\", \"feel duck\", \"feel happy\", \"feeling\", \"feeling\", \"feeling\", \"feeling\", \"feeling\", \"feeling\", \"feeling\", \"fellow\", \"fellow\", \"festival\", \"festival\", \"festival\", \"festival\", \"fit wouldnt\", \"flamin hot\", \"food\", \"food\", \"food\", \"food\", \"food\", \"food\", \"food\", \"food\", \"frequent urination\", \"fresco\", \"friend\", \"friend\", \"friend\", \"friend\", \"friend\", \"friend\", \"friend\", \"friend\", \"friend\", \"frog\", \"frog\", \"frog andy\", \"fruit\", \"fruit\", \"fruit\", \"fruit\", \"fry\", \"fry\", \"fuck\", \"fuck\", \"fuck\", \"fuck\", \"fuck\", \"fuck\", \"fuck\", \"fuck\", \"fuck\", \"fuck slut\", \"fuck slut\", \"fuckin\", \"fuckin\", \"fuckin\", \"fuckin\", \"fucking\", \"fucking\", \"fucking\", \"fucking\", \"fucking\", \"fucking\", \"fucking\", \"fucking\", \"fucking\", \"fucking\", \"fucking crazy\", \"fundraiser\", \"funny funny\", \"funny funny\", \"gandhi\", \"gav\", \"gay\", \"gay\", \"gay\", \"gay\", \"gay\", \"gay\", \"gay\", \"gay porn\", \"gazebo\", \"getting\", \"getting\", \"getting\", \"getting\", \"getting\", \"getting\", \"getting\", \"getting\", \"getting\", \"getting\", \"girl\", \"girl\", \"girl\", \"girl\", \"girl\", \"girl\", \"girl\", \"girl\", \"girl\", \"girl\", \"girlfriend\", \"girlfriend\", \"girlfriend\", \"girlfriend\", \"girlfriend\", \"girlfriend\", \"girlfriend\", \"glasgow\", \"glasgow\", \"glasgow\", \"go\", \"go\", \"go\", \"go\", \"go\", \"go\", \"go\", \"go\", \"go\", \"go\", \"goat\", \"god\", \"god\", \"god\", \"god\", \"god\", \"god\", \"god\", \"god\", \"god kid\", \"godfather\", \"going\", \"going\", \"going\", \"going\", \"going\", \"going\", \"going\", \"going\", \"going\", \"going\", \"going heaven\", \"golden globe\", \"golden globe\", \"good\", \"good\", \"good\", \"good\", \"good\", \"good\", \"good\", \"good\", \"good\", \"good kindergarten\", \"governor\", \"grandma\", \"grandma\", \"grandma\", \"grandma\", \"grandma\", \"graph\", \"great\", \"great\", \"great\", \"great\", \"great\", \"great\", \"great\", \"great\", \"great\", \"great\", \"greece\", \"gross\", \"gross\", \"gunge\", \"haiku\", \"hampstead cunt\", \"hand\", \"hand\", \"hand\", \"hand\", \"hand\", \"hand\", \"hand\", \"hand\", \"hand\", \"handle handle\", \"harris\", \"harris\", \"harris\", \"hate\", \"hate\", \"hate\", \"hate\", \"hate\", \"hate\", \"hate\", \"hate\", \"hate\", \"hate catchy\", \"hate phrase\", \"hear\", \"hear\", \"hear\", \"hear\", \"hear\", \"hear\", \"hear\", \"hear\", \"hear\", \"hed\", \"hed\", \"hed\", \"hed\", \"hed\", \"hed\", \"hed\", \"hed\", \"hed\", \"hed\", \"heel\", \"hell hell\", \"heroin\", \"heroin\", \"heroin\", \"hey\", \"hey\", \"hey\", \"hey\", \"hey\", \"hey\", \"hey\", \"hey\", \"hey\", \"hey\", \"hey ashley\", \"hey walk\", \"hey wanna\", \"highway\", \"highway\", \"highway\", \"hillock\", \"hippie\", \"hitler\", \"hitler\", \"hitler\", \"hitler\", \"holiday\", \"holiday\", \"holiday\", \"holiday\", \"holiday\", \"holy\", \"holy\", \"holy\", \"holy\", \"home delivery\", \"homeless\", \"homeless\", \"homeless\", \"homeless\", \"homeless\", \"homeless\", \"homily\", \"honest\", \"honest\", \"honest\", \"honest\", \"honest\", \"honest\", \"hoof\", \"hoof\", \"hoof\", \"horse\", \"horse\", \"horse\", \"horse\", \"horse\", \"horse\", \"horse hospital\", \"horse loose\", \"hospital\", \"hospital\", \"hospital\", \"house rice\", \"hum\", \"ice cream\", \"ice cream\", \"ice cream\", \"ice cream\", \"ice cream\", \"ice t\", \"ignore\", \"ill\", \"ill\", \"ill\", \"ill\", \"ill\", \"ill\", \"ill\", \"ill\", \"ill\", \"ill\", \"imagine\", \"imagine\", \"imagine\", \"imagine\", \"imagine\", \"imagine\", \"impression randy\", \"inch waist\", \"indian\", \"indian\", \"indian\", \"indian\", \"industrious mouse\", \"irish\", \"irish\", \"isnt ironic\", \"iud\", \"ja rule\", \"jason\", \"jason\", \"john\", \"john\", \"john\", \"john\", \"john\", \"john\", \"john\", \"joke\", \"joke\", \"joke\", \"joke\", \"joke\", \"joke\", \"joke\", \"joke\", \"joke\", \"joking\", \"joking\", \"kanye\", \"kanye west\", \"kanye west\", \"kanye west\", \"kev\", \"kev\", \"kevin\", \"kevin\", \"kick\", \"kick\", \"kick\", \"kid\", \"kid\", \"kid\", \"kid\", \"kid\", \"kid\", \"kid\", \"kid\", \"kid\", \"kid\", \"kilmer\", \"kimble\", \"kind\", \"kind\", \"kind\", \"kind\", \"kind\", \"kind\", \"kind\", \"kind\", \"kind\", \"kind\", \"knew wouldnt\", \"knoll\", \"la vega\", \"larry\", \"lawsuit\", \"lawyer\", \"lawyer\", \"lawyer\", \"lazy mouse\", \"leaflet\", \"left brain\", \"legging\", \"let\", \"let\", \"let\", \"let\", \"let\", \"let\", \"let\", \"let\", \"let\", \"let\", \"let hear\", \"let hear\", \"let hear\", \"library\", \"life\", \"life\", \"life\", \"life\", \"life\", \"life\", \"life\", \"life\", \"life\", \"light\", \"light\", \"light\", \"light\", \"light\", \"light\", \"light\", \"light\", \"lime plaster\", \"linger pale\", \"lion\", \"lion\", \"local public\", \"long convoluted\", \"look\", \"look\", \"look\", \"look\", \"look\", \"look\", \"look\", \"look\", \"look\", \"look\", \"looking\", \"looking\", \"looking\", \"looking\", \"looking\", \"looking\", \"looking\", \"looking\", \"looking\", \"looking pussy\", \"loose hospital\", \"lost new\", \"lot\", \"lot\", \"lot\", \"lot\", \"lot\", \"lot\", \"lot\", \"lot\", \"lot\", \"lot\", \"love\", \"love\", \"love\", \"love\", \"love\", \"love\", \"love\", \"love\", \"love\", \"love\", \"love song\", \"love song\", \"m\", \"m\", \"m\", \"m\", \"m\", \"m\", \"mad\", \"mad\", \"mad\", \"mad\", \"mad\", \"mad\", \"mad\", \"mad\", \"mad\", \"magic isnt\", \"make\", \"make\", \"make\", \"make\", \"make\", \"make\", \"make\", \"make\", \"make\", \"make effort\", \"make fun\", \"make fun\", \"make fun\", \"make fun\", \"make plan\", \"mate\", \"mate\", \"mate\", \"mate\", \"mate\", \"mate\", \"mate\", \"material\", \"maybe maybe\", \"maybe maybe\", \"maybe maybe\", \"maybe maybe\", \"mean\", \"mean\", \"mean\", \"mean\", \"mean\", \"mean\", \"mean\", \"mean\", \"mean\", \"mean\", \"meat\", \"meat\", \"meat\", \"meat\", \"meet bill\", \"message\", \"message\", \"message\", \"michael\", \"michael\", \"michael\", \"mick jagger\", \"mike mike\", \"milk\", \"milk\", \"milly\", \"minority\", \"minority\", \"mischa\", \"mom\", \"mom\", \"mom\", \"mom\", \"mom\", \"mom\", \"mom\", \"mom\", \"mong\", \"mong\", \"mong\", \"moral\", \"moral\", \"moral\", \"moral\", \"moral\", \"moral\", \"moral\", \"mother\", \"mother\", \"mother\", \"mother\", \"mother\", \"mother\", \"mother\", \"movie\", \"movie\", \"movie\", \"movie\", \"movie\", \"movie\", \"movie\", \"mr bridge\", \"mr burnham\", \"mr cassidy\", \"mr finch\", \"mum dad\", \"n c\", \"nathan\", \"need\", \"need\", \"need\", \"need\", \"need\", \"need\", \"need\", \"need\", \"need\", \"need\", \"new nazi\", \"new town\", \"new town\", \"nice\", \"nice\", \"nice\", \"nice\", \"nice\", \"nice\", \"nice\", \"nice\", \"nice\", \"nichols\", \"niece\", \"niggardly\", \"noah\", \"noah\", \"nut\", \"nut\", \"nut\", \"nut\", \"nut\", \"nut\", \"office\", \"office\", \"office\", \"office\", \"office\", \"okay\", \"okay\", \"okay\", \"okay\", \"okay\", \"okay\", \"okay\", \"okay\", \"okay\", \"okay\", \"okay okay\", \"okay okay\", \"okay okay\", \"old\", \"old\", \"old\", \"old\", \"old\", \"old\", \"old\", \"old\", \"old\", \"old duckling\", \"olympics\", \"packed\", \"packed\", \"packed\", \"packed\", \"paedo\", \"painkiller\", \"pandering\", \"para\", \"peace\", \"pepa\", \"person\", \"person\", \"person\", \"person\", \"person\", \"person\", \"person\", \"person\", \"person\", \"petunia\", \"petunia\", \"phil\", \"phoenix\", \"phone\", \"phone\", \"phone\", \"phone\", \"phone\", \"phone\", \"phone\", \"phone\", \"phone\", \"piece\", \"piece\", \"piece\", \"piece\", \"piece\", \"piece\", \"piece\", \"piece\", \"piece called\", \"pill\", \"pizza\", \"pizza\", \"plane\", \"plane\", \"plane\", \"plane\", \"plane\", \"polish\", \"politics\", \"politics\", \"politics\", \"pond\", \"posting\", \"posting\", \"president\", \"president\", \"president\", \"president\", \"pretend busy\", \"probably\", \"probably\", \"probably\", \"probably\", \"probably\", \"probably\", \"probably\", \"probably\", \"probably\", \"problem\", \"problem\", \"problem\", \"problem\", \"problem\", \"problem\", \"problem\", \"problem\", \"prolonged eye\", \"property\", \"property\", \"property\", \"psalm\", \"psyched\", \"psyched\", \"psyched\", \"psyched\", \"psyched\", \"psyched\", \"puppy\", \"puppy\", \"pushed past\", \"quicksand\", \"quid\", \"quid\", \"quid\", \"quid\", \"quiz\", \"r kelly\", \"r o\", \"raise hand\", \"randy\", \"rape funny\", \"raped\", \"raped\", \"raped\", \"rational\", \"read\", \"read\", \"read\", \"read\", \"read\", \"read\", \"read\", \"read\", \"read\", \"read\", \"real\", \"real\", \"real\", \"real\", \"real\", \"real\", \"real\", \"real\", \"real estate\", \"reality\", \"relationship graph\", \"remember\", \"remember\", \"remember\", \"remember\", \"remember\", \"remember\", \"remember\", \"remember\", \"remember\", \"repeat stuff\", \"reporter\", \"reporter\", \"rice\", \"rice\", \"river view\", \"rivera\", \"rob\", \"rob\", \"robot\", \"robot\", \"robot\", \"roger\", \"rubbish\", \"sad\", \"sad\", \"sad\", \"sad\", \"sad\", \"sad\", \"salvation\", \"sample\", \"sat\", \"sat\", \"sat\", \"sat\", \"sat\", \"sat\", \"sat\", \"satan\", \"satan\", \"satellite dish\", \"saw\", \"saw\", \"saw\", \"saw\", \"saw\", \"saw\", \"saw\", \"saw\", \"saw\", \"saw\", \"saying\", \"saying\", \"saying\", \"saying\", \"saying\", \"saying\", \"saying\", \"saying\", \"saying\", \"school\", \"school\", \"school\", \"school\", \"school\", \"school\", \"school\", \"school\", \"science\", \"science\", \"science\", \"science\", \"science\", \"scients wont\", \"scotland\", \"scotland\", \"scotland\", \"scottish football\", \"sebastian\", \"seen\", \"seen\", \"seen\", \"seen\", \"seen\", \"seen\", \"seen\", \"seen\", \"self\", \"self\", \"self\", \"self\", \"self\", \"sell drug\", \"sheet\", \"sheet\", \"sherrod brown\", \"shes\", \"shes\", \"shes\", \"shes\", \"shes\", \"shes\", \"shes\", \"shes\", \"shes\", \"shes randy\", \"shh shh\", \"shit\", \"shit\", \"shit\", \"shit\", \"shit\", \"shit\", \"shit\", \"shit\", \"shit\", \"shit\", \"shite\", \"shite\", \"shite\", \"shite shite\", \"shite shite\", \"silence\", \"silence\", \"silence\", \"silence\", \"silence\", \"sing\", \"sing\", \"sing\", \"sing\", \"sir patrick\", \"situation\", \"situation\", \"situation\", \"situation\", \"situation\", \"situation\", \"situation\", \"sized\", \"slumdog\", \"slut\", \"slut\", \"slutty\", \"somebody\", \"somebody\", \"somebody\", \"somebody\", \"somebody\", \"song\", \"song\", \"song\", \"song\", \"song\", \"song\", \"song\", \"song\", \"song\", \"sonic forest\", \"sort\", \"sort\", \"sort\", \"sort\", \"sort\", \"sort\", \"sort\", \"sort\", \"sort\", \"sorta\", \"spanish\", \"spastic\", \"specie\", \"spider ready\", \"start\", \"start\", \"start\", \"start\", \"start\", \"start\", \"start\", \"start\", \"start\", \"start\", \"started\", \"started\", \"started\", \"started\", \"started\", \"started\", \"started\", \"started\", \"started\", \"started\", \"stomp\", \"story\", \"story\", \"story\", \"story\", \"story\", \"story\", \"story\", \"story\", \"story\", \"straight white\", \"street smart\", \"struck vehicle\", \"struggle\", \"struggle\", \"stu\", \"stuff\", \"stuff\", \"stuff\", \"stuff\", \"stuff\", \"stuff\", \"stuff\", \"stuff\", \"stuff\", \"stuff\", \"suck cock\", \"suicide bomber\", \"svu\", \"swimming\", \"swimming\", \"talk\", \"talk\", \"talk\", \"talk\", \"talk\", \"talk\", \"talk\", \"talk\", \"talk\", \"tall\", \"tall\", \"tall\", \"tamil\", \"tape\", \"taxi\", \"taxi\", \"tell\", \"tell\", \"tell\", \"tell\", \"tell\", \"tell\", \"tell\", \"tell\", \"tell\", \"thank\", \"thank\", \"thank\", \"thank\", \"thank\", \"thank\", \"thank\", \"thank\", \"thank\", \"there\", \"there\", \"there\", \"there\", \"there\", \"there\", \"there\", \"there\", \"there\", \"there\", \"there horse\", \"third\", \"thought\", \"thought\", \"thought\", \"thought\", \"thought\", \"thought\", \"thought\", \"thought\", \"thought\", \"thought\", \"thriller\", \"thursday\", \"thursday\", \"thy\", \"tonight\", \"tonight\", \"tonight\", \"tonight\", \"tonight\", \"tonight\", \"tonight\", \"tonight\", \"tonight\", \"town\", \"town\", \"town\", \"town\", \"town\", \"town\", \"town\", \"town\", \"town\", \"toy\", \"tricked\", \"trophy\", \"try\", \"try\", \"try\", \"try\", \"try\", \"try\", \"try\", \"try\", \"try\", \"trying\", \"trying\", \"trying\", \"trying\", \"trying\", \"trying\", \"trying\", \"trying\", \"trying\", \"trying\", \"turkey\", \"turtle\", \"turtle\", \"turtle\", \"tv\", \"tv\", \"tv\", \"tv\", \"tv\", \"tv\", \"tv\", \"tv\", \"tv\", \"tweaking\", \"tweet\", \"tweet\", \"twitter\", \"twitter\", \"twitter\", \"ugh\", \"use\", \"use\", \"use\", \"use\", \"use\", \"use\", \"use\", \"used\", \"used\", \"used\", \"used\", \"used\", \"used\", \"used\", \"used\", \"used\", \"usher\", \"vegetable\", \"veronica\", \"vicar\", \"volcanic ash\", \"volcano\", \"waiver\", \"walk\", \"walk\", \"walk\", \"walk\", \"walk\", \"walk\", \"walk\", \"walk\", \"walk\", \"walked\", \"walked\", \"walked\", \"walked\", \"walked\", \"walked\", \"walked\", \"walked\", \"want\", \"want\", \"want\", \"want\", \"want\", \"want\", \"want\", \"want\", \"want\", \"want\", \"want fat\", \"washington post\", \"watching\", \"watching\", \"watching\", \"watching\", \"watching\", \"watching\", \"watching\", \"watching\", \"watching\", \"watching\", \"web company\", \"web site\", \"wednesday afternoon\", \"wee\", \"wee\", \"wee\", \"went\", \"went\", \"went\", \"went\", \"went\", \"went\", \"went\", \"went\", \"went\", \"went\", \"wheelchair\", \"white\", \"white\", \"white\", \"white\", \"white\", \"white\", \"white\", \"white\", \"whoa\", \"whoa\", \"whoa\", \"whoa\", \"whoa\", \"whoa\", \"whoa\", \"whoa\", \"whoa whoa\", \"whoa whoa\", \"whoa whoa\", \"wicked\", \"wife\", \"wife\", \"wife\", \"wife\", \"wife\", \"wife\", \"wife\", \"wife\", \"wife\", \"wife bitch\", \"wig\", \"william shakespeare\", \"willow\", \"wireless network\", \"wolf\", \"wolf\", \"wolf\", \"wolf wolf\", \"woman\", \"woman\", \"woman\", \"woman\", \"woman\", \"woman\", \"woman\", \"woman\", \"woman\", \"woodwork\", \"word\", \"word\", \"word\", \"word\", \"word\", \"word\", \"word\", \"word\", \"word\", \"word\", \"work\", \"work\", \"work\", \"work\", \"work\", \"work\", \"work\", \"work\", \"work\", \"work\", \"world\", \"world\", \"world\", \"world\", \"world\", \"world\", \"world\", \"world\", \"world\", \"write\", \"write\", \"write\", \"write\", \"write\", \"write\", \"write\", \"write\", \"writes\", \"xanax\", \"ya home\", \"yall\", \"yall\", \"yall\", \"year\", \"year\", \"year\", \"year\", \"year\", \"year\", \"year\", \"year\", \"year\", \"year\", \"year old\", \"year old\", \"year old\", \"year old\", \"year old\", \"year old\", \"year old\", \"year old\", \"year old\", \"yo mama\", \"york\", \"york\", \"york\", \"york\", \"youd\", \"youd\", \"youd\", \"youd\", \"youd\", \"youd\", \"youd\", \"youll drink\", \"young\", \"young\", \"young\", \"young\", \"young\", \"young\", \"young\", \"young\", \"youve changed\", \"youve changed\"]}, \"R\": 30, \"lambda.step\": 0.01, \"plot.opts\": {\"xlab\": \"PC1\", \"ylab\": \"PC2\"}, \"topic.order\": [7, 9, 5, 10, 6, 3, 2, 4, 1, 8]};\n",
       "\n",
       "function LDAvis_load_lib(url, callback){\n",
       "  var s = document.createElement('script');\n",
       "  s.src = url;\n",
       "  s.async = true;\n",
       "  s.onreadystatechange = s.onload = callback;\n",
       "  s.onerror = function(){console.warn(\"failed to load library \" + url);};\n",
       "  document.getElementsByTagName(\"head\")[0].appendChild(s);\n",
       "}\n",
       "\n",
       "if(typeof(LDAvis) !== \"undefined\"){\n",
       "   // already loaded: just create the visualization\n",
       "   !function(LDAvis){\n",
       "       new LDAvis(\"#\" + \"ldavis_el2131624682879138001651416768\", ldavis_el2131624682879138001651416768_data);\n",
       "   }(LDAvis);\n",
       "}else if(typeof define === \"function\" && define.amd){\n",
       "   // require.js is available: use it to load d3/LDAvis\n",
       "   require.config({paths: {d3: \"https://d3js.org/d3.v5\"}});\n",
       "   require([\"d3\"], function(d3){\n",
       "      window.d3 = d3;\n",
       "      LDAvis_load_lib(\"https://cdn.jsdelivr.net/gh/bmabey/pyLDAvis@3.3.1/pyLDAvis/js/ldavis.v3.0.0.js\", function(){\n",
       "        new LDAvis(\"#\" + \"ldavis_el2131624682879138001651416768\", ldavis_el2131624682879138001651416768_data);\n",
       "      });\n",
       "    });\n",
       "}else{\n",
       "    // require.js not available: dynamically load d3 & LDAvis\n",
       "    LDAvis_load_lib(\"https://d3js.org/d3.v5.js\", function(){\n",
       "         LDAvis_load_lib(\"https://cdn.jsdelivr.net/gh/bmabey/pyLDAvis@3.3.1/pyLDAvis/js/ldavis.v3.0.0.js\", function(){\n",
       "                 new LDAvis(\"#\" + \"ldavis_el2131624682879138001651416768\", ldavis_el2131624682879138001651416768_data);\n",
       "            })\n",
       "         });\n",
       "}\n",
       "</script>"
      ],
      "text/plain": [
       "PreparedData(topic_coordinates=              x         y  topics  cluster       Freq\n",
       "topic                                                \n",
       "6     -0.068225  0.008910       1        1  25.590724\n",
       "8     -0.058310 -0.003409       2        1  13.995488\n",
       "4     -0.076110  0.045089       3        1  13.454784\n",
       "9     -0.038604 -0.083515       4        1  11.029531\n",
       "5     -0.070283 -0.010963       5        1  10.964175\n",
       "2      0.032690  0.134698       6        1   7.952069\n",
       "1     -0.018060 -0.051127       7        1   6.798736\n",
       "3      0.094332  0.005292       8        1   4.408766\n",
       "0      0.076609  0.006374       9        1   3.578007\n",
       "7      0.125961 -0.051349      10        1   2.227720, topic_info=              Term       Freq       Total Category  logprob  loglift\n",
       "3455        fuckin  55.000000   55.000000  Default  30.0000  30.0000\n",
       "472           wife  48.000000   48.000000  Default  29.0000  29.0000\n",
       "5923  bill clinton  20.000000   20.000000  Default  28.0000  28.0000\n",
       "5087  repeat stuff  18.000000   18.000000  Default  27.0000  27.0000\n",
       "696            mom  37.000000   37.000000  Default  26.0000  26.0000\n",
       "...            ...        ...         ...      ...      ...      ...\n",
       "187             go   2.573484   92.102982  Topic10  -5.8905   0.2265\n",
       "381           shit   2.573343  109.688618  Topic10  -5.8905   0.0518\n",
       "239            kid   2.573337  123.418043  Topic10  -5.8905  -0.0662\n",
       "106            day   2.574258  173.784993  Topic10  -5.8902  -0.4081\n",
       "952          going   2.070011  218.024974  Topic10  -6.1082  -0.8529\n",
       "\n",
       "[733 rows x 6 columns], token_table=      Topic      Freq            Term\n",
       "term                                 \n",
       "8577     10  0.877960  accident today\n",
       "6677      7  0.658690         act god\n",
       "3         1  0.305561        actually\n",
       "3         2  0.125819        actually\n",
       "3         3  0.089871        actually\n",
       "...     ...       ...             ...\n",
       "486       7  0.030152           young\n",
       "486       8  0.030152           young\n",
       "486       9  0.120608           young\n",
       "5114      3  0.243520   youve changed\n",
       "5114      9  0.730561   youve changed\n",
       "\n",
       "[1747 rows x 3 columns], R=30, lambda_step=0.01, plot_opts={'xlab': 'PC1', 'ylab': 'PC2'}, topic_order=[7, 9, 5, 10, 6, 3, 2, 4, 1, 8])"
      ]
     },
     "execution_count": 297,
     "metadata": {},
     "output_type": "execute_result"
    }
   ],
   "source": [
    "pyLDAvis.enable_notebook()\n",
    "vis = gensim_models.prepare(lda_model_output, lda_corpus, dictionary = lda_model_output.id2word)\n",
    "vis"
   ]
  },
  {
   "cell_type": "code",
   "execution_count": 298,
   "id": "200d93aa",
   "metadata": {},
   "outputs": [],
   "source": [
    "all_topics = {}\n",
    "lambd = 0.5\n",
    "for i in range(1,num_topics+1):\n",
    "    topic = vis.topic_info[vis.topic_info.Category == 'Topic'+str(i)]\n",
    "    topic['relevance'] = topic['loglift']*(1-lambd) + topic['logprob']*lambd\n",
    "    all_topics['Topic '+str(i)] = topic.sort_values(by = 'relevance', ascending = False).Term[:15].values\n",
    "\n",
    "relevant_terms = pd.DataFrame(all_topics)"
   ]
  },
  {
   "cell_type": "code",
   "execution_count": 299,
   "id": "ae8632b0",
   "metadata": {},
   "outputs": [
    {
     "data": {
      "text/html": [
       "<div>\n",
       "<style scoped>\n",
       "    .dataframe tbody tr th:only-of-type {\n",
       "        vertical-align: middle;\n",
       "    }\n",
       "\n",
       "    .dataframe tbody tr th {\n",
       "        vertical-align: top;\n",
       "    }\n",
       "\n",
       "    .dataframe thead th {\n",
       "        text-align: right;\n",
       "    }\n",
       "</style>\n",
       "<table border=\"1\" class=\"dataframe\">\n",
       "  <thead>\n",
       "    <tr style=\"text-align: right;\">\n",
       "      <th></th>\n",
       "      <th>Topic 1</th>\n",
       "      <th>Topic 2</th>\n",
       "      <th>Topic 3</th>\n",
       "      <th>Topic 4</th>\n",
       "      <th>Topic 5</th>\n",
       "      <th>Topic 6</th>\n",
       "      <th>Topic 7</th>\n",
       "      <th>Topic 8</th>\n",
       "      <th>Topic 9</th>\n",
       "      <th>Topic 10</th>\n",
       "    </tr>\n",
       "  </thead>\n",
       "  <tbody>\n",
       "    <tr>\n",
       "      <th>0</th>\n",
       "      <td>fucking</td>\n",
       "      <td>fuckin</td>\n",
       "      <td>kevin</td>\n",
       "      <td>randy</td>\n",
       "      <td>god</td>\n",
       "      <td>funny funny</td>\n",
       "      <td>fat</td>\n",
       "      <td>bill clinton</td>\n",
       "      <td>repeat stuff</td>\n",
       "      <td>river view</td>\n",
       "    </tr>\n",
       "    <tr>\n",
       "      <th>1</th>\n",
       "      <td>going</td>\n",
       "      <td>indian</td>\n",
       "      <td>nut</td>\n",
       "      <td>r kelly</td>\n",
       "      <td>tweet</td>\n",
       "      <td>batman</td>\n",
       "      <td>hey wanna</td>\n",
       "      <td>ballroom</td>\n",
       "      <td>horse</td>\n",
       "      <td>cold stone</td>\n",
       "    </tr>\n",
       "    <tr>\n",
       "      <th>2</th>\n",
       "      <td>da club</td>\n",
       "      <td>white</td>\n",
       "      <td>fucking</td>\n",
       "      <td>went</td>\n",
       "      <td>bruce jenner</td>\n",
       "      <td>prolonged eye</td>\n",
       "      <td>cancel</td>\n",
       "      <td>mr finch</td>\n",
       "      <td>andy</td>\n",
       "      <td>writes</td>\n",
       "    </tr>\n",
       "    <tr>\n",
       "      <th>3</th>\n",
       "      <td>mate</td>\n",
       "      <td>feel</td>\n",
       "      <td>rice</td>\n",
       "      <td>leaflet</td>\n",
       "      <td>bob</td>\n",
       "      <td>fck</td>\n",
       "      <td>phil</td>\n",
       "      <td>ice t</td>\n",
       "      <td>gazebo</td>\n",
       "      <td>edelstein</td>\n",
       "    </tr>\n",
       "    <tr>\n",
       "      <th>4</th>\n",
       "      <td>wee</td>\n",
       "      <td>stuff</td>\n",
       "      <td>mr cassidy</td>\n",
       "      <td>darwish</td>\n",
       "      <td>vicar</td>\n",
       "      <td>contact prolonged</td>\n",
       "      <td>mick jagger</td>\n",
       "      <td>mom</td>\n",
       "      <td>bo god</td>\n",
       "      <td>harris</td>\n",
       "    </tr>\n",
       "    <tr>\n",
       "      <th>5</th>\n",
       "      <td>plane</td>\n",
       "      <td>good</td>\n",
       "      <td>left brain</td>\n",
       "      <td>gandhi</td>\n",
       "      <td>goat</td>\n",
       "      <td>slut</td>\n",
       "      <td>calorie</td>\n",
       "      <td>president</td>\n",
       "      <td>wife</td>\n",
       "      <td>sonic forest</td>\n",
       "    </tr>\n",
       "    <tr>\n",
       "      <th>6</th>\n",
       "      <td>kid</td>\n",
       "      <td>okay</td>\n",
       "      <td>wig</td>\n",
       "      <td>politics</td>\n",
       "      <td>chimp</td>\n",
       "      <td>piece called</td>\n",
       "      <td>fat person</td>\n",
       "      <td>kimble</td>\n",
       "      <td>psalm</td>\n",
       "      <td>clarence</td>\n",
       "    </tr>\n",
       "    <tr>\n",
       "      <th>7</th>\n",
       "      <td>dad</td>\n",
       "      <td>aziz</td>\n",
       "      <td>stu</td>\n",
       "      <td>kanye</td>\n",
       "      <td>twitter</td>\n",
       "      <td>sad</td>\n",
       "      <td>pretend busy</td>\n",
       "      <td>svu</td>\n",
       "      <td>roger</td>\n",
       "      <td>whoa</td>\n",
       "    </tr>\n",
       "    <tr>\n",
       "      <th>8</th>\n",
       "      <td>look</td>\n",
       "      <td>there</td>\n",
       "      <td>shite shite</td>\n",
       "      <td>lazy mouse</td>\n",
       "      <td>bar crazy</td>\n",
       "      <td>eye contact</td>\n",
       "      <td>mong</td>\n",
       "      <td>clinton</td>\n",
       "      <td>mr burnham</td>\n",
       "      <td>tweaking</td>\n",
       "    </tr>\n",
       "    <tr>\n",
       "      <th>9</th>\n",
       "      <td>hey</td>\n",
       "      <td>pill</td>\n",
       "      <td>gav</td>\n",
       "      <td>probably</td>\n",
       "      <td>specie</td>\n",
       "      <td>doctor</td>\n",
       "      <td>suck cock</td>\n",
       "      <td>shh shh</td>\n",
       "      <td>bread god</td>\n",
       "      <td>salvation</td>\n",
       "    </tr>\n",
       "    <tr>\n",
       "      <th>10</th>\n",
       "      <td>getting</td>\n",
       "      <td>linger pale</td>\n",
       "      <td>fry</td>\n",
       "      <td>awful</td>\n",
       "      <td>message</td>\n",
       "      <td>bo</td>\n",
       "      <td>pepa</td>\n",
       "      <td>office</td>\n",
       "      <td>there horse</td>\n",
       "      <td>accident today</td>\n",
       "    </tr>\n",
       "    <tr>\n",
       "      <th>11</th>\n",
       "      <td>okay</td>\n",
       "      <td>woman</td>\n",
       "      <td>kev</td>\n",
       "      <td>come</td>\n",
       "      <td>okay</td>\n",
       "      <td>hate</td>\n",
       "      <td>make plan</td>\n",
       "      <td>ya home</td>\n",
       "      <td>hospital</td>\n",
       "      <td>quiz</td>\n",
       "    </tr>\n",
       "    <tr>\n",
       "      <th>12</th>\n",
       "      <td>went</td>\n",
       "      <td>dude</td>\n",
       "      <td>trying</td>\n",
       "      <td>used</td>\n",
       "      <td>noah</td>\n",
       "      <td>art</td>\n",
       "      <td>cake</td>\n",
       "      <td>hey walk</td>\n",
       "      <td>love song</td>\n",
       "      <td>hate phrase</td>\n",
       "    </tr>\n",
       "    <tr>\n",
       "      <th>13</th>\n",
       "      <td>looking</td>\n",
       "      <td>meat</td>\n",
       "      <td>swimming</td>\n",
       "      <td>sorta</td>\n",
       "      <td>earth</td>\n",
       "      <td>mike mike</td>\n",
       "      <td>cock</td>\n",
       "      <td>quicksand</td>\n",
       "      <td>bo bo</td>\n",
       "      <td>extra point</td>\n",
       "    </tr>\n",
       "    <tr>\n",
       "      <th>14</th>\n",
       "      <td>need</td>\n",
       "      <td>chicken</td>\n",
       "      <td>doofer</td>\n",
       "      <td>thriller</td>\n",
       "      <td>fucking</td>\n",
       "      <td>xanax</td>\n",
       "      <td>heroin</td>\n",
       "      <td>york</td>\n",
       "      <td>youve changed</td>\n",
       "      <td>struck vehicle</td>\n",
       "    </tr>\n",
       "  </tbody>\n",
       "</table>\n",
       "</div>"
      ],
      "text/plain": [
       "    Topic 1      Topic 2      Topic 3     Topic 4       Topic 5  \\\n",
       "0   fucking       fuckin        kevin       randy           god   \n",
       "1     going       indian          nut     r kelly         tweet   \n",
       "2   da club        white      fucking        went  bruce jenner   \n",
       "3      mate         feel         rice     leaflet           bob   \n",
       "4       wee        stuff   mr cassidy     darwish         vicar   \n",
       "5     plane         good   left brain      gandhi          goat   \n",
       "6       kid         okay          wig    politics         chimp   \n",
       "7       dad         aziz          stu       kanye       twitter   \n",
       "8      look        there  shite shite  lazy mouse     bar crazy   \n",
       "9       hey         pill          gav    probably        specie   \n",
       "10  getting  linger pale          fry       awful       message   \n",
       "11     okay        woman          kev        come          okay   \n",
       "12     went         dude       trying        used          noah   \n",
       "13  looking         meat     swimming       sorta         earth   \n",
       "14     need      chicken       doofer    thriller       fucking   \n",
       "\n",
       "              Topic 6       Topic 7       Topic 8        Topic 9  \\\n",
       "0         funny funny           fat  bill clinton   repeat stuff   \n",
       "1              batman     hey wanna      ballroom          horse   \n",
       "2       prolonged eye        cancel      mr finch           andy   \n",
       "3                 fck          phil         ice t         gazebo   \n",
       "4   contact prolonged   mick jagger           mom         bo god   \n",
       "5                slut       calorie     president           wife   \n",
       "6        piece called    fat person        kimble          psalm   \n",
       "7                 sad  pretend busy           svu          roger   \n",
       "8         eye contact          mong       clinton     mr burnham   \n",
       "9              doctor     suck cock       shh shh      bread god   \n",
       "10                 bo          pepa        office    there horse   \n",
       "11               hate     make plan       ya home       hospital   \n",
       "12                art          cake      hey walk      love song   \n",
       "13          mike mike          cock     quicksand          bo bo   \n",
       "14              xanax        heroin          york  youve changed   \n",
       "\n",
       "          Topic 10  \n",
       "0       river view  \n",
       "1       cold stone  \n",
       "2           writes  \n",
       "3        edelstein  \n",
       "4           harris  \n",
       "5     sonic forest  \n",
       "6         clarence  \n",
       "7             whoa  \n",
       "8         tweaking  \n",
       "9        salvation  \n",
       "10  accident today  \n",
       "11            quiz  \n",
       "12     hate phrase  \n",
       "13     extra point  \n",
       "14  struck vehicle  "
      ]
     },
     "execution_count": 299,
     "metadata": {},
     "output_type": "execute_result"
    }
   ],
   "source": [
    "relevant_terms"
   ]
  },
  {
   "cell_type": "markdown",
   "id": "6eb46c54",
   "metadata": {},
   "source": [
    "Our model has done its best to create some topics from our various sketches, however given the small volume of documents and large number of possible topics, they still aren't hugely coherent. "
   ]
  },
  {
   "cell_type": "code",
   "execution_count": 300,
   "id": "144f57aa",
   "metadata": {},
   "outputs": [],
   "source": [
    "def get_dominant_topic(lda_model, dictionary, doc):\n",
    "    topic_weights = lda_model.get_document_topics(dictionary.doc2bow(doc))\n",
    "    sorted_topic_weights = sorted(topic_weights, key = lambda x: x[1], reverse = True)\n",
    "    while len(sorted_topic_weights) < 3:\n",
    "        sorted_topic_weights.append((99,0))\n",
    "    output = []\n",
    "    for i in range(0,3):\n",
    "        output.append(sorted_topic_weights[i][0])\n",
    "        output.append(sorted_topic_weights[i][1])\n",
    "    return output"
   ]
  },
  {
   "cell_type": "code",
   "execution_count": 301,
   "id": "2d6b1c4b",
   "metadata": {},
   "outputs": [],
   "source": [
    "split_sketches['dominant_topic_1'], split_sketches['topic_weight_1'], split_sketches['dominant_topic_2'], split_sketches['topic_weight_2'], \\\n",
    "    split_sketches['dominant_topic_3'], split_sketches['topic_weight_3'] = \\\n",
    "        zip(*split_sketches.apply(lambda x: get_dominant_topic(lda_model_output, lda_dict, tokenize_text(x['prepped_text'])), axis = 1))"
   ]
  },
  {
   "cell_type": "code",
   "execution_count": 302,
   "id": "efc32986",
   "metadata": {},
   "outputs": [],
   "source": [
    "temp_data = split_sketches.groupby(['dominant_topic_1'])['dominant_topic_1'].count()\n",
    "temp_frame = temp_data.to_frame('topic_counts')\n",
    "temp_frame['new_index'] = range(0, temp_data.shape[0])\n",
    "temp_frame = temp_frame.sort_values('topic_counts', ascending=False)\n",
    "temp_frame = temp_frame.reset_index(drop=True)"
   ]
  },
  {
   "cell_type": "code",
   "execution_count": 303,
   "id": "6f74cbb9",
   "metadata": {},
   "outputs": [],
   "source": [
    "topic_mapping = {99:99}\n",
    "for i in range(0, temp_data.shape[0]):\n",
    "    topic_mapping[temp_frame.new_index[i]] = i+1"
   ]
  },
  {
   "cell_type": "code",
   "execution_count": 304,
   "id": "a7ea8150",
   "metadata": {},
   "outputs": [],
   "source": [
    "def remap_topics(input_topic):\n",
    "    return int(topic_mapping[input_topic])"
   ]
  },
  {
   "cell_type": "code",
   "execution_count": 305,
   "id": "f3c04a6e",
   "metadata": {},
   "outputs": [],
   "source": [
    "split_sketches['dominant_topic_1'] = split_sketches['dominant_topic_1'].apply(remap_topics)\n",
    "split_sketches['dominant_topic_2'] = split_sketches['dominant_topic_2'].apply(remap_topics)\n",
    "split_sketches['dominant_topic_3'] = split_sketches['dominant_topic_3'].apply(remap_topics)"
   ]
  },
  {
   "cell_type": "code",
   "execution_count": 306,
   "id": "c0275392",
   "metadata": {
    "scrolled": false
   },
   "outputs": [
    {
     "data": {
      "text/html": [
       "<div>\n",
       "<style scoped>\n",
       "    .dataframe tbody tr th:only-of-type {\n",
       "        vertical-align: middle;\n",
       "    }\n",
       "\n",
       "    .dataframe tbody tr th {\n",
       "        vertical-align: top;\n",
       "    }\n",
       "\n",
       "    .dataframe thead th {\n",
       "        text-align: right;\n",
       "    }\n",
       "</style>\n",
       "<table border=\"1\" class=\"dataframe\">\n",
       "  <thead>\n",
       "    <tr style=\"text-align: right;\">\n",
       "      <th></th>\n",
       "      <th>dominant_topic_1</th>\n",
       "      <th>topic_weight_1</th>\n",
       "      <th>dominant_topic_2</th>\n",
       "      <th>topic_weight_2</th>\n",
       "      <th>dominant_topic_3</th>\n",
       "      <th>topic_weight_3</th>\n",
       "    </tr>\n",
       "  </thead>\n",
       "  <tbody>\n",
       "    <tr>\n",
       "      <th>Bo Burnham - Words Words Words 0</th>\n",
       "      <td>5</td>\n",
       "      <td>0.936758</td>\n",
       "      <td>3</td>\n",
       "      <td>0.047085</td>\n",
       "      <td>2</td>\n",
       "      <td>0.013041</td>\n",
       "    </tr>\n",
       "    <tr>\n",
       "      <th>Bo Burnham - Words Words Words 1</th>\n",
       "      <td>5</td>\n",
       "      <td>0.939783</td>\n",
       "      <td>4</td>\n",
       "      <td>0.024259</td>\n",
       "      <td>8</td>\n",
       "      <td>0.014678</td>\n",
       "    </tr>\n",
       "    <tr>\n",
       "      <th>Bo Burnham - Words Words Words 2</th>\n",
       "      <td>1</td>\n",
       "      <td>0.742077</td>\n",
       "      <td>5</td>\n",
       "      <td>0.155366</td>\n",
       "      <td>6</td>\n",
       "      <td>0.048639</td>\n",
       "    </tr>\n",
       "    <tr>\n",
       "      <th>Bo Burnham - What 0</th>\n",
       "      <td>5</td>\n",
       "      <td>0.934728</td>\n",
       "      <td>2</td>\n",
       "      <td>0.047425</td>\n",
       "      <td>1</td>\n",
       "      <td>0.017107</td>\n",
       "    </tr>\n",
       "    <tr>\n",
       "      <th>Bo Burnham - What 1</th>\n",
       "      <td>2</td>\n",
       "      <td>0.976807</td>\n",
       "      <td>6</td>\n",
       "      <td>0.022240</td>\n",
       "      <td>99</td>\n",
       "      <td>0.000000</td>\n",
       "    </tr>\n",
       "  </tbody>\n",
       "</table>\n",
       "</div>"
      ],
      "text/plain": [
       "                                  dominant_topic_1  topic_weight_1  \\\n",
       "Bo Burnham - Words Words Words 0                 5        0.936758   \n",
       "Bo Burnham - Words Words Words 1                 5        0.939783   \n",
       "Bo Burnham - Words Words Words 2                 1        0.742077   \n",
       "Bo Burnham - What 0                              5        0.934728   \n",
       "Bo Burnham - What 1                              2        0.976807   \n",
       "\n",
       "                                  dominant_topic_2  topic_weight_2  \\\n",
       "Bo Burnham - Words Words Words 0                 3        0.047085   \n",
       "Bo Burnham - Words Words Words 1                 4        0.024259   \n",
       "Bo Burnham - Words Words Words 2                 5        0.155366   \n",
       "Bo Burnham - What 0                              2        0.047425   \n",
       "Bo Burnham - What 1                              6        0.022240   \n",
       "\n",
       "                                  dominant_topic_3  topic_weight_3  \n",
       "Bo Burnham - Words Words Words 0                 2        0.013041  \n",
       "Bo Burnham - Words Words Words 1                 8        0.014678  \n",
       "Bo Burnham - Words Words Words 2                 6        0.048639  \n",
       "Bo Burnham - What 0                              1        0.017107  \n",
       "Bo Burnham - What 1                             99        0.000000  "
      ]
     },
     "execution_count": 306,
     "metadata": {},
     "output_type": "execute_result"
    }
   ],
   "source": [
    "split_sketches.loc[:,'dominant_topic_1':'topic_weight_3'].head()"
   ]
  },
  {
   "cell_type": "markdown",
   "id": "8be9ac74",
   "metadata": {},
   "source": [
    "We can see that other than the first part of the Bo Burnham make happy, the dominant topic has about 75% weighting of the sketch part."
   ]
  },
  {
   "cell_type": "code",
   "execution_count": 307,
   "id": "5069d0dc",
   "metadata": {},
   "outputs": [],
   "source": [
    "split_sketches.drop(columns=['topic_weight_3','dominant_topic_3'], inplace=True)\n",
    "split_sketches['Temp'] = split_sketches.index\n",
    "new = split_sketches['Temp'].str.split(\"-\", n = 1, expand = True)\n",
    "split_sketches['Comedian'] = new[0]\n",
    "split_sketches['Show_num'] = split_sketches['Temp'].str.slice(start=-1)\n",
    "split_sketches['Faux_index'] = range(0,split_sketches.shape[0])\n",
    "#split_sketches['Comedian', 'Show'] = split_sketches.index.str.split('-',expand=True)"
   ]
  },
  {
   "cell_type": "code",
   "execution_count": 308,
   "id": "40d2cd9f",
   "metadata": {},
   "outputs": [],
   "source": [
    "graph_df = pd.wide_to_long(split_sketches, ['dominant_topic_'], i='Faux_index', j='Dominant Topic Order')\n",
    "graph_df.reset_index(inplace = True)\n",
    "graph_df.rename(columns={'dominant_topic_':'Dominant Topic'}, inplace=True)"
   ]
  },
  {
   "cell_type": "code",
   "execution_count": 309,
   "id": "3887af52",
   "metadata": {},
   "outputs": [
    {
     "data": {
      "text/plain": [
       "<matplotlib.legend.Legend at 0x23ea2f247f0>"
      ]
     },
     "execution_count": 309,
     "metadata": {},
     "output_type": "execute_result"
    },
    {
     "data": {
      "image/png": "[encoded data removed]",
      "text/plain": [
       "<Figure size 720x432 with 1 Axes>"
      ]
     },
     "metadata": {
      "needs_background": "light"
     },
     "output_type": "display_data"
    }
   ],
   "source": [
    "plt.figure(figsize = (10,6))\n",
    "axs = sns.swarmplot(data=graph_df, x='Comedian', y='Dominant Topic', hue='Show_num', size=8, palette='bright')\n",
    "axs.set_ylim(0,12)\n",
    "handles, labels = axs.get_legend_handles_labels()\n",
    "axs.legend(handles=handles, labels=labels, title='Show Order', loc='upper left')"
   ]
  },
  {
   "cell_type": "markdown",
   "id": "a55f9bce",
   "metadata": {},
   "source": [
    "Unsuprisingly, a lot of the comics have Topic 1 in their top topics. Looking back at topic 1 in the pyLDAvis, we can see that topic 1 seems to refer to Family, Friends and generic story words so it makes sense that we see these crop up often.\n",
    "It's more important to look at the blue dots, as these show by far the most dominant topic for each section of the comedians sketch. \n",
    "- Bo and Ricky clearly have 3 favoured topics each. \n",
    "- John is mostly focussed on two topics.\n",
    "- Kevin almost exclusively focuses on a single topic.\n",
    "- Aziz has the most varied sketches, which seem to focus on a wide range of topics."
   ]
  },
  {
   "cell_type": "code",
   "execution_count": null,
   "id": "a0d8abe8",
   "metadata": {},
   "outputs": [],
   "source": []
  },
  {
   "cell_type": "code",
   "execution_count": null,
   "id": "f98a643e",
   "metadata": {},
   "outputs": [],
   "source": []
  }
 ],
 "metadata": {
  "kernelspec": {
   "display_name": "Python 3",
   "language": "python",
   "name": "python3"
  },
  "language_info": {
   "codemirror_mode": {
    "name": "ipython",
    "version": 3
   },
   "file_extension": ".py",
   "mimetype": "text/x-python",
   "name": "python",
   "nbconvert_exporter": "python",
   "pygments_lexer": "ipython3",
   "version": "3.7.3"
  }
 },
 "nbformat": 4,
 "nbformat_minor": 5
}
